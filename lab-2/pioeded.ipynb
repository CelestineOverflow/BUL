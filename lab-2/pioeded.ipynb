{
 "cells": [
  {
   "cell_type": "code",
   "execution_count": null,
   "metadata": {},
   "outputs": [],
   "source": [
    "import time, sys, os, subprocess, serial, json\n",
    "import pandas as pd\n",
    "import numpy as np\n",
    "import plotly.express as px"
   ]
  },
  {
   "cell_type": "code",
   "execution_count": null,
   "metadata": {},
   "outputs": [],
   "source": [
    "def read_data_to_csv(file_path, filename):\n",
    "    for k in range(5):\n",
    "        if not os.path.exists(file_path):\n",
    "            os.makedirs(file_path)\n",
    "        ser = serial.Serial('COM4', 115200, timeout=1)\n",
    "        linesToRead = 1000\n",
    "        data = []\n",
    "        for i in range(0, linesToRead):\n",
    "            try:\n",
    "                line = ser.readline().decode('utf-8')\n",
    "                data.append(line)\n",
    "            except:\n",
    "                print(\"Error reading from serial port\")\n",
    "                continue\n",
    "        ser.close()\n",
    "\n",
    "        data_arr = []\n",
    "        \n",
    "        for line in data:\n",
    "            try:\n",
    "                data_arr.append(json.loads(line))\n",
    "            except:\n",
    "                continue\n",
    "            #load all json data into a dataframe\n",
    "            df = pd.json_normalize(data_arr)\n",
    "            if not os.path.exists(file_path):\n",
    "                os.makedirs(file_path)\n",
    "            df.to_csv(os.path.join(file_path, filename + '_' + str(k) + '.csv'))"
   ]
  },
  {
   "cell_type": "code",
   "execution_count": null,
   "metadata": {},
   "outputs": [],
   "source": [
    "device = 'COM3'\n",
    "baudrate = 115200\n",
    "result_dir = 'negative'\n",
    "project_dir = r'C:\\Users\\celes\\OneDrive\\Documents\\PlatformIO\\Projects\\imu'\n",
    "main_file = r'main.cpp'\n",
    "bat_file = 'test.bat'\n",
    "options = {\n",
    "    'filter_settings': ['SET_FILTER_5HZ', 'SET_FILTER_10HZ', 'SET_FILTER_21HZ', 'SET_FILTER_44HZ', 'SET_FILTER_94HZ', 'SET_FILTER_184HZ', 'SET_FILTER_260HZ'],\n",
    "    'accelerometer_range': ['SET_ACC_2G', 'SET_ACC_4G', 'SET_ACC_8G', 'SET_ACC_16G'],\n",
    "    'gyroscope_range': ['SET_GYRO_250', 'SET_GYRO_500', 'SET_GYRO_1000', 'SET_GYRO_2000']\n",
    "}\n",
    "\n",
    "keywords = ['@filter_setting', '@accelerometer_setting', '@gyroscope_setting']\n",
    "for filter_setting in options['filter_settings']:\n",
    "    for accelerometer_range in options['accelerometer_range']:\n",
    "        for gyroscope_range in options['gyroscope_range']:\n",
    "            #check if the conbinations already exist\n",
    "            if os.path.exists(result_dir + r'\\data' + '\\\\' + filter_setting + '_' + accelerometer_range + '_' + gyroscope_range + '_0.csv'):\n",
    "                continue\n",
    "            #open the file main.cpp and change %FILTER_SETTING% to filter_setting\n",
    "            template = \"\"\n",
    "            filedata = open(main_file, 'r').read()\n",
    "            filedata = filedata.replace(keywords[0], filter_setting)\n",
    "            filedata = filedata.replace(keywords[1], accelerometer_range)\n",
    "            filedata = filedata.replace(keywords[2], gyroscope_range)\n",
    "            # overwrite the file\n",
    "            with open(project_dir + '\\src\\main.cpp', 'w') as file:\n",
    "                file.write(filedata)\n",
    "                file.close()\n",
    "            p = subprocess.Popen(bat_file, stdout=subprocess.PIPE, stderr=subprocess.STDOUT)\n",
    "            os.system('cls')\n",
    "            lines = p.stdout.readlines()\n",
    "            build_success = False\n",
    "            for line in lines:\n",
    "                if line.decode('utf-8').find('SUCCESS') != -1:\n",
    "                    print(line.decode('utf-8'))\n",
    "                    build_success = True\n",
    "                    break\n",
    "            if not build_success:\n",
    "                print('Build failed')\n",
    "                sys.exit()\n",
    "            p.wait()\n",
    "            #wait 5 seconds for the program to run\n",
    "            time.sleep(5)\n",
    "            #read the data from the serial port\n",
    "            read_data_to_csv(result_dir + r'\\data', filter_setting + '_' + accelerometer_range + '_' + gyroscope_range)\n"
   ]
  }
 ],
 "metadata": {
  "kernelspec": {
   "display_name": "Python 3",
   "language": "python",
   "name": "python3"
  },
  "language_info": {
   "codemirror_mode": {
    "name": "ipython",
    "version": 3
   },
   "file_extension": ".py",
   "mimetype": "text/x-python",
   "name": "python",
   "nbconvert_exporter": "python",
   "pygments_lexer": "ipython3",
   "version": "3.11.0"
  },
  "orig_nbformat": 4
 },
 "nbformat": 4,
 "nbformat_minor": 2
}
