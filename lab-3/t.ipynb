{
 "cells": [
  {
   "cell_type": "code",
   "execution_count": 211,
   "metadata": {},
   "outputs": [],
   "source": [
    "import plotly.express as px\n",
    "import pandas as pd\n",
    "import numpy as np\n",
    "import scipy as sp\n",
    "import matplotlib.pyplot as plt\n"
   ]
  },
  {
   "cell_type": "code",
   "execution_count": 212,
   "metadata": {},
   "outputs": [
    {
     "data": {
      "text/html": [
       "<div>\n",
       "<style scoped>\n",
       "    .dataframe tbody tr th:only-of-type {\n",
       "        vertical-align: middle;\n",
       "    }\n",
       "\n",
       "    .dataframe tbody tr th {\n",
       "        vertical-align: top;\n",
       "    }\n",
       "\n",
       "    .dataframe thead th {\n",
       "        text-align: right;\n",
       "    }\n",
       "</style>\n",
       "<table border=\"1\" class=\"dataframe\">\n",
       "  <thead>\n",
       "    <tr style=\"text-align: right;\">\n",
       "      <th></th>\n",
       "      <th>humidity</th>\n",
       "      <th>temperature</th>\n",
       "      <th>CO2</th>\n",
       "      <th>TVOC</th>\n",
       "      <th>CCTEMP</th>\n",
       "      <th>time</th>\n",
       "    </tr>\n",
       "  </thead>\n",
       "  <tbody>\n",
       "    <tr>\n",
       "      <th>0</th>\n",
       "      <td>47.0</td>\n",
       "      <td>25.8</td>\n",
       "      <td>438.0</td>\n",
       "      <td>5.0</td>\n",
       "      <td>25.8</td>\n",
       "      <td>0.870908</td>\n",
       "    </tr>\n",
       "    <tr>\n",
       "      <th>1</th>\n",
       "      <td>45.0</td>\n",
       "      <td>25.0</td>\n",
       "      <td>433.0</td>\n",
       "      <td>5.0</td>\n",
       "      <td>25.8</td>\n",
       "      <td>1.893039</td>\n",
       "    </tr>\n",
       "    <tr>\n",
       "      <th>2</th>\n",
       "      <td>45.0</td>\n",
       "      <td>25.0</td>\n",
       "      <td>423.0</td>\n",
       "      <td>3.0</td>\n",
       "      <td>25.8</td>\n",
       "      <td>2.860200</td>\n",
       "    </tr>\n",
       "    <tr>\n",
       "      <th>3</th>\n",
       "      <td>45.0</td>\n",
       "      <td>25.0</td>\n",
       "      <td>425.0</td>\n",
       "      <td>3.0</td>\n",
       "      <td>25.8</td>\n",
       "      <td>3.855630</td>\n",
       "    </tr>\n",
       "    <tr>\n",
       "      <th>4</th>\n",
       "      <td>44.0</td>\n",
       "      <td>25.0</td>\n",
       "      <td>427.0</td>\n",
       "      <td>4.0</td>\n",
       "      <td>25.8</td>\n",
       "      <td>4.872487</td>\n",
       "    </tr>\n",
       "    <tr>\n",
       "      <th>...</th>\n",
       "      <td>...</td>\n",
       "      <td>...</td>\n",
       "      <td>...</td>\n",
       "      <td>...</td>\n",
       "      <td>...</td>\n",
       "      <td>...</td>\n",
       "    </tr>\n",
       "    <tr>\n",
       "      <th>115</th>\n",
       "      <td>40.0</td>\n",
       "      <td>25.1</td>\n",
       "      <td>433.0</td>\n",
       "      <td>5.0</td>\n",
       "      <td>25.0</td>\n",
       "      <td>115.163976</td>\n",
       "    </tr>\n",
       "    <tr>\n",
       "      <th>116</th>\n",
       "      <td>40.0</td>\n",
       "      <td>25.1</td>\n",
       "      <td>433.0</td>\n",
       "      <td>5.0</td>\n",
       "      <td>25.0</td>\n",
       "      <td>116.129437</td>\n",
       "    </tr>\n",
       "    <tr>\n",
       "      <th>117</th>\n",
       "      <td>40.0</td>\n",
       "      <td>25.1</td>\n",
       "      <td>433.0</td>\n",
       "      <td>5.0</td>\n",
       "      <td>25.0</td>\n",
       "      <td>117.125084</td>\n",
       "    </tr>\n",
       "    <tr>\n",
       "      <th>118</th>\n",
       "      <td>40.0</td>\n",
       "      <td>25.9</td>\n",
       "      <td>433.0</td>\n",
       "      <td>5.0</td>\n",
       "      <td>25.0</td>\n",
       "      <td>118.145226</td>\n",
       "    </tr>\n",
       "    <tr>\n",
       "      <th>119</th>\n",
       "      <td>40.0</td>\n",
       "      <td>25.9</td>\n",
       "      <td>438.0</td>\n",
       "      <td>5.0</td>\n",
       "      <td>25.0</td>\n",
       "      <td>119.113263</td>\n",
       "    </tr>\n",
       "  </tbody>\n",
       "</table>\n",
       "<p>120 rows × 6 columns</p>\n",
       "</div>"
      ],
      "text/plain": [
       "     humidity  temperature    CO2  TVOC  CCTEMP        time\n",
       "0        47.0         25.8  438.0   5.0    25.8    0.870908\n",
       "1        45.0         25.0  433.0   5.0    25.8    1.893039\n",
       "2        45.0         25.0  423.0   3.0    25.8    2.860200\n",
       "3        45.0         25.0  425.0   3.0    25.8    3.855630\n",
       "4        44.0         25.0  427.0   4.0    25.8    4.872487\n",
       "..        ...          ...    ...   ...     ...         ...\n",
       "115      40.0         25.1  433.0   5.0    25.0  115.163976\n",
       "116      40.0         25.1  433.0   5.0    25.0  116.129437\n",
       "117      40.0         25.1  433.0   5.0    25.0  117.125084\n",
       "118      40.0         25.9  433.0   5.0    25.0  118.145226\n",
       "119      40.0         25.9  438.0   5.0    25.0  119.113263\n",
       "\n",
       "[120 rows x 6 columns]"
      ]
     },
     "metadata": {},
     "output_type": "display_data"
    }
   ],
   "source": [
    "file = r'Lab03_DHT11_CCS811\\Lab03_DHT11_CCS811\\data5.csv'\n",
    "\n",
    "\n",
    "df = pd.read_csv(file)\n",
    "df = df.dropna()\n",
    "df = df.drop(columns=['Unnamed: 0'])\n",
    "# #plot only from 10 to 20\n",
    "# df = df[10:130]\n",
    "#heat gun df = df[10:130] data 5.csv\n",
    "\n",
    "display(df)"
   ]
  },
  {
   "cell_type": "code",
   "execution_count": 213,
   "metadata": {},
   "outputs": [],
   "source": [
    "# #rename columns temperature and cc temp\n",
    "df = df.rename(columns={'temperature': 'Temperature DHT11', 'CCTEMP': 'Temperature CCS811'})"
   ]
  },
  {
   "cell_type": "code",
   "execution_count": 214,
   "metadata": {},
   "outputs": [],
   "source": [
    "\n",
    "# # temperature\n",
    "# fig = px.line(df, x='time', y=['Temperature DHT11', 'Temperature CCS811'])\n",
    "# fig.update_layout(\n",
    "#     title=\"Temperature DHT11 and CCS811 sensor\",\n",
    "#     xaxis_title=\"Time [s]\",\n",
    "#     yaxis_title=\"Temperature [°C]\",\n",
    "#     legend_title=\"Series\",\n",
    "# )\n",
    "# fig.show()\n",
    "# #humidity\n",
    "# fig = px.line(df, x='time', y=['humidity'])\n",
    "# fig.update_layout(\n",
    "#     title=\"Humidity DHT11 sensor\",\n",
    "#     xaxis_title=\"Time [s]\",\n",
    "#     yaxis_title=\"Humidity [%]\",\n",
    "#     legend_title=\"Series\",\n",
    "# )\n",
    "# fig.show()\n",
    "# #co2\n",
    "# fig = px.line(df, x='time', y=['CO2'])\n",
    "# fig.update_layout(\n",
    "#     title=\"CO2 CCS811 sensor\",\n",
    "#     xaxis_title=\"Time [s]\",\n",
    "#     yaxis_title=\"CO2 [ppm]\",\n",
    "#     legend_title=\"Series\",\n",
    "# )\n",
    "# fig.show()\n",
    "# #tvoc\n",
    "# fig = px.line(df, x='time', y=['TVOC'])\n",
    "# fig.update_layout(\n",
    "#     title=\"TVOC CCS811 sensor\",\n",
    "#     xaxis_title=\"Time [s]\",\n",
    "#     yaxis_title=\"TVOC [ppb]\",\n",
    "#     legend_title=\"Series\",\n",
    "# )"
   ]
  },
  {
   "cell_type": "code",
   "execution_count": 215,
   "metadata": {},
   "outputs": [
    {
     "data": {
      "application/vnd.plotly.v1+json": {
       "config": {
        "plotlyServerURL": "https://plot.ly"
       },
       "data": [
        {
         "hovertemplate": "variable=Temperature DHT11<br>time=%{x}<br>value=%{y}<extra></extra>",
         "legendgroup": "Temperature DHT11",
         "line": {
          "color": "#636efa",
          "dash": "solid"
         },
         "marker": {
          "symbol": "circle"
         },
         "mode": "lines",
         "name": "Temperature DHT11",
         "orientation": "v",
         "showlegend": true,
         "type": "scatter",
         "x": [
          0.8709084987640381,
          1.8930394649505613,
          2.8601996898651123,
          3.8556296825408936,
          4.87248682975769,
          5.841391801834106,
          6.836629867553711,
          7.857435464859009,
          8.825624704360962,
          9.819802522659302,
          10.838414192199709,
          11.805572986602783,
          12.799920320510864,
          13.820014238357544,
          14.786529779434204,
          15.779675960540771,
          16.797858238220215,
          17.767882823944092,
          18.76195764541626,
          19.778691053390503,
          20.74718022346497,
          21.740343809127808,
          22.76046347618103,
          23.7298424243927,
          24.719428300857544,
          25.74025273323059,
          26.710058450698853,
          27.70027780532837,
          28.721885204315186,
          29.68937349319458,
          30.681447744369507,
          31.700834035873413,
          32.66772270202637,
          33.662532806396484,
          34.67948269844055,
          35.64937210083008,
          36.64345049858093,
          37.659993171691895,
          38.629618406295776,
          39.622859716415405,
          40.64195370674133,
          41.609421253204346,
          42.60266423225403,
          43.62218999862671,
          44.58798360824585,
          45.58203029632568,
          46.60287070274353,
          47.56878471374512,
          48.56553411483765,
          49.5827853679657,
          50.55224132537842,
          51.54604268074036,
          52.56380105018616,
          53.53312563896179,
          54.52500128746033,
          55.54508185386658,
          56.51431179046631,
          57.50707006454468,
          58.526081800460815,
          59.49418044090271,
          60.48592901229858,
          61.50732445716858,
          62.476224184036255,
          63.4656720161438,
          64.48708820343018,
          65.45735001564026,
          66.44932246208191,
          67.46827912330627,
          68.435786485672,
          69.43124461174011,
          70.44593214988708,
          71.41841292381287,
          72.4111819267273,
          73.42770791053772,
          74.39848279953003,
          75.39322590827942,
          76.40967392921448,
          77.3807544708252,
          78.37462401390076,
          79.3918468952179,
          80.35816502571106,
          81.35494327545166,
          82.37308526039124,
          83.33892154693604,
          84.33482480049133,
          85.35468745231628,
          86.32181310653687,
          87.31563758850098,
          88.3353009223938,
          89.30262494087219,
          90.29756999015808,
          91.3156988620758,
          92.28408932685852,
          93.27733612060548,
          94.29049801826476,
          95.26508498191832,
          96.25816583633424,
          97.27832341194151,
          98.2472321987152,
          99.23752498626708,
          100.2582528591156,
          101.22740364074708,
          102.22064876556396,
          103.24026608467102,
          104.20701932907104,
          105.20291757583618,
          106.22122001647948,
          107.18659973144533,
          108.18218874931335,
          109.20113348960876,
          110.17099499702454,
          111.16404700279236,
          112.18251061439514,
          113.150141954422,
          114.1439254283905,
          115.16397643089294,
          116.1294367313385,
          117.12508416175842,
          118.14522576332092,
          119.1132628917694
         ],
         "xaxis": "x",
         "y": [
          25.8,
          25,
          25,
          25,
          25,
          25,
          25,
          24.8,
          24.8,
          24.8,
          25.3,
          25.3,
          25.3,
          25.9,
          25.9,
          25.9,
          26.1,
          26.1,
          26.1,
          26.5,
          26.5,
          26.5,
          27.2,
          27.2,
          27.2,
          27.7,
          27.7,
          27.7,
          27.9,
          27.9,
          27.9,
          28.4,
          28.4,
          28.4,
          28.2,
          28.2,
          28.2,
          28.1,
          28.1,
          28.1,
          27.5,
          27.5,
          27.5,
          27.3,
          27.3,
          27.3,
          27.1,
          27.1,
          27.1,
          26.8,
          26.8,
          26.8,
          26.6,
          26.6,
          26.6,
          26.4,
          26.4,
          26.4,
          26.1,
          26.1,
          26.1,
          26.1,
          26.1,
          26.1,
          26,
          26,
          26,
          26.1,
          26.1,
          26.1,
          25.9,
          25.9,
          25.9,
          26,
          26,
          26,
          25.9,
          25.9,
          25.9,
          25.9,
          25.9,
          25.9,
          26,
          26,
          26,
          25.7,
          25.7,
          25.7,
          25.6,
          25.6,
          25.6,
          25.8,
          25.8,
          25.8,
          25.8,
          25.8,
          25.8,
          25.9,
          25.9,
          25.9,
          25.8,
          25.8,
          25.8,
          25.9,
          25.9,
          25.9,
          25.3,
          25.3,
          25.3,
          25.2,
          25.2,
          25.2,
          25.4,
          25.4,
          25.4,
          25.1,
          25.1,
          25.1,
          25.9,
          25.9
         ],
         "yaxis": "y"
        }
       ],
       "layout": {
        "legend": {
         "title": {
          "text": "variable"
         },
         "tracegroupgap": 0
        },
        "margin": {
         "t": 60
        },
        "template": {
         "data": {
          "bar": [
           {
            "error_x": {
             "color": "#2a3f5f"
            },
            "error_y": {
             "color": "#2a3f5f"
            },
            "marker": {
             "line": {
              "color": "#E5ECF6",
              "width": 0.5
             },
             "pattern": {
              "fillmode": "overlay",
              "size": 10,
              "solidity": 0.2
             }
            },
            "type": "bar"
           }
          ],
          "barpolar": [
           {
            "marker": {
             "line": {
              "color": "#E5ECF6",
              "width": 0.5
             },
             "pattern": {
              "fillmode": "overlay",
              "size": 10,
              "solidity": 0.2
             }
            },
            "type": "barpolar"
           }
          ],
          "carpet": [
           {
            "aaxis": {
             "endlinecolor": "#2a3f5f",
             "gridcolor": "white",
             "linecolor": "white",
             "minorgridcolor": "white",
             "startlinecolor": "#2a3f5f"
            },
            "baxis": {
             "endlinecolor": "#2a3f5f",
             "gridcolor": "white",
             "linecolor": "white",
             "minorgridcolor": "white",
             "startlinecolor": "#2a3f5f"
            },
            "type": "carpet"
           }
          ],
          "choropleth": [
           {
            "colorbar": {
             "outlinewidth": 0,
             "ticks": ""
            },
            "type": "choropleth"
           }
          ],
          "contour": [
           {
            "colorbar": {
             "outlinewidth": 0,
             "ticks": ""
            },
            "colorscale": [
             [
              0,
              "#0d0887"
             ],
             [
              0.1111111111111111,
              "#46039f"
             ],
             [
              0.2222222222222222,
              "#7201a8"
             ],
             [
              0.3333333333333333,
              "#9c179e"
             ],
             [
              0.4444444444444444,
              "#bd3786"
             ],
             [
              0.5555555555555556,
              "#d8576b"
             ],
             [
              0.6666666666666666,
              "#ed7953"
             ],
             [
              0.7777777777777778,
              "#fb9f3a"
             ],
             [
              0.8888888888888888,
              "#fdca26"
             ],
             [
              1,
              "#f0f921"
             ]
            ],
            "type": "contour"
           }
          ],
          "contourcarpet": [
           {
            "colorbar": {
             "outlinewidth": 0,
             "ticks": ""
            },
            "type": "contourcarpet"
           }
          ],
          "heatmap": [
           {
            "colorbar": {
             "outlinewidth": 0,
             "ticks": ""
            },
            "colorscale": [
             [
              0,
              "#0d0887"
             ],
             [
              0.1111111111111111,
              "#46039f"
             ],
             [
              0.2222222222222222,
              "#7201a8"
             ],
             [
              0.3333333333333333,
              "#9c179e"
             ],
             [
              0.4444444444444444,
              "#bd3786"
             ],
             [
              0.5555555555555556,
              "#d8576b"
             ],
             [
              0.6666666666666666,
              "#ed7953"
             ],
             [
              0.7777777777777778,
              "#fb9f3a"
             ],
             [
              0.8888888888888888,
              "#fdca26"
             ],
             [
              1,
              "#f0f921"
             ]
            ],
            "type": "heatmap"
           }
          ],
          "heatmapgl": [
           {
            "colorbar": {
             "outlinewidth": 0,
             "ticks": ""
            },
            "colorscale": [
             [
              0,
              "#0d0887"
             ],
             [
              0.1111111111111111,
              "#46039f"
             ],
             [
              0.2222222222222222,
              "#7201a8"
             ],
             [
              0.3333333333333333,
              "#9c179e"
             ],
             [
              0.4444444444444444,
              "#bd3786"
             ],
             [
              0.5555555555555556,
              "#d8576b"
             ],
             [
              0.6666666666666666,
              "#ed7953"
             ],
             [
              0.7777777777777778,
              "#fb9f3a"
             ],
             [
              0.8888888888888888,
              "#fdca26"
             ],
             [
              1,
              "#f0f921"
             ]
            ],
            "type": "heatmapgl"
           }
          ],
          "histogram": [
           {
            "marker": {
             "pattern": {
              "fillmode": "overlay",
              "size": 10,
              "solidity": 0.2
             }
            },
            "type": "histogram"
           }
          ],
          "histogram2d": [
           {
            "colorbar": {
             "outlinewidth": 0,
             "ticks": ""
            },
            "colorscale": [
             [
              0,
              "#0d0887"
             ],
             [
              0.1111111111111111,
              "#46039f"
             ],
             [
              0.2222222222222222,
              "#7201a8"
             ],
             [
              0.3333333333333333,
              "#9c179e"
             ],
             [
              0.4444444444444444,
              "#bd3786"
             ],
             [
              0.5555555555555556,
              "#d8576b"
             ],
             [
              0.6666666666666666,
              "#ed7953"
             ],
             [
              0.7777777777777778,
              "#fb9f3a"
             ],
             [
              0.8888888888888888,
              "#fdca26"
             ],
             [
              1,
              "#f0f921"
             ]
            ],
            "type": "histogram2d"
           }
          ],
          "histogram2dcontour": [
           {
            "colorbar": {
             "outlinewidth": 0,
             "ticks": ""
            },
            "colorscale": [
             [
              0,
              "#0d0887"
             ],
             [
              0.1111111111111111,
              "#46039f"
             ],
             [
              0.2222222222222222,
              "#7201a8"
             ],
             [
              0.3333333333333333,
              "#9c179e"
             ],
             [
              0.4444444444444444,
              "#bd3786"
             ],
             [
              0.5555555555555556,
              "#d8576b"
             ],
             [
              0.6666666666666666,
              "#ed7953"
             ],
             [
              0.7777777777777778,
              "#fb9f3a"
             ],
             [
              0.8888888888888888,
              "#fdca26"
             ],
             [
              1,
              "#f0f921"
             ]
            ],
            "type": "histogram2dcontour"
           }
          ],
          "mesh3d": [
           {
            "colorbar": {
             "outlinewidth": 0,
             "ticks": ""
            },
            "type": "mesh3d"
           }
          ],
          "parcoords": [
           {
            "line": {
             "colorbar": {
              "outlinewidth": 0,
              "ticks": ""
             }
            },
            "type": "parcoords"
           }
          ],
          "pie": [
           {
            "automargin": true,
            "type": "pie"
           }
          ],
          "scatter": [
           {
            "fillpattern": {
             "fillmode": "overlay",
             "size": 10,
             "solidity": 0.2
            },
            "type": "scatter"
           }
          ],
          "scatter3d": [
           {
            "line": {
             "colorbar": {
              "outlinewidth": 0,
              "ticks": ""
             }
            },
            "marker": {
             "colorbar": {
              "outlinewidth": 0,
              "ticks": ""
             }
            },
            "type": "scatter3d"
           }
          ],
          "scattercarpet": [
           {
            "marker": {
             "colorbar": {
              "outlinewidth": 0,
              "ticks": ""
             }
            },
            "type": "scattercarpet"
           }
          ],
          "scattergeo": [
           {
            "marker": {
             "colorbar": {
              "outlinewidth": 0,
              "ticks": ""
             }
            },
            "type": "scattergeo"
           }
          ],
          "scattergl": [
           {
            "marker": {
             "colorbar": {
              "outlinewidth": 0,
              "ticks": ""
             }
            },
            "type": "scattergl"
           }
          ],
          "scattermapbox": [
           {
            "marker": {
             "colorbar": {
              "outlinewidth": 0,
              "ticks": ""
             }
            },
            "type": "scattermapbox"
           }
          ],
          "scatterpolar": [
           {
            "marker": {
             "colorbar": {
              "outlinewidth": 0,
              "ticks": ""
             }
            },
            "type": "scatterpolar"
           }
          ],
          "scatterpolargl": [
           {
            "marker": {
             "colorbar": {
              "outlinewidth": 0,
              "ticks": ""
             }
            },
            "type": "scatterpolargl"
           }
          ],
          "scatterternary": [
           {
            "marker": {
             "colorbar": {
              "outlinewidth": 0,
              "ticks": ""
             }
            },
            "type": "scatterternary"
           }
          ],
          "surface": [
           {
            "colorbar": {
             "outlinewidth": 0,
             "ticks": ""
            },
            "colorscale": [
             [
              0,
              "#0d0887"
             ],
             [
              0.1111111111111111,
              "#46039f"
             ],
             [
              0.2222222222222222,
              "#7201a8"
             ],
             [
              0.3333333333333333,
              "#9c179e"
             ],
             [
              0.4444444444444444,
              "#bd3786"
             ],
             [
              0.5555555555555556,
              "#d8576b"
             ],
             [
              0.6666666666666666,
              "#ed7953"
             ],
             [
              0.7777777777777778,
              "#fb9f3a"
             ],
             [
              0.8888888888888888,
              "#fdca26"
             ],
             [
              1,
              "#f0f921"
             ]
            ],
            "type": "surface"
           }
          ],
          "table": [
           {
            "cells": {
             "fill": {
              "color": "#EBF0F8"
             },
             "line": {
              "color": "white"
             }
            },
            "header": {
             "fill": {
              "color": "#C8D4E3"
             },
             "line": {
              "color": "white"
             }
            },
            "type": "table"
           }
          ]
         },
         "layout": {
          "annotationdefaults": {
           "arrowcolor": "#2a3f5f",
           "arrowhead": 0,
           "arrowwidth": 1
          },
          "autotypenumbers": "strict",
          "coloraxis": {
           "colorbar": {
            "outlinewidth": 0,
            "ticks": ""
           }
          },
          "colorscale": {
           "diverging": [
            [
             0,
             "#8e0152"
            ],
            [
             0.1,
             "#c51b7d"
            ],
            [
             0.2,
             "#de77ae"
            ],
            [
             0.3,
             "#f1b6da"
            ],
            [
             0.4,
             "#fde0ef"
            ],
            [
             0.5,
             "#f7f7f7"
            ],
            [
             0.6,
             "#e6f5d0"
            ],
            [
             0.7,
             "#b8e186"
            ],
            [
             0.8,
             "#7fbc41"
            ],
            [
             0.9,
             "#4d9221"
            ],
            [
             1,
             "#276419"
            ]
           ],
           "sequential": [
            [
             0,
             "#0d0887"
            ],
            [
             0.1111111111111111,
             "#46039f"
            ],
            [
             0.2222222222222222,
             "#7201a8"
            ],
            [
             0.3333333333333333,
             "#9c179e"
            ],
            [
             0.4444444444444444,
             "#bd3786"
            ],
            [
             0.5555555555555556,
             "#d8576b"
            ],
            [
             0.6666666666666666,
             "#ed7953"
            ],
            [
             0.7777777777777778,
             "#fb9f3a"
            ],
            [
             0.8888888888888888,
             "#fdca26"
            ],
            [
             1,
             "#f0f921"
            ]
           ],
           "sequentialminus": [
            [
             0,
             "#0d0887"
            ],
            [
             0.1111111111111111,
             "#46039f"
            ],
            [
             0.2222222222222222,
             "#7201a8"
            ],
            [
             0.3333333333333333,
             "#9c179e"
            ],
            [
             0.4444444444444444,
             "#bd3786"
            ],
            [
             0.5555555555555556,
             "#d8576b"
            ],
            [
             0.6666666666666666,
             "#ed7953"
            ],
            [
             0.7777777777777778,
             "#fb9f3a"
            ],
            [
             0.8888888888888888,
             "#fdca26"
            ],
            [
             1,
             "#f0f921"
            ]
           ]
          },
          "colorway": [
           "#636efa",
           "#EF553B",
           "#00cc96",
           "#ab63fa",
           "#FFA15A",
           "#19d3f3",
           "#FF6692",
           "#B6E880",
           "#FF97FF",
           "#FECB52"
          ],
          "font": {
           "color": "#2a3f5f"
          },
          "geo": {
           "bgcolor": "white",
           "lakecolor": "white",
           "landcolor": "#E5ECF6",
           "showlakes": true,
           "showland": true,
           "subunitcolor": "white"
          },
          "hoverlabel": {
           "align": "left"
          },
          "hovermode": "closest",
          "mapbox": {
           "style": "light"
          },
          "paper_bgcolor": "white",
          "plot_bgcolor": "#E5ECF6",
          "polar": {
           "angularaxis": {
            "gridcolor": "white",
            "linecolor": "white",
            "ticks": ""
           },
           "bgcolor": "#E5ECF6",
           "radialaxis": {
            "gridcolor": "white",
            "linecolor": "white",
            "ticks": ""
           }
          },
          "scene": {
           "xaxis": {
            "backgroundcolor": "#E5ECF6",
            "gridcolor": "white",
            "gridwidth": 2,
            "linecolor": "white",
            "showbackground": true,
            "ticks": "",
            "zerolinecolor": "white"
           },
           "yaxis": {
            "backgroundcolor": "#E5ECF6",
            "gridcolor": "white",
            "gridwidth": 2,
            "linecolor": "white",
            "showbackground": true,
            "ticks": "",
            "zerolinecolor": "white"
           },
           "zaxis": {
            "backgroundcolor": "#E5ECF6",
            "gridcolor": "white",
            "gridwidth": 2,
            "linecolor": "white",
            "showbackground": true,
            "ticks": "",
            "zerolinecolor": "white"
           }
          },
          "shapedefaults": {
           "line": {
            "color": "#2a3f5f"
           }
          },
          "ternary": {
           "aaxis": {
            "gridcolor": "white",
            "linecolor": "white",
            "ticks": ""
           },
           "baxis": {
            "gridcolor": "white",
            "linecolor": "white",
            "ticks": ""
           },
           "bgcolor": "#E5ECF6",
           "caxis": {
            "gridcolor": "white",
            "linecolor": "white",
            "ticks": ""
           }
          },
          "title": {
           "x": 0.05
          },
          "xaxis": {
           "automargin": true,
           "gridcolor": "white",
           "linecolor": "white",
           "ticks": "",
           "title": {
            "standoff": 15
           },
           "zerolinecolor": "white",
           "zerolinewidth": 2
          },
          "yaxis": {
           "automargin": true,
           "gridcolor": "white",
           "linecolor": "white",
           "ticks": "",
           "title": {
            "standoff": 15
           },
           "zerolinecolor": "white",
           "zerolinewidth": 2
          }
         }
        },
        "title": {
         "text": "Temperature DHT11"
        },
        "xaxis": {
         "anchor": "y",
         "domain": [
          0,
          1
         ],
         "title": {
          "text": "Time [s]"
         }
        },
        "yaxis": {
         "anchor": "x",
         "domain": [
          0,
          1
         ],
         "title": {
          "text": "Temperature [°C]"
         }
        }
       }
      }
     },
     "metadata": {},
     "output_type": "display_data"
    },
    {
     "data": {
      "application/vnd.plotly.v1+json": {
       "config": {
        "plotlyServerURL": "https://plot.ly"
       },
       "data": [
        {
         "hovertemplate": "variable=humidity<br>time=%{x}<br>value=%{y}<extra></extra>",
         "legendgroup": "humidity",
         "line": {
          "color": "#636efa",
          "dash": "solid"
         },
         "marker": {
          "symbol": "circle"
         },
         "mode": "lines",
         "name": "humidity",
         "orientation": "v",
         "showlegend": true,
         "type": "scatter",
         "x": [
          0.8709084987640381,
          1.8930394649505613,
          2.8601996898651123,
          3.8556296825408936,
          4.87248682975769,
          5.841391801834106,
          6.836629867553711,
          7.857435464859009,
          8.825624704360962,
          9.819802522659302,
          10.838414192199709,
          11.805572986602783,
          12.799920320510864,
          13.820014238357544,
          14.786529779434204,
          15.779675960540771,
          16.797858238220215,
          17.767882823944092,
          18.76195764541626,
          19.778691053390503,
          20.74718022346497,
          21.740343809127808,
          22.76046347618103,
          23.7298424243927,
          24.719428300857544,
          25.74025273323059,
          26.710058450698853,
          27.70027780532837,
          28.721885204315186,
          29.68937349319458,
          30.681447744369507,
          31.700834035873413,
          32.66772270202637,
          33.662532806396484,
          34.67948269844055,
          35.64937210083008,
          36.64345049858093,
          37.659993171691895,
          38.629618406295776,
          39.622859716415405,
          40.64195370674133,
          41.609421253204346,
          42.60266423225403,
          43.62218999862671,
          44.58798360824585,
          45.58203029632568,
          46.60287070274353,
          47.56878471374512,
          48.56553411483765,
          49.5827853679657,
          50.55224132537842,
          51.54604268074036,
          52.56380105018616,
          53.53312563896179,
          54.52500128746033,
          55.54508185386658,
          56.51431179046631,
          57.50707006454468,
          58.526081800460815,
          59.49418044090271,
          60.48592901229858,
          61.50732445716858,
          62.476224184036255,
          63.4656720161438,
          64.48708820343018,
          65.45735001564026,
          66.44932246208191,
          67.46827912330627,
          68.435786485672,
          69.43124461174011,
          70.44593214988708,
          71.41841292381287,
          72.4111819267273,
          73.42770791053772,
          74.39848279953003,
          75.39322590827942,
          76.40967392921448,
          77.3807544708252,
          78.37462401390076,
          79.3918468952179,
          80.35816502571106,
          81.35494327545166,
          82.37308526039124,
          83.33892154693604,
          84.33482480049133,
          85.35468745231628,
          86.32181310653687,
          87.31563758850098,
          88.3353009223938,
          89.30262494087219,
          90.29756999015808,
          91.3156988620758,
          92.28408932685852,
          93.27733612060548,
          94.29049801826476,
          95.26508498191832,
          96.25816583633424,
          97.27832341194151,
          98.2472321987152,
          99.23752498626708,
          100.2582528591156,
          101.22740364074708,
          102.22064876556396,
          103.24026608467102,
          104.20701932907104,
          105.20291757583618,
          106.22122001647948,
          107.18659973144533,
          108.18218874931335,
          109.20113348960876,
          110.17099499702454,
          111.16404700279236,
          112.18251061439514,
          113.150141954422,
          114.1439254283905,
          115.16397643089294,
          116.1294367313385,
          117.12508416175842,
          118.14522576332092,
          119.1132628917694
         ],
         "xaxis": "x",
         "y": [
          47,
          45,
          45,
          45,
          44,
          44,
          44,
          42,
          42,
          42,
          95,
          95,
          95,
          95,
          95,
          95,
          95,
          95,
          95,
          95,
          95,
          95,
          95,
          95,
          95,
          95,
          95,
          95,
          95,
          95,
          95,
          95,
          95,
          95,
          95,
          95,
          95,
          95,
          95,
          95,
          95,
          95,
          95,
          95,
          95,
          95,
          95,
          95,
          95,
          95,
          95,
          95,
          95,
          95,
          95,
          95,
          95,
          95,
          95,
          95,
          95,
          95,
          95,
          95,
          78,
          78,
          78,
          68,
          68,
          68,
          58,
          58,
          58,
          54,
          54,
          54,
          52,
          52,
          52,
          46,
          46,
          46,
          45,
          45,
          45,
          44,
          44,
          44,
          44,
          44,
          44,
          44,
          44,
          44,
          42,
          42,
          42,
          41,
          41,
          41,
          41,
          41,
          41,
          41,
          41,
          41,
          41,
          41,
          41,
          41,
          41,
          41,
          41,
          41,
          41,
          40,
          40,
          40,
          40,
          40
         ],
         "yaxis": "y"
        }
       ],
       "layout": {
        "legend": {
         "title": {
          "text": "variable"
         },
         "tracegroupgap": 0
        },
        "margin": {
         "t": 60
        },
        "template": {
         "data": {
          "bar": [
           {
            "error_x": {
             "color": "#2a3f5f"
            },
            "error_y": {
             "color": "#2a3f5f"
            },
            "marker": {
             "line": {
              "color": "#E5ECF6",
              "width": 0.5
             },
             "pattern": {
              "fillmode": "overlay",
              "size": 10,
              "solidity": 0.2
             }
            },
            "type": "bar"
           }
          ],
          "barpolar": [
           {
            "marker": {
             "line": {
              "color": "#E5ECF6",
              "width": 0.5
             },
             "pattern": {
              "fillmode": "overlay",
              "size": 10,
              "solidity": 0.2
             }
            },
            "type": "barpolar"
           }
          ],
          "carpet": [
           {
            "aaxis": {
             "endlinecolor": "#2a3f5f",
             "gridcolor": "white",
             "linecolor": "white",
             "minorgridcolor": "white",
             "startlinecolor": "#2a3f5f"
            },
            "baxis": {
             "endlinecolor": "#2a3f5f",
             "gridcolor": "white",
             "linecolor": "white",
             "minorgridcolor": "white",
             "startlinecolor": "#2a3f5f"
            },
            "type": "carpet"
           }
          ],
          "choropleth": [
           {
            "colorbar": {
             "outlinewidth": 0,
             "ticks": ""
            },
            "type": "choropleth"
           }
          ],
          "contour": [
           {
            "colorbar": {
             "outlinewidth": 0,
             "ticks": ""
            },
            "colorscale": [
             [
              0,
              "#0d0887"
             ],
             [
              0.1111111111111111,
              "#46039f"
             ],
             [
              0.2222222222222222,
              "#7201a8"
             ],
             [
              0.3333333333333333,
              "#9c179e"
             ],
             [
              0.4444444444444444,
              "#bd3786"
             ],
             [
              0.5555555555555556,
              "#d8576b"
             ],
             [
              0.6666666666666666,
              "#ed7953"
             ],
             [
              0.7777777777777778,
              "#fb9f3a"
             ],
             [
              0.8888888888888888,
              "#fdca26"
             ],
             [
              1,
              "#f0f921"
             ]
            ],
            "type": "contour"
           }
          ],
          "contourcarpet": [
           {
            "colorbar": {
             "outlinewidth": 0,
             "ticks": ""
            },
            "type": "contourcarpet"
           }
          ],
          "heatmap": [
           {
            "colorbar": {
             "outlinewidth": 0,
             "ticks": ""
            },
            "colorscale": [
             [
              0,
              "#0d0887"
             ],
             [
              0.1111111111111111,
              "#46039f"
             ],
             [
              0.2222222222222222,
              "#7201a8"
             ],
             [
              0.3333333333333333,
              "#9c179e"
             ],
             [
              0.4444444444444444,
              "#bd3786"
             ],
             [
              0.5555555555555556,
              "#d8576b"
             ],
             [
              0.6666666666666666,
              "#ed7953"
             ],
             [
              0.7777777777777778,
              "#fb9f3a"
             ],
             [
              0.8888888888888888,
              "#fdca26"
             ],
             [
              1,
              "#f0f921"
             ]
            ],
            "type": "heatmap"
           }
          ],
          "heatmapgl": [
           {
            "colorbar": {
             "outlinewidth": 0,
             "ticks": ""
            },
            "colorscale": [
             [
              0,
              "#0d0887"
             ],
             [
              0.1111111111111111,
              "#46039f"
             ],
             [
              0.2222222222222222,
              "#7201a8"
             ],
             [
              0.3333333333333333,
              "#9c179e"
             ],
             [
              0.4444444444444444,
              "#bd3786"
             ],
             [
              0.5555555555555556,
              "#d8576b"
             ],
             [
              0.6666666666666666,
              "#ed7953"
             ],
             [
              0.7777777777777778,
              "#fb9f3a"
             ],
             [
              0.8888888888888888,
              "#fdca26"
             ],
             [
              1,
              "#f0f921"
             ]
            ],
            "type": "heatmapgl"
           }
          ],
          "histogram": [
           {
            "marker": {
             "pattern": {
              "fillmode": "overlay",
              "size": 10,
              "solidity": 0.2
             }
            },
            "type": "histogram"
           }
          ],
          "histogram2d": [
           {
            "colorbar": {
             "outlinewidth": 0,
             "ticks": ""
            },
            "colorscale": [
             [
              0,
              "#0d0887"
             ],
             [
              0.1111111111111111,
              "#46039f"
             ],
             [
              0.2222222222222222,
              "#7201a8"
             ],
             [
              0.3333333333333333,
              "#9c179e"
             ],
             [
              0.4444444444444444,
              "#bd3786"
             ],
             [
              0.5555555555555556,
              "#d8576b"
             ],
             [
              0.6666666666666666,
              "#ed7953"
             ],
             [
              0.7777777777777778,
              "#fb9f3a"
             ],
             [
              0.8888888888888888,
              "#fdca26"
             ],
             [
              1,
              "#f0f921"
             ]
            ],
            "type": "histogram2d"
           }
          ],
          "histogram2dcontour": [
           {
            "colorbar": {
             "outlinewidth": 0,
             "ticks": ""
            },
            "colorscale": [
             [
              0,
              "#0d0887"
             ],
             [
              0.1111111111111111,
              "#46039f"
             ],
             [
              0.2222222222222222,
              "#7201a8"
             ],
             [
              0.3333333333333333,
              "#9c179e"
             ],
             [
              0.4444444444444444,
              "#bd3786"
             ],
             [
              0.5555555555555556,
              "#d8576b"
             ],
             [
              0.6666666666666666,
              "#ed7953"
             ],
             [
              0.7777777777777778,
              "#fb9f3a"
             ],
             [
              0.8888888888888888,
              "#fdca26"
             ],
             [
              1,
              "#f0f921"
             ]
            ],
            "type": "histogram2dcontour"
           }
          ],
          "mesh3d": [
           {
            "colorbar": {
             "outlinewidth": 0,
             "ticks": ""
            },
            "type": "mesh3d"
           }
          ],
          "parcoords": [
           {
            "line": {
             "colorbar": {
              "outlinewidth": 0,
              "ticks": ""
             }
            },
            "type": "parcoords"
           }
          ],
          "pie": [
           {
            "automargin": true,
            "type": "pie"
           }
          ],
          "scatter": [
           {
            "fillpattern": {
             "fillmode": "overlay",
             "size": 10,
             "solidity": 0.2
            },
            "type": "scatter"
           }
          ],
          "scatter3d": [
           {
            "line": {
             "colorbar": {
              "outlinewidth": 0,
              "ticks": ""
             }
            },
            "marker": {
             "colorbar": {
              "outlinewidth": 0,
              "ticks": ""
             }
            },
            "type": "scatter3d"
           }
          ],
          "scattercarpet": [
           {
            "marker": {
             "colorbar": {
              "outlinewidth": 0,
              "ticks": ""
             }
            },
            "type": "scattercarpet"
           }
          ],
          "scattergeo": [
           {
            "marker": {
             "colorbar": {
              "outlinewidth": 0,
              "ticks": ""
             }
            },
            "type": "scattergeo"
           }
          ],
          "scattergl": [
           {
            "marker": {
             "colorbar": {
              "outlinewidth": 0,
              "ticks": ""
             }
            },
            "type": "scattergl"
           }
          ],
          "scattermapbox": [
           {
            "marker": {
             "colorbar": {
              "outlinewidth": 0,
              "ticks": ""
             }
            },
            "type": "scattermapbox"
           }
          ],
          "scatterpolar": [
           {
            "marker": {
             "colorbar": {
              "outlinewidth": 0,
              "ticks": ""
             }
            },
            "type": "scatterpolar"
           }
          ],
          "scatterpolargl": [
           {
            "marker": {
             "colorbar": {
              "outlinewidth": 0,
              "ticks": ""
             }
            },
            "type": "scatterpolargl"
           }
          ],
          "scatterternary": [
           {
            "marker": {
             "colorbar": {
              "outlinewidth": 0,
              "ticks": ""
             }
            },
            "type": "scatterternary"
           }
          ],
          "surface": [
           {
            "colorbar": {
             "outlinewidth": 0,
             "ticks": ""
            },
            "colorscale": [
             [
              0,
              "#0d0887"
             ],
             [
              0.1111111111111111,
              "#46039f"
             ],
             [
              0.2222222222222222,
              "#7201a8"
             ],
             [
              0.3333333333333333,
              "#9c179e"
             ],
             [
              0.4444444444444444,
              "#bd3786"
             ],
             [
              0.5555555555555556,
              "#d8576b"
             ],
             [
              0.6666666666666666,
              "#ed7953"
             ],
             [
              0.7777777777777778,
              "#fb9f3a"
             ],
             [
              0.8888888888888888,
              "#fdca26"
             ],
             [
              1,
              "#f0f921"
             ]
            ],
            "type": "surface"
           }
          ],
          "table": [
           {
            "cells": {
             "fill": {
              "color": "#EBF0F8"
             },
             "line": {
              "color": "white"
             }
            },
            "header": {
             "fill": {
              "color": "#C8D4E3"
             },
             "line": {
              "color": "white"
             }
            },
            "type": "table"
           }
          ]
         },
         "layout": {
          "annotationdefaults": {
           "arrowcolor": "#2a3f5f",
           "arrowhead": 0,
           "arrowwidth": 1
          },
          "autotypenumbers": "strict",
          "coloraxis": {
           "colorbar": {
            "outlinewidth": 0,
            "ticks": ""
           }
          },
          "colorscale": {
           "diverging": [
            [
             0,
             "#8e0152"
            ],
            [
             0.1,
             "#c51b7d"
            ],
            [
             0.2,
             "#de77ae"
            ],
            [
             0.3,
             "#f1b6da"
            ],
            [
             0.4,
             "#fde0ef"
            ],
            [
             0.5,
             "#f7f7f7"
            ],
            [
             0.6,
             "#e6f5d0"
            ],
            [
             0.7,
             "#b8e186"
            ],
            [
             0.8,
             "#7fbc41"
            ],
            [
             0.9,
             "#4d9221"
            ],
            [
             1,
             "#276419"
            ]
           ],
           "sequential": [
            [
             0,
             "#0d0887"
            ],
            [
             0.1111111111111111,
             "#46039f"
            ],
            [
             0.2222222222222222,
             "#7201a8"
            ],
            [
             0.3333333333333333,
             "#9c179e"
            ],
            [
             0.4444444444444444,
             "#bd3786"
            ],
            [
             0.5555555555555556,
             "#d8576b"
            ],
            [
             0.6666666666666666,
             "#ed7953"
            ],
            [
             0.7777777777777778,
             "#fb9f3a"
            ],
            [
             0.8888888888888888,
             "#fdca26"
            ],
            [
             1,
             "#f0f921"
            ]
           ],
           "sequentialminus": [
            [
             0,
             "#0d0887"
            ],
            [
             0.1111111111111111,
             "#46039f"
            ],
            [
             0.2222222222222222,
             "#7201a8"
            ],
            [
             0.3333333333333333,
             "#9c179e"
            ],
            [
             0.4444444444444444,
             "#bd3786"
            ],
            [
             0.5555555555555556,
             "#d8576b"
            ],
            [
             0.6666666666666666,
             "#ed7953"
            ],
            [
             0.7777777777777778,
             "#fb9f3a"
            ],
            [
             0.8888888888888888,
             "#fdca26"
            ],
            [
             1,
             "#f0f921"
            ]
           ]
          },
          "colorway": [
           "#636efa",
           "#EF553B",
           "#00cc96",
           "#ab63fa",
           "#FFA15A",
           "#19d3f3",
           "#FF6692",
           "#B6E880",
           "#FF97FF",
           "#FECB52"
          ],
          "font": {
           "color": "#2a3f5f"
          },
          "geo": {
           "bgcolor": "white",
           "lakecolor": "white",
           "landcolor": "#E5ECF6",
           "showlakes": true,
           "showland": true,
           "subunitcolor": "white"
          },
          "hoverlabel": {
           "align": "left"
          },
          "hovermode": "closest",
          "mapbox": {
           "style": "light"
          },
          "paper_bgcolor": "white",
          "plot_bgcolor": "#E5ECF6",
          "polar": {
           "angularaxis": {
            "gridcolor": "white",
            "linecolor": "white",
            "ticks": ""
           },
           "bgcolor": "#E5ECF6",
           "radialaxis": {
            "gridcolor": "white",
            "linecolor": "white",
            "ticks": ""
           }
          },
          "scene": {
           "xaxis": {
            "backgroundcolor": "#E5ECF6",
            "gridcolor": "white",
            "gridwidth": 2,
            "linecolor": "white",
            "showbackground": true,
            "ticks": "",
            "zerolinecolor": "white"
           },
           "yaxis": {
            "backgroundcolor": "#E5ECF6",
            "gridcolor": "white",
            "gridwidth": 2,
            "linecolor": "white",
            "showbackground": true,
            "ticks": "",
            "zerolinecolor": "white"
           },
           "zaxis": {
            "backgroundcolor": "#E5ECF6",
            "gridcolor": "white",
            "gridwidth": 2,
            "linecolor": "white",
            "showbackground": true,
            "ticks": "",
            "zerolinecolor": "white"
           }
          },
          "shapedefaults": {
           "line": {
            "color": "#2a3f5f"
           }
          },
          "ternary": {
           "aaxis": {
            "gridcolor": "white",
            "linecolor": "white",
            "ticks": ""
           },
           "baxis": {
            "gridcolor": "white",
            "linecolor": "white",
            "ticks": ""
           },
           "bgcolor": "#E5ECF6",
           "caxis": {
            "gridcolor": "white",
            "linecolor": "white",
            "ticks": ""
           }
          },
          "title": {
           "x": 0.05
          },
          "xaxis": {
           "automargin": true,
           "gridcolor": "white",
           "linecolor": "white",
           "ticks": "",
           "title": {
            "standoff": 15
           },
           "zerolinecolor": "white",
           "zerolinewidth": 2
          },
          "yaxis": {
           "automargin": true,
           "gridcolor": "white",
           "linecolor": "white",
           "ticks": "",
           "title": {
            "standoff": 15
           },
           "zerolinecolor": "white",
           "zerolinewidth": 2
          }
         }
        },
        "title": {
         "text": "Humidity DHT11 sensor"
        },
        "xaxis": {
         "anchor": "y",
         "domain": [
          0,
          1
         ],
         "title": {
          "text": "Time [s]"
         }
        },
        "yaxis": {
         "anchor": "x",
         "domain": [
          0,
          1
         ],
         "title": {
          "text": "Humidity [%]"
         }
        }
       }
      }
     },
     "metadata": {},
     "output_type": "display_data"
    }
   ],
   "source": [
    "# temperature\n",
    "fig = px.line(df, x='time', y=['Temperature DHT11'])\n",
    "fig.update_layout(\n",
    "    title=\"Temperature DHT11\",\n",
    "    xaxis_title=\"Time [s]\",\n",
    "    yaxis_title=\"Temperature [°C]\",\n",
    ")\n",
    "fig.show()\n",
    "#humidity\n",
    "fig = px.line(df, x='time', y=['humidity'])\n",
    "fig.update_layout(\n",
    "    title=\"Humidity DHT11 sensor\",\n",
    "    xaxis_title=\"Time [s]\",\n",
    "    yaxis_title=\"Humidity [%]\",\n",
    ")\n",
    "\n"
   ]
  },
  {
   "cell_type": "code",
   "execution_count": 216,
   "metadata": {},
   "outputs": [
    {
     "name": "stdout",
     "output_type": "stream",
     "text": [
      "max temp index:  33\n",
      "max temp index + 5 sec:  33\n"
     ]
    },
    {
     "data": {
      "application/vnd.plotly.v1+json": {
       "config": {
        "plotlyServerURL": "https://plot.ly"
       },
       "data": [
        {
         "hovertemplate": "variable=Temperature DHT11<br>time=%{x}<br>value=%{y}<extra></extra>",
         "legendgroup": "Temperature DHT11",
         "line": {
          "color": "#636efa",
          "dash": "solid"
         },
         "marker": {
          "symbol": "circle"
         },
         "mode": "lines",
         "name": "Temperature DHT11",
         "orientation": "v",
         "showlegend": true,
         "type": "scatter",
         "x": [
          0.8709084987640381,
          1.8930394649505613,
          2.8601996898651123,
          3.8556296825408936,
          4.87248682975769,
          5.841391801834106,
          6.836629867553711,
          7.857435464859009,
          8.825624704360962,
          9.819802522659302,
          10.838414192199709,
          11.805572986602783,
          12.799920320510864,
          13.820014238357544,
          14.786529779434204,
          15.779675960540771,
          16.797858238220215,
          17.767882823944092,
          18.76195764541626,
          19.778691053390503,
          20.74718022346497,
          21.740343809127808,
          22.76046347618103,
          23.7298424243927,
          24.719428300857544,
          25.74025273323059,
          26.710058450698853,
          27.70027780532837,
          28.721885204315186,
          29.68937349319458,
          30.681447744369507,
          31.700834035873413,
          32.66772270202637,
          33.662532806396484,
          34.67948269844055,
          35.64937210083008,
          36.64345049858093,
          37.659993171691895,
          38.629618406295776,
          39.622859716415405,
          40.64195370674133,
          41.609421253204346,
          42.60266423225403,
          43.62218999862671,
          44.58798360824585,
          45.58203029632568,
          46.60287070274353,
          47.56878471374512,
          48.56553411483765,
          49.5827853679657,
          50.55224132537842,
          51.54604268074036,
          52.56380105018616,
          53.53312563896179,
          54.52500128746033,
          55.54508185386658,
          56.51431179046631,
          57.50707006454468,
          58.526081800460815,
          59.49418044090271,
          60.48592901229858,
          61.50732445716858,
          62.476224184036255,
          63.4656720161438,
          64.48708820343018,
          65.45735001564026,
          66.44932246208191,
          67.46827912330627,
          68.435786485672,
          69.43124461174011,
          70.44593214988708,
          71.41841292381287,
          72.4111819267273,
          73.42770791053772,
          74.39848279953003,
          75.39322590827942,
          76.40967392921448,
          77.3807544708252,
          78.37462401390076,
          79.3918468952179,
          80.35816502571106,
          81.35494327545166,
          82.37308526039124,
          83.33892154693604,
          84.33482480049133,
          85.35468745231628,
          86.32181310653687,
          87.31563758850098,
          88.3353009223938,
          89.30262494087219,
          90.29756999015808,
          91.3156988620758,
          92.28408932685852,
          93.27733612060548,
          94.29049801826476,
          95.26508498191832,
          96.25816583633424,
          97.27832341194151,
          98.2472321987152,
          99.23752498626708,
          100.2582528591156,
          101.22740364074708,
          102.22064876556396,
          103.24026608467102,
          104.20701932907104,
          105.20291757583618,
          106.22122001647948,
          107.18659973144533,
          108.18218874931335,
          109.20113348960876,
          110.17099499702454,
          111.16404700279236,
          112.18251061439514,
          113.150141954422,
          114.1439254283905,
          115.16397643089294,
          116.1294367313385,
          117.12508416175842,
          118.14522576332092,
          119.1132628917694
         ],
         "xaxis": "x",
         "y": [
          25.8,
          25,
          25,
          25,
          25,
          25,
          25,
          24.8,
          24.8,
          24.8,
          25.3,
          25.3,
          25.3,
          25.9,
          25.9,
          25.9,
          26.1,
          26.1,
          26.1,
          26.5,
          26.5,
          26.5,
          27.2,
          27.2,
          27.2,
          27.7,
          27.7,
          27.7,
          27.9,
          27.9,
          27.9,
          28.4,
          28.4,
          28.4,
          28.2,
          28.2,
          28.2,
          28.1,
          28.1,
          28.1,
          27.5,
          27.5,
          27.5,
          27.3,
          27.3,
          27.3,
          27.1,
          27.1,
          27.1,
          26.8,
          26.8,
          26.8,
          26.6,
          26.6,
          26.6,
          26.4,
          26.4,
          26.4,
          26.1,
          26.1,
          26.1,
          26.1,
          26.1,
          26.1,
          26,
          26,
          26,
          26.1,
          26.1,
          26.1,
          25.9,
          25.9,
          25.9,
          26,
          26,
          26,
          25.9,
          25.9,
          25.9,
          25.9,
          25.9,
          25.9,
          26,
          26,
          26,
          25.7,
          25.7,
          25.7,
          25.6,
          25.6,
          25.6,
          25.8,
          25.8,
          25.8,
          25.8,
          25.8,
          25.8,
          25.9,
          25.9,
          25.9,
          25.8,
          25.8,
          25.8,
          25.9,
          25.9,
          25.9,
          25.3,
          25.3,
          25.3,
          25.2,
          25.2,
          25.2,
          25.4,
          25.4,
          25.4,
          25.1,
          25.1,
          25.1,
          25.9,
          25.9
         ],
         "yaxis": "y"
        }
       ],
       "layout": {
        "legend": {
         "title": {
          "text": "variable"
         },
         "tracegroupgap": 0
        },
        "margin": {
         "t": 60
        },
        "shapes": [
         {
          "line": {
           "color": "green",
           "dash": "dash",
           "width": 3
          },
          "type": "line",
          "x0": 33,
          "x1": 33,
          "xref": "x",
          "y0": 0,
          "y1": 1,
          "yref": "y domain"
         },
         {
          "line": {
           "color": "red",
           "dash": "dash",
           "width": 3
          },
          "type": "line",
          "x0": 63,
          "x1": 63,
          "xref": "x",
          "y0": 0,
          "y1": 1,
          "yref": "y domain"
         }
        ],
        "template": {
         "data": {
          "bar": [
           {
            "error_x": {
             "color": "#2a3f5f"
            },
            "error_y": {
             "color": "#2a3f5f"
            },
            "marker": {
             "line": {
              "color": "#E5ECF6",
              "width": 0.5
             },
             "pattern": {
              "fillmode": "overlay",
              "size": 10,
              "solidity": 0.2
             }
            },
            "type": "bar"
           }
          ],
          "barpolar": [
           {
            "marker": {
             "line": {
              "color": "#E5ECF6",
              "width": 0.5
             },
             "pattern": {
              "fillmode": "overlay",
              "size": 10,
              "solidity": 0.2
             }
            },
            "type": "barpolar"
           }
          ],
          "carpet": [
           {
            "aaxis": {
             "endlinecolor": "#2a3f5f",
             "gridcolor": "white",
             "linecolor": "white",
             "minorgridcolor": "white",
             "startlinecolor": "#2a3f5f"
            },
            "baxis": {
             "endlinecolor": "#2a3f5f",
             "gridcolor": "white",
             "linecolor": "white",
             "minorgridcolor": "white",
             "startlinecolor": "#2a3f5f"
            },
            "type": "carpet"
           }
          ],
          "choropleth": [
           {
            "colorbar": {
             "outlinewidth": 0,
             "ticks": ""
            },
            "type": "choropleth"
           }
          ],
          "contour": [
           {
            "colorbar": {
             "outlinewidth": 0,
             "ticks": ""
            },
            "colorscale": [
             [
              0,
              "#0d0887"
             ],
             [
              0.1111111111111111,
              "#46039f"
             ],
             [
              0.2222222222222222,
              "#7201a8"
             ],
             [
              0.3333333333333333,
              "#9c179e"
             ],
             [
              0.4444444444444444,
              "#bd3786"
             ],
             [
              0.5555555555555556,
              "#d8576b"
             ],
             [
              0.6666666666666666,
              "#ed7953"
             ],
             [
              0.7777777777777778,
              "#fb9f3a"
             ],
             [
              0.8888888888888888,
              "#fdca26"
             ],
             [
              1,
              "#f0f921"
             ]
            ],
            "type": "contour"
           }
          ],
          "contourcarpet": [
           {
            "colorbar": {
             "outlinewidth": 0,
             "ticks": ""
            },
            "type": "contourcarpet"
           }
          ],
          "heatmap": [
           {
            "colorbar": {
             "outlinewidth": 0,
             "ticks": ""
            },
            "colorscale": [
             [
              0,
              "#0d0887"
             ],
             [
              0.1111111111111111,
              "#46039f"
             ],
             [
              0.2222222222222222,
              "#7201a8"
             ],
             [
              0.3333333333333333,
              "#9c179e"
             ],
             [
              0.4444444444444444,
              "#bd3786"
             ],
             [
              0.5555555555555556,
              "#d8576b"
             ],
             [
              0.6666666666666666,
              "#ed7953"
             ],
             [
              0.7777777777777778,
              "#fb9f3a"
             ],
             [
              0.8888888888888888,
              "#fdca26"
             ],
             [
              1,
              "#f0f921"
             ]
            ],
            "type": "heatmap"
           }
          ],
          "heatmapgl": [
           {
            "colorbar": {
             "outlinewidth": 0,
             "ticks": ""
            },
            "colorscale": [
             [
              0,
              "#0d0887"
             ],
             [
              0.1111111111111111,
              "#46039f"
             ],
             [
              0.2222222222222222,
              "#7201a8"
             ],
             [
              0.3333333333333333,
              "#9c179e"
             ],
             [
              0.4444444444444444,
              "#bd3786"
             ],
             [
              0.5555555555555556,
              "#d8576b"
             ],
             [
              0.6666666666666666,
              "#ed7953"
             ],
             [
              0.7777777777777778,
              "#fb9f3a"
             ],
             [
              0.8888888888888888,
              "#fdca26"
             ],
             [
              1,
              "#f0f921"
             ]
            ],
            "type": "heatmapgl"
           }
          ],
          "histogram": [
           {
            "marker": {
             "pattern": {
              "fillmode": "overlay",
              "size": 10,
              "solidity": 0.2
             }
            },
            "type": "histogram"
           }
          ],
          "histogram2d": [
           {
            "colorbar": {
             "outlinewidth": 0,
             "ticks": ""
            },
            "colorscale": [
             [
              0,
              "#0d0887"
             ],
             [
              0.1111111111111111,
              "#46039f"
             ],
             [
              0.2222222222222222,
              "#7201a8"
             ],
             [
              0.3333333333333333,
              "#9c179e"
             ],
             [
              0.4444444444444444,
              "#bd3786"
             ],
             [
              0.5555555555555556,
              "#d8576b"
             ],
             [
              0.6666666666666666,
              "#ed7953"
             ],
             [
              0.7777777777777778,
              "#fb9f3a"
             ],
             [
              0.8888888888888888,
              "#fdca26"
             ],
             [
              1,
              "#f0f921"
             ]
            ],
            "type": "histogram2d"
           }
          ],
          "histogram2dcontour": [
           {
            "colorbar": {
             "outlinewidth": 0,
             "ticks": ""
            },
            "colorscale": [
             [
              0,
              "#0d0887"
             ],
             [
              0.1111111111111111,
              "#46039f"
             ],
             [
              0.2222222222222222,
              "#7201a8"
             ],
             [
              0.3333333333333333,
              "#9c179e"
             ],
             [
              0.4444444444444444,
              "#bd3786"
             ],
             [
              0.5555555555555556,
              "#d8576b"
             ],
             [
              0.6666666666666666,
              "#ed7953"
             ],
             [
              0.7777777777777778,
              "#fb9f3a"
             ],
             [
              0.8888888888888888,
              "#fdca26"
             ],
             [
              1,
              "#f0f921"
             ]
            ],
            "type": "histogram2dcontour"
           }
          ],
          "mesh3d": [
           {
            "colorbar": {
             "outlinewidth": 0,
             "ticks": ""
            },
            "type": "mesh3d"
           }
          ],
          "parcoords": [
           {
            "line": {
             "colorbar": {
              "outlinewidth": 0,
              "ticks": ""
             }
            },
            "type": "parcoords"
           }
          ],
          "pie": [
           {
            "automargin": true,
            "type": "pie"
           }
          ],
          "scatter": [
           {
            "fillpattern": {
             "fillmode": "overlay",
             "size": 10,
             "solidity": 0.2
            },
            "type": "scatter"
           }
          ],
          "scatter3d": [
           {
            "line": {
             "colorbar": {
              "outlinewidth": 0,
              "ticks": ""
             }
            },
            "marker": {
             "colorbar": {
              "outlinewidth": 0,
              "ticks": ""
             }
            },
            "type": "scatter3d"
           }
          ],
          "scattercarpet": [
           {
            "marker": {
             "colorbar": {
              "outlinewidth": 0,
              "ticks": ""
             }
            },
            "type": "scattercarpet"
           }
          ],
          "scattergeo": [
           {
            "marker": {
             "colorbar": {
              "outlinewidth": 0,
              "ticks": ""
             }
            },
            "type": "scattergeo"
           }
          ],
          "scattergl": [
           {
            "marker": {
             "colorbar": {
              "outlinewidth": 0,
              "ticks": ""
             }
            },
            "type": "scattergl"
           }
          ],
          "scattermapbox": [
           {
            "marker": {
             "colorbar": {
              "outlinewidth": 0,
              "ticks": ""
             }
            },
            "type": "scattermapbox"
           }
          ],
          "scatterpolar": [
           {
            "marker": {
             "colorbar": {
              "outlinewidth": 0,
              "ticks": ""
             }
            },
            "type": "scatterpolar"
           }
          ],
          "scatterpolargl": [
           {
            "marker": {
             "colorbar": {
              "outlinewidth": 0,
              "ticks": ""
             }
            },
            "type": "scatterpolargl"
           }
          ],
          "scatterternary": [
           {
            "marker": {
             "colorbar": {
              "outlinewidth": 0,
              "ticks": ""
             }
            },
            "type": "scatterternary"
           }
          ],
          "surface": [
           {
            "colorbar": {
             "outlinewidth": 0,
             "ticks": ""
            },
            "colorscale": [
             [
              0,
              "#0d0887"
             ],
             [
              0.1111111111111111,
              "#46039f"
             ],
             [
              0.2222222222222222,
              "#7201a8"
             ],
             [
              0.3333333333333333,
              "#9c179e"
             ],
             [
              0.4444444444444444,
              "#bd3786"
             ],
             [
              0.5555555555555556,
              "#d8576b"
             ],
             [
              0.6666666666666666,
              "#ed7953"
             ],
             [
              0.7777777777777778,
              "#fb9f3a"
             ],
             [
              0.8888888888888888,
              "#fdca26"
             ],
             [
              1,
              "#f0f921"
             ]
            ],
            "type": "surface"
           }
          ],
          "table": [
           {
            "cells": {
             "fill": {
              "color": "#EBF0F8"
             },
             "line": {
              "color": "white"
             }
            },
            "header": {
             "fill": {
              "color": "#C8D4E3"
             },
             "line": {
              "color": "white"
             }
            },
            "type": "table"
           }
          ]
         },
         "layout": {
          "annotationdefaults": {
           "arrowcolor": "#2a3f5f",
           "arrowhead": 0,
           "arrowwidth": 1
          },
          "autotypenumbers": "strict",
          "coloraxis": {
           "colorbar": {
            "outlinewidth": 0,
            "ticks": ""
           }
          },
          "colorscale": {
           "diverging": [
            [
             0,
             "#8e0152"
            ],
            [
             0.1,
             "#c51b7d"
            ],
            [
             0.2,
             "#de77ae"
            ],
            [
             0.3,
             "#f1b6da"
            ],
            [
             0.4,
             "#fde0ef"
            ],
            [
             0.5,
             "#f7f7f7"
            ],
            [
             0.6,
             "#e6f5d0"
            ],
            [
             0.7,
             "#b8e186"
            ],
            [
             0.8,
             "#7fbc41"
            ],
            [
             0.9,
             "#4d9221"
            ],
            [
             1,
             "#276419"
            ]
           ],
           "sequential": [
            [
             0,
             "#0d0887"
            ],
            [
             0.1111111111111111,
             "#46039f"
            ],
            [
             0.2222222222222222,
             "#7201a8"
            ],
            [
             0.3333333333333333,
             "#9c179e"
            ],
            [
             0.4444444444444444,
             "#bd3786"
            ],
            [
             0.5555555555555556,
             "#d8576b"
            ],
            [
             0.6666666666666666,
             "#ed7953"
            ],
            [
             0.7777777777777778,
             "#fb9f3a"
            ],
            [
             0.8888888888888888,
             "#fdca26"
            ],
            [
             1,
             "#f0f921"
            ]
           ],
           "sequentialminus": [
            [
             0,
             "#0d0887"
            ],
            [
             0.1111111111111111,
             "#46039f"
            ],
            [
             0.2222222222222222,
             "#7201a8"
            ],
            [
             0.3333333333333333,
             "#9c179e"
            ],
            [
             0.4444444444444444,
             "#bd3786"
            ],
            [
             0.5555555555555556,
             "#d8576b"
            ],
            [
             0.6666666666666666,
             "#ed7953"
            ],
            [
             0.7777777777777778,
             "#fb9f3a"
            ],
            [
             0.8888888888888888,
             "#fdca26"
            ],
            [
             1,
             "#f0f921"
            ]
           ]
          },
          "colorway": [
           "#636efa",
           "#EF553B",
           "#00cc96",
           "#ab63fa",
           "#FFA15A",
           "#19d3f3",
           "#FF6692",
           "#B6E880",
           "#FF97FF",
           "#FECB52"
          ],
          "font": {
           "color": "#2a3f5f"
          },
          "geo": {
           "bgcolor": "white",
           "lakecolor": "white",
           "landcolor": "#E5ECF6",
           "showlakes": true,
           "showland": true,
           "subunitcolor": "white"
          },
          "hoverlabel": {
           "align": "left"
          },
          "hovermode": "closest",
          "mapbox": {
           "style": "light"
          },
          "paper_bgcolor": "white",
          "plot_bgcolor": "#E5ECF6",
          "polar": {
           "angularaxis": {
            "gridcolor": "white",
            "linecolor": "white",
            "ticks": ""
           },
           "bgcolor": "#E5ECF6",
           "radialaxis": {
            "gridcolor": "white",
            "linecolor": "white",
            "ticks": ""
           }
          },
          "scene": {
           "xaxis": {
            "backgroundcolor": "#E5ECF6",
            "gridcolor": "white",
            "gridwidth": 2,
            "linecolor": "white",
            "showbackground": true,
            "ticks": "",
            "zerolinecolor": "white"
           },
           "yaxis": {
            "backgroundcolor": "#E5ECF6",
            "gridcolor": "white",
            "gridwidth": 2,
            "linecolor": "white",
            "showbackground": true,
            "ticks": "",
            "zerolinecolor": "white"
           },
           "zaxis": {
            "backgroundcolor": "#E5ECF6",
            "gridcolor": "white",
            "gridwidth": 2,
            "linecolor": "white",
            "showbackground": true,
            "ticks": "",
            "zerolinecolor": "white"
           }
          },
          "shapedefaults": {
           "line": {
            "color": "#2a3f5f"
           }
          },
          "ternary": {
           "aaxis": {
            "gridcolor": "white",
            "linecolor": "white",
            "ticks": ""
           },
           "baxis": {
            "gridcolor": "white",
            "linecolor": "white",
            "ticks": ""
           },
           "bgcolor": "#E5ECF6",
           "caxis": {
            "gridcolor": "white",
            "linecolor": "white",
            "ticks": ""
           }
          },
          "title": {
           "x": 0.05
          },
          "xaxis": {
           "automargin": true,
           "gridcolor": "white",
           "linecolor": "white",
           "ticks": "",
           "title": {
            "standoff": 15
           },
           "zerolinecolor": "white",
           "zerolinewidth": 2
          },
          "yaxis": {
           "automargin": true,
           "gridcolor": "white",
           "linecolor": "white",
           "ticks": "",
           "title": {
            "standoff": 15
           },
           "zerolinecolor": "white",
           "zerolinewidth": 2
          }
         }
        },
        "title": {
         "text": "Temperature DHT11"
        },
        "xaxis": {
         "anchor": "y",
         "domain": [
          0,
          1
         ],
         "title": {
          "text": "Time [s]"
         }
        },
        "yaxis": {
         "anchor": "x",
         "domain": [
          0,
          1
         ],
         "title": {
          "text": "Temperature [°C]"
         }
        }
       }
      }
     },
     "metadata": {},
     "output_type": "display_data"
    }
   ],
   "source": [
    "fig = px.line(df, x='time', y=['Temperature DHT11'])\n",
    "fig.update_layout(\n",
    "    title=\"Temperature DHT11\",\n",
    "    xaxis_title=\"Time [s]\",\n",
    "    yaxis_title=\"Temperature [°C]\",\n",
    ")\n",
    "# #index max\n",
    "max_temp = df['Temperature DHT11'].idxmax() + 2\n",
    "print('max temp index: ', max_temp)\n",
    "#index 5 sec after max\n",
    "after_sec = 30\n",
    "max_temp_after = max_temp + after_sec\n",
    "print('max temp index + 5 sec: ', max_temp)\n",
    "#show index in plot\n",
    "fig.add_vline(x=max_temp, line_width=3, line_dash=\"dash\", line_color=\"green\")\n",
    "fig.add_vline(x=max_temp_after, line_width=3, line_dash=\"dash\", line_color=\"red\")\n",
    "fig.show()\n"
   ]
  },
  {
   "cell_type": "code",
   "execution_count": 217,
   "metadata": {},
   "outputs": [
    {
     "data": {
      "application/vnd.plotly.v1+json": {
       "config": {
        "plotlyServerURL": "https://plot.ly"
       },
       "data": [
        {
         "hovertemplate": "variable=Temperature DHT11<br>time=%{x}<br>value=%{y}<extra></extra>",
         "legendgroup": "Temperature DHT11",
         "line": {
          "color": "#636efa",
          "dash": "solid"
         },
         "marker": {
          "symbol": "circle"
         },
         "mode": "lines",
         "name": "Temperature DHT11",
         "orientation": "v",
         "showlegend": true,
         "type": "scatter",
         "x": [
          33.662532806396484,
          34.67948269844055,
          35.64937210083008,
          36.64345049858093,
          37.659993171691895,
          38.629618406295776,
          39.622859716415405,
          40.64195370674133,
          41.609421253204346,
          42.60266423225403,
          43.62218999862671,
          44.58798360824585,
          45.58203029632568,
          46.60287070274353,
          47.56878471374512,
          48.56553411483765,
          49.5827853679657,
          50.55224132537842,
          51.54604268074036,
          52.56380105018616,
          53.53312563896179,
          54.52500128746033,
          55.54508185386658,
          56.51431179046631,
          57.50707006454468,
          58.526081800460815,
          59.49418044090271,
          60.48592901229858,
          61.50732445716858,
          62.476224184036255
         ],
         "xaxis": "x",
         "y": [
          28.4,
          28.2,
          28.2,
          28.2,
          28.1,
          28.1,
          28.1,
          27.5,
          27.5,
          27.5,
          27.3,
          27.3,
          27.3,
          27.1,
          27.1,
          27.1,
          26.8,
          26.8,
          26.8,
          26.6,
          26.6,
          26.6,
          26.4,
          26.4,
          26.4,
          26.1,
          26.1,
          26.1,
          26.1,
          26.1
         ],
         "yaxis": "y"
        }
       ],
       "layout": {
        "legend": {
         "title": {
          "text": "variable"
         },
         "tracegroupgap": 0
        },
        "margin": {
         "t": 60
        },
        "template": {
         "data": {
          "bar": [
           {
            "error_x": {
             "color": "#2a3f5f"
            },
            "error_y": {
             "color": "#2a3f5f"
            },
            "marker": {
             "line": {
              "color": "#E5ECF6",
              "width": 0.5
             },
             "pattern": {
              "fillmode": "overlay",
              "size": 10,
              "solidity": 0.2
             }
            },
            "type": "bar"
           }
          ],
          "barpolar": [
           {
            "marker": {
             "line": {
              "color": "#E5ECF6",
              "width": 0.5
             },
             "pattern": {
              "fillmode": "overlay",
              "size": 10,
              "solidity": 0.2
             }
            },
            "type": "barpolar"
           }
          ],
          "carpet": [
           {
            "aaxis": {
             "endlinecolor": "#2a3f5f",
             "gridcolor": "white",
             "linecolor": "white",
             "minorgridcolor": "white",
             "startlinecolor": "#2a3f5f"
            },
            "baxis": {
             "endlinecolor": "#2a3f5f",
             "gridcolor": "white",
             "linecolor": "white",
             "minorgridcolor": "white",
             "startlinecolor": "#2a3f5f"
            },
            "type": "carpet"
           }
          ],
          "choropleth": [
           {
            "colorbar": {
             "outlinewidth": 0,
             "ticks": ""
            },
            "type": "choropleth"
           }
          ],
          "contour": [
           {
            "colorbar": {
             "outlinewidth": 0,
             "ticks": ""
            },
            "colorscale": [
             [
              0,
              "#0d0887"
             ],
             [
              0.1111111111111111,
              "#46039f"
             ],
             [
              0.2222222222222222,
              "#7201a8"
             ],
             [
              0.3333333333333333,
              "#9c179e"
             ],
             [
              0.4444444444444444,
              "#bd3786"
             ],
             [
              0.5555555555555556,
              "#d8576b"
             ],
             [
              0.6666666666666666,
              "#ed7953"
             ],
             [
              0.7777777777777778,
              "#fb9f3a"
             ],
             [
              0.8888888888888888,
              "#fdca26"
             ],
             [
              1,
              "#f0f921"
             ]
            ],
            "type": "contour"
           }
          ],
          "contourcarpet": [
           {
            "colorbar": {
             "outlinewidth": 0,
             "ticks": ""
            },
            "type": "contourcarpet"
           }
          ],
          "heatmap": [
           {
            "colorbar": {
             "outlinewidth": 0,
             "ticks": ""
            },
            "colorscale": [
             [
              0,
              "#0d0887"
             ],
             [
              0.1111111111111111,
              "#46039f"
             ],
             [
              0.2222222222222222,
              "#7201a8"
             ],
             [
              0.3333333333333333,
              "#9c179e"
             ],
             [
              0.4444444444444444,
              "#bd3786"
             ],
             [
              0.5555555555555556,
              "#d8576b"
             ],
             [
              0.6666666666666666,
              "#ed7953"
             ],
             [
              0.7777777777777778,
              "#fb9f3a"
             ],
             [
              0.8888888888888888,
              "#fdca26"
             ],
             [
              1,
              "#f0f921"
             ]
            ],
            "type": "heatmap"
           }
          ],
          "heatmapgl": [
           {
            "colorbar": {
             "outlinewidth": 0,
             "ticks": ""
            },
            "colorscale": [
             [
              0,
              "#0d0887"
             ],
             [
              0.1111111111111111,
              "#46039f"
             ],
             [
              0.2222222222222222,
              "#7201a8"
             ],
             [
              0.3333333333333333,
              "#9c179e"
             ],
             [
              0.4444444444444444,
              "#bd3786"
             ],
             [
              0.5555555555555556,
              "#d8576b"
             ],
             [
              0.6666666666666666,
              "#ed7953"
             ],
             [
              0.7777777777777778,
              "#fb9f3a"
             ],
             [
              0.8888888888888888,
              "#fdca26"
             ],
             [
              1,
              "#f0f921"
             ]
            ],
            "type": "heatmapgl"
           }
          ],
          "histogram": [
           {
            "marker": {
             "pattern": {
              "fillmode": "overlay",
              "size": 10,
              "solidity": 0.2
             }
            },
            "type": "histogram"
           }
          ],
          "histogram2d": [
           {
            "colorbar": {
             "outlinewidth": 0,
             "ticks": ""
            },
            "colorscale": [
             [
              0,
              "#0d0887"
             ],
             [
              0.1111111111111111,
              "#46039f"
             ],
             [
              0.2222222222222222,
              "#7201a8"
             ],
             [
              0.3333333333333333,
              "#9c179e"
             ],
             [
              0.4444444444444444,
              "#bd3786"
             ],
             [
              0.5555555555555556,
              "#d8576b"
             ],
             [
              0.6666666666666666,
              "#ed7953"
             ],
             [
              0.7777777777777778,
              "#fb9f3a"
             ],
             [
              0.8888888888888888,
              "#fdca26"
             ],
             [
              1,
              "#f0f921"
             ]
            ],
            "type": "histogram2d"
           }
          ],
          "histogram2dcontour": [
           {
            "colorbar": {
             "outlinewidth": 0,
             "ticks": ""
            },
            "colorscale": [
             [
              0,
              "#0d0887"
             ],
             [
              0.1111111111111111,
              "#46039f"
             ],
             [
              0.2222222222222222,
              "#7201a8"
             ],
             [
              0.3333333333333333,
              "#9c179e"
             ],
             [
              0.4444444444444444,
              "#bd3786"
             ],
             [
              0.5555555555555556,
              "#d8576b"
             ],
             [
              0.6666666666666666,
              "#ed7953"
             ],
             [
              0.7777777777777778,
              "#fb9f3a"
             ],
             [
              0.8888888888888888,
              "#fdca26"
             ],
             [
              1,
              "#f0f921"
             ]
            ],
            "type": "histogram2dcontour"
           }
          ],
          "mesh3d": [
           {
            "colorbar": {
             "outlinewidth": 0,
             "ticks": ""
            },
            "type": "mesh3d"
           }
          ],
          "parcoords": [
           {
            "line": {
             "colorbar": {
              "outlinewidth": 0,
              "ticks": ""
             }
            },
            "type": "parcoords"
           }
          ],
          "pie": [
           {
            "automargin": true,
            "type": "pie"
           }
          ],
          "scatter": [
           {
            "fillpattern": {
             "fillmode": "overlay",
             "size": 10,
             "solidity": 0.2
            },
            "type": "scatter"
           }
          ],
          "scatter3d": [
           {
            "line": {
             "colorbar": {
              "outlinewidth": 0,
              "ticks": ""
             }
            },
            "marker": {
             "colorbar": {
              "outlinewidth": 0,
              "ticks": ""
             }
            },
            "type": "scatter3d"
           }
          ],
          "scattercarpet": [
           {
            "marker": {
             "colorbar": {
              "outlinewidth": 0,
              "ticks": ""
             }
            },
            "type": "scattercarpet"
           }
          ],
          "scattergeo": [
           {
            "marker": {
             "colorbar": {
              "outlinewidth": 0,
              "ticks": ""
             }
            },
            "type": "scattergeo"
           }
          ],
          "scattergl": [
           {
            "marker": {
             "colorbar": {
              "outlinewidth": 0,
              "ticks": ""
             }
            },
            "type": "scattergl"
           }
          ],
          "scattermapbox": [
           {
            "marker": {
             "colorbar": {
              "outlinewidth": 0,
              "ticks": ""
             }
            },
            "type": "scattermapbox"
           }
          ],
          "scatterpolar": [
           {
            "marker": {
             "colorbar": {
              "outlinewidth": 0,
              "ticks": ""
             }
            },
            "type": "scatterpolar"
           }
          ],
          "scatterpolargl": [
           {
            "marker": {
             "colorbar": {
              "outlinewidth": 0,
              "ticks": ""
             }
            },
            "type": "scatterpolargl"
           }
          ],
          "scatterternary": [
           {
            "marker": {
             "colorbar": {
              "outlinewidth": 0,
              "ticks": ""
             }
            },
            "type": "scatterternary"
           }
          ],
          "surface": [
           {
            "colorbar": {
             "outlinewidth": 0,
             "ticks": ""
            },
            "colorscale": [
             [
              0,
              "#0d0887"
             ],
             [
              0.1111111111111111,
              "#46039f"
             ],
             [
              0.2222222222222222,
              "#7201a8"
             ],
             [
              0.3333333333333333,
              "#9c179e"
             ],
             [
              0.4444444444444444,
              "#bd3786"
             ],
             [
              0.5555555555555556,
              "#d8576b"
             ],
             [
              0.6666666666666666,
              "#ed7953"
             ],
             [
              0.7777777777777778,
              "#fb9f3a"
             ],
             [
              0.8888888888888888,
              "#fdca26"
             ],
             [
              1,
              "#f0f921"
             ]
            ],
            "type": "surface"
           }
          ],
          "table": [
           {
            "cells": {
             "fill": {
              "color": "#EBF0F8"
             },
             "line": {
              "color": "white"
             }
            },
            "header": {
             "fill": {
              "color": "#C8D4E3"
             },
             "line": {
              "color": "white"
             }
            },
            "type": "table"
           }
          ]
         },
         "layout": {
          "annotationdefaults": {
           "arrowcolor": "#2a3f5f",
           "arrowhead": 0,
           "arrowwidth": 1
          },
          "autotypenumbers": "strict",
          "coloraxis": {
           "colorbar": {
            "outlinewidth": 0,
            "ticks": ""
           }
          },
          "colorscale": {
           "diverging": [
            [
             0,
             "#8e0152"
            ],
            [
             0.1,
             "#c51b7d"
            ],
            [
             0.2,
             "#de77ae"
            ],
            [
             0.3,
             "#f1b6da"
            ],
            [
             0.4,
             "#fde0ef"
            ],
            [
             0.5,
             "#f7f7f7"
            ],
            [
             0.6,
             "#e6f5d0"
            ],
            [
             0.7,
             "#b8e186"
            ],
            [
             0.8,
             "#7fbc41"
            ],
            [
             0.9,
             "#4d9221"
            ],
            [
             1,
             "#276419"
            ]
           ],
           "sequential": [
            [
             0,
             "#0d0887"
            ],
            [
             0.1111111111111111,
             "#46039f"
            ],
            [
             0.2222222222222222,
             "#7201a8"
            ],
            [
             0.3333333333333333,
             "#9c179e"
            ],
            [
             0.4444444444444444,
             "#bd3786"
            ],
            [
             0.5555555555555556,
             "#d8576b"
            ],
            [
             0.6666666666666666,
             "#ed7953"
            ],
            [
             0.7777777777777778,
             "#fb9f3a"
            ],
            [
             0.8888888888888888,
             "#fdca26"
            ],
            [
             1,
             "#f0f921"
            ]
           ],
           "sequentialminus": [
            [
             0,
             "#0d0887"
            ],
            [
             0.1111111111111111,
             "#46039f"
            ],
            [
             0.2222222222222222,
             "#7201a8"
            ],
            [
             0.3333333333333333,
             "#9c179e"
            ],
            [
             0.4444444444444444,
             "#bd3786"
            ],
            [
             0.5555555555555556,
             "#d8576b"
            ],
            [
             0.6666666666666666,
             "#ed7953"
            ],
            [
             0.7777777777777778,
             "#fb9f3a"
            ],
            [
             0.8888888888888888,
             "#fdca26"
            ],
            [
             1,
             "#f0f921"
            ]
           ]
          },
          "colorway": [
           "#636efa",
           "#EF553B",
           "#00cc96",
           "#ab63fa",
           "#FFA15A",
           "#19d3f3",
           "#FF6692",
           "#B6E880",
           "#FF97FF",
           "#FECB52"
          ],
          "font": {
           "color": "#2a3f5f"
          },
          "geo": {
           "bgcolor": "white",
           "lakecolor": "white",
           "landcolor": "#E5ECF6",
           "showlakes": true,
           "showland": true,
           "subunitcolor": "white"
          },
          "hoverlabel": {
           "align": "left"
          },
          "hovermode": "closest",
          "mapbox": {
           "style": "light"
          },
          "paper_bgcolor": "white",
          "plot_bgcolor": "#E5ECF6",
          "polar": {
           "angularaxis": {
            "gridcolor": "white",
            "linecolor": "white",
            "ticks": ""
           },
           "bgcolor": "#E5ECF6",
           "radialaxis": {
            "gridcolor": "white",
            "linecolor": "white",
            "ticks": ""
           }
          },
          "scene": {
           "xaxis": {
            "backgroundcolor": "#E5ECF6",
            "gridcolor": "white",
            "gridwidth": 2,
            "linecolor": "white",
            "showbackground": true,
            "ticks": "",
            "zerolinecolor": "white"
           },
           "yaxis": {
            "backgroundcolor": "#E5ECF6",
            "gridcolor": "white",
            "gridwidth": 2,
            "linecolor": "white",
            "showbackground": true,
            "ticks": "",
            "zerolinecolor": "white"
           },
           "zaxis": {
            "backgroundcolor": "#E5ECF6",
            "gridcolor": "white",
            "gridwidth": 2,
            "linecolor": "white",
            "showbackground": true,
            "ticks": "",
            "zerolinecolor": "white"
           }
          },
          "shapedefaults": {
           "line": {
            "color": "#2a3f5f"
           }
          },
          "ternary": {
           "aaxis": {
            "gridcolor": "white",
            "linecolor": "white",
            "ticks": ""
           },
           "baxis": {
            "gridcolor": "white",
            "linecolor": "white",
            "ticks": ""
           },
           "bgcolor": "#E5ECF6",
           "caxis": {
            "gridcolor": "white",
            "linecolor": "white",
            "ticks": ""
           }
          },
          "title": {
           "x": 0.05
          },
          "xaxis": {
           "automargin": true,
           "gridcolor": "white",
           "linecolor": "white",
           "ticks": "",
           "title": {
            "standoff": 15
           },
           "zerolinecolor": "white",
           "zerolinewidth": 2
          },
          "yaxis": {
           "automargin": true,
           "gridcolor": "white",
           "linecolor": "white",
           "ticks": "",
           "title": {
            "standoff": 15
           },
           "zerolinecolor": "white",
           "zerolinewidth": 2
          }
         }
        },
        "title": {
         "text": "Temperature DHT11"
        },
        "xaxis": {
         "anchor": "y",
         "domain": [
          0,
          1
         ],
         "title": {
          "text": "Time [s]"
         }
        },
        "yaxis": {
         "anchor": "x",
         "domain": [
          0,
          1
         ],
         "title": {
          "text": "Temperature [°C]"
         }
        }
       }
      }
     },
     "metadata": {},
     "output_type": "display_data"
    }
   ],
   "source": [
    "df_exp = df[max_temp:max_temp_after]\n",
    "fig = px.line(df_exp, x='time', y=['Temperature DHT11'])\n",
    "fig.update_layout(\n",
    "    title=\"Temperature DHT11\",\n",
    "    xaxis_title=\"Time [s]\",\n",
    "    yaxis_title=\"Temperature [°C]\",\n",
    ")\n",
    "fig.show()"
   ]
  },
  {
   "cell_type": "code",
   "execution_count": 218,
   "metadata": {},
   "outputs": [
    {
     "name": "stdout",
     "output_type": "stream",
     "text": [
      "-------------------\n",
      "delta_t:  28.81369137763977\n",
      "t final:  26.1\n",
      "room temp:  25\n",
      "t0:  28.4\n",
      "-------------------\n",
      "delta_t:  28.81369137763977\n",
      "t0:  28.4\n",
      "t_final:  26.1\n",
      "t_const:  25.533521152933343\n",
      "t_first_calc:  28.4\n",
      "t_final_calc:  26.1\n",
      "error:  0.0\n"
     ]
    },
    {
     "data": {
      "application/vnd.plotly.v1+json": {
       "config": {
        "plotlyServerURL": "https://plot.ly"
       },
       "data": [
        {
         "hovertemplate": "variable=Temperature DHT11<br>time=%{x}<br>value=%{y}<extra></extra>",
         "legendgroup": "Temperature DHT11",
         "line": {
          "color": "#636efa",
          "dash": "solid"
         },
         "marker": {
          "symbol": "circle"
         },
         "mode": "lines",
         "name": "Temperature DHT11",
         "orientation": "v",
         "showlegend": true,
         "type": "scatter",
         "x": [
          0.8709084987640381,
          1.8930394649505613,
          2.8601996898651123,
          3.8556296825408936,
          4.87248682975769,
          5.841391801834106,
          6.836629867553711,
          7.857435464859009,
          8.825624704360962,
          9.819802522659302,
          10.838414192199709,
          11.805572986602783,
          12.799920320510864,
          13.820014238357544,
          14.786529779434204,
          15.779675960540771,
          16.797858238220215,
          17.767882823944092,
          18.76195764541626,
          19.778691053390503,
          20.74718022346497,
          21.740343809127808,
          22.76046347618103,
          23.7298424243927,
          24.719428300857544,
          25.74025273323059,
          26.710058450698853,
          27.70027780532837,
          28.721885204315186,
          29.68937349319458,
          30.681447744369507,
          31.700834035873413,
          32.66772270202637,
          33.662532806396484,
          34.67948269844055,
          35.64937210083008,
          36.64345049858093,
          37.659993171691895,
          38.629618406295776,
          39.622859716415405,
          40.64195370674133,
          41.609421253204346,
          42.60266423225403,
          43.62218999862671,
          44.58798360824585,
          45.58203029632568,
          46.60287070274353,
          47.56878471374512,
          48.56553411483765,
          49.5827853679657,
          50.55224132537842,
          51.54604268074036,
          52.56380105018616,
          53.53312563896179,
          54.52500128746033,
          55.54508185386658,
          56.51431179046631,
          57.50707006454468,
          58.526081800460815,
          59.49418044090271,
          60.48592901229858,
          61.50732445716858,
          62.476224184036255,
          63.4656720161438,
          64.48708820343018,
          65.45735001564026,
          66.44932246208191,
          67.46827912330627,
          68.435786485672,
          69.43124461174011,
          70.44593214988708,
          71.41841292381287,
          72.4111819267273,
          73.42770791053772,
          74.39848279953003,
          75.39322590827942,
          76.40967392921448,
          77.3807544708252,
          78.37462401390076,
          79.3918468952179,
          80.35816502571106,
          81.35494327545166,
          82.37308526039124,
          83.33892154693604,
          84.33482480049133,
          85.35468745231628,
          86.32181310653687,
          87.31563758850098,
          88.3353009223938,
          89.30262494087219,
          90.29756999015808,
          91.3156988620758,
          92.28408932685852,
          93.27733612060548,
          94.29049801826476,
          95.26508498191832,
          96.25816583633424,
          97.27832341194151,
          98.2472321987152,
          99.23752498626708,
          100.2582528591156,
          101.22740364074708,
          102.22064876556396,
          103.24026608467102,
          104.20701932907104,
          105.20291757583618,
          106.22122001647948,
          107.18659973144533,
          108.18218874931335,
          109.20113348960876,
          110.17099499702454,
          111.16404700279236,
          112.18251061439514,
          113.150141954422,
          114.1439254283905,
          115.16397643089294,
          116.1294367313385,
          117.12508416175842,
          118.14522576332092,
          119.1132628917694
         ],
         "xaxis": "x",
         "y": [
          25.8,
          25,
          25,
          25,
          25,
          25,
          25,
          24.8,
          24.8,
          24.8,
          25.3,
          25.3,
          25.3,
          25.9,
          25.9,
          25.9,
          26.1,
          26.1,
          26.1,
          26.5,
          26.5,
          26.5,
          27.2,
          27.2,
          27.2,
          27.7,
          27.7,
          27.7,
          27.9,
          27.9,
          27.9,
          28.4,
          28.4,
          28.4,
          28.2,
          28.2,
          28.2,
          28.1,
          28.1,
          28.1,
          27.5,
          27.5,
          27.5,
          27.3,
          27.3,
          27.3,
          27.1,
          27.1,
          27.1,
          26.8,
          26.8,
          26.8,
          26.6,
          26.6,
          26.6,
          26.4,
          26.4,
          26.4,
          26.1,
          26.1,
          26.1,
          26.1,
          26.1,
          26.1,
          26,
          26,
          26,
          26.1,
          26.1,
          26.1,
          25.9,
          25.9,
          25.9,
          26,
          26,
          26,
          25.9,
          25.9,
          25.9,
          25.9,
          25.9,
          25.9,
          26,
          26,
          26,
          25.7,
          25.7,
          25.7,
          25.6,
          25.6,
          25.6,
          25.8,
          25.8,
          25.8,
          25.8,
          25.8,
          25.8,
          25.9,
          25.9,
          25.9,
          25.8,
          25.8,
          25.8,
          25.9,
          25.9,
          25.9,
          25.3,
          25.3,
          25.3,
          25.2,
          25.2,
          25.2,
          25.4,
          25.4,
          25.4,
          25.1,
          25.1,
          25.1,
          25.9,
          25.9
         ],
         "yaxis": "y"
        },
        {
         "hovertemplate": "variable=exponential<br>time=%{x}<br>value=%{y}<extra></extra>",
         "legendgroup": "exponential",
         "line": {
          "color": "#EF553B",
          "dash": "solid"
         },
         "marker": {
          "symbol": "circle"
         },
         "mode": "lines",
         "name": "exponential",
         "orientation": "v",
         "showlegend": true,
         "type": "scatter",
         "x": [
          0.8709084987640381,
          1.8930394649505613,
          2.8601996898651123,
          3.8556296825408936,
          4.87248682975769,
          5.841391801834106,
          6.836629867553711,
          7.857435464859009,
          8.825624704360962,
          9.819802522659302,
          10.838414192199709,
          11.805572986602783,
          12.799920320510864,
          13.820014238357544,
          14.786529779434204,
          15.779675960540771,
          16.797858238220215,
          17.767882823944092,
          18.76195764541626,
          19.778691053390503,
          20.74718022346497,
          21.740343809127808,
          22.76046347618103,
          23.7298424243927,
          24.719428300857544,
          25.74025273323059,
          26.710058450698853,
          27.70027780532837,
          28.721885204315186,
          29.68937349319458,
          30.681447744369507,
          31.700834035873413,
          32.66772270202637,
          33.662532806396484,
          34.67948269844055,
          35.64937210083008,
          36.64345049858093,
          37.659993171691895,
          38.629618406295776,
          39.622859716415405,
          40.64195370674133,
          41.609421253204346,
          42.60266423225403,
          43.62218999862671,
          44.58798360824585,
          45.58203029632568,
          46.60287070274353,
          47.56878471374512,
          48.56553411483765,
          49.5827853679657,
          50.55224132537842,
          51.54604268074036,
          52.56380105018616,
          53.53312563896179,
          54.52500128746033,
          55.54508185386658,
          56.51431179046631,
          57.50707006454468,
          58.526081800460815,
          59.49418044090271,
          60.48592901229858,
          61.50732445716858,
          62.476224184036255,
          63.4656720161438,
          64.48708820343018,
          65.45735001564026,
          66.44932246208191,
          67.46827912330627,
          68.435786485672,
          69.43124461174011,
          70.44593214988708,
          71.41841292381287,
          72.4111819267273,
          73.42770791053772,
          74.39848279953003,
          75.39322590827942,
          76.40967392921448,
          77.3807544708252,
          78.37462401390076,
          79.3918468952179,
          80.35816502571106,
          81.35494327545166,
          82.37308526039124,
          83.33892154693604,
          84.33482480049133,
          85.35468745231628,
          86.32181310653687,
          87.31563758850098,
          88.3353009223938,
          89.30262494087219,
          90.29756999015808,
          91.3156988620758,
          92.28408932685852,
          93.27733612060548,
          94.29049801826476,
          95.26508498191832,
          96.25816583633424,
          97.27832341194151,
          98.2472321987152,
          99.23752498626708,
          100.2582528591156,
          101.22740364074708,
          102.22064876556396,
          103.24026608467102,
          104.20701932907104,
          105.20291757583618,
          106.22122001647948,
          107.18659973144533,
          108.18218874931335,
          109.20113348960876,
          110.17099499702454,
          111.16404700279236,
          112.18251061439514,
          113.150141954422,
          114.1439254283905,
          115.16397643089294,
          116.1294367313385,
          117.12508416175842,
          118.14522576332092,
          119.1132628917694
         ],
         "xaxis": "x",
         "y": [
          null,
          null,
          null,
          null,
          null,
          null,
          null,
          null,
          null,
          null,
          null,
          null,
          null,
          null,
          null,
          null,
          null,
          null,
          null,
          null,
          null,
          null,
          null,
          null,
          null,
          null,
          null,
          null,
          null,
          null,
          null,
          null,
          null,
          28.4,
          28.267245907258356,
          28.145467269937736,
          28.025360223884764,
          27.90728042772434,
          27.79894758488361,
          27.69216036217888,
          27.586826865704747,
          27.490645418383057,
          27.395620578805385,
          27.301850576214463,
          27.216410202104363,
          27.131781073269433,
          27.04823288536426,
          26.972197024273335,
          26.896691905679596,
          26.822613448992232,
          26.754709756570836,
          26.687725938983068,
          26.62177678553337,
          26.56136354167124,
          26.50187373561486,
          26.44305564848572,
          26.389305143950825,
          26.336324773303026,
          26.28404385170889,
          26.236270944342092,
          26.189173470850626,
          26.142542868992376,
          26.1,
          null,
          null,
          null,
          null,
          null,
          null,
          null,
          null,
          null,
          null,
          null,
          null,
          null,
          null,
          null,
          null,
          null,
          null,
          null,
          null,
          null,
          null,
          null,
          null,
          null,
          null,
          null,
          null,
          null,
          null,
          null,
          null,
          null,
          null,
          null,
          null,
          null,
          null,
          null,
          null,
          null,
          null,
          null,
          null,
          null,
          null,
          null,
          null,
          null,
          null,
          null,
          null,
          null,
          null,
          null,
          null,
          null
         ],
         "yaxis": "y"
        },
        {
         "hovertemplate": "variable=exponential_2<br>time=%{x}<br>value=%{y}<extra></extra>",
         "legendgroup": "exponential_2",
         "line": {
          "color": "#00cc96",
          "dash": "solid"
         },
         "marker": {
          "symbol": "circle"
         },
         "mode": "lines",
         "name": "exponential_2",
         "orientation": "v",
         "showlegend": true,
         "type": "scatter",
         "x": [
          0.8709084987640381,
          1.8930394649505613,
          2.8601996898651123,
          3.8556296825408936,
          4.87248682975769,
          5.841391801834106,
          6.836629867553711,
          7.857435464859009,
          8.825624704360962,
          9.819802522659302,
          10.838414192199709,
          11.805572986602783,
          12.799920320510864,
          13.820014238357544,
          14.786529779434204,
          15.779675960540771,
          16.797858238220215,
          17.767882823944092,
          18.76195764541626,
          19.778691053390503,
          20.74718022346497,
          21.740343809127808,
          22.76046347618103,
          23.7298424243927,
          24.719428300857544,
          25.74025273323059,
          26.710058450698853,
          27.70027780532837,
          28.721885204315186,
          29.68937349319458,
          30.681447744369507,
          31.700834035873413,
          32.66772270202637,
          33.662532806396484,
          34.67948269844055,
          35.64937210083008,
          36.64345049858093,
          37.659993171691895,
          38.629618406295776,
          39.622859716415405,
          40.64195370674133,
          41.609421253204346,
          42.60266423225403,
          43.62218999862671,
          44.58798360824585,
          45.58203029632568,
          46.60287070274353,
          47.56878471374512,
          48.56553411483765,
          49.5827853679657,
          50.55224132537842,
          51.54604268074036,
          52.56380105018616,
          53.53312563896179,
          54.52500128746033,
          55.54508185386658,
          56.51431179046631,
          57.50707006454468,
          58.526081800460815,
          59.49418044090271,
          60.48592901229858,
          61.50732445716858,
          62.476224184036255,
          63.4656720161438,
          64.48708820343018,
          65.45735001564026,
          66.44932246208191,
          67.46827912330627,
          68.435786485672,
          69.43124461174011,
          70.44593214988708,
          71.41841292381287,
          72.4111819267273,
          73.42770791053772,
          74.39848279953003,
          75.39322590827942,
          76.40967392921448,
          77.3807544708252,
          78.37462401390076,
          79.3918468952179,
          80.35816502571106,
          81.35494327545166,
          82.37308526039124,
          83.33892154693604,
          84.33482480049133,
          85.35468745231628,
          86.32181310653687,
          87.31563758850098,
          88.3353009223938,
          89.30262494087219,
          90.29756999015808,
          91.3156988620758,
          92.28408932685852,
          93.27733612060548,
          94.29049801826476,
          95.26508498191832,
          96.25816583633424,
          97.27832341194151,
          98.2472321987152,
          99.23752498626708,
          100.2582528591156,
          101.22740364074708,
          102.22064876556396,
          103.24026608467102,
          104.20701932907104,
          105.20291757583618,
          106.22122001647948,
          107.18659973144533,
          108.18218874931335,
          109.20113348960876,
          110.17099499702454,
          111.16404700279236,
          112.18251061439514,
          113.150141954422,
          114.1439254283905,
          115.16397643089294,
          116.1294367313385,
          117.12508416175842,
          118.14522576332092,
          119.1132628917694
         ],
         "xaxis": "x",
         "y": [
          null,
          null,
          null,
          null,
          null,
          null,
          null,
          null,
          null,
          null,
          null,
          null,
          null,
          null,
          null,
          null,
          null,
          null,
          null,
          null,
          null,
          null,
          null,
          null,
          null,
          null,
          null,
          null,
          null,
          null,
          null,
          null,
          null,
          28.4,
          28.303891731074074,
          28.212534006673806,
          28.11920381926932,
          28.024083830773073,
          27.93365385194761,
          27.84132391630252,
          27.746907952045248,
          27.657571303455818,
          27.566153758304033,
          27.47263141558906,
          27.384330652836574,
          27.293743138779597,
          27.201025791473853,
          27.113587124314503,
          27.023651772968012,
          26.932174141408865,
          26.845282757082806,
          26.75650029719088,
          26.665881923069286,
          26.57986131762169,
          26.492126709972847,
          26.402199339822296,
          26.317037642700786,
          26.230093390189655,
          26.141148625309974,
          26.05692722129529,
          25.970929711637236,
          25.88265809958745,
          25.799200607488892,
          null,
          null,
          null,
          null,
          null,
          null,
          null,
          null,
          null,
          null,
          null,
          null,
          null,
          null,
          null,
          null,
          null,
          null,
          null,
          null,
          null,
          null,
          null,
          null,
          null,
          null,
          null,
          null,
          null,
          null,
          null,
          null,
          null,
          null,
          null,
          null,
          null,
          null,
          null,
          null,
          null,
          null,
          null,
          null,
          null,
          null,
          null,
          null,
          null,
          null,
          null,
          null,
          null,
          null,
          null,
          null,
          null
         ],
         "yaxis": "y"
        }
       ],
       "layout": {
        "legend": {
         "title": {
          "text": "variable"
         },
         "tracegroupgap": 0
        },
        "margin": {
         "t": 60
        },
        "shapes": [
         {
          "line": {
           "color": "green",
           "dash": "dash",
           "width": 3
          },
          "type": "line",
          "x0": 33,
          "x1": 33,
          "xref": "x",
          "y0": 0,
          "y1": 1,
          "yref": "y domain"
         },
         {
          "line": {
           "color": "red",
           "dash": "dash",
           "width": 3
          },
          "type": "line",
          "x0": 63,
          "x1": 63,
          "xref": "x",
          "y0": 0,
          "y1": 1,
          "yref": "y domain"
         }
        ],
        "template": {
         "data": {
          "bar": [
           {
            "error_x": {
             "color": "#2a3f5f"
            },
            "error_y": {
             "color": "#2a3f5f"
            },
            "marker": {
             "line": {
              "color": "#E5ECF6",
              "width": 0.5
             },
             "pattern": {
              "fillmode": "overlay",
              "size": 10,
              "solidity": 0.2
             }
            },
            "type": "bar"
           }
          ],
          "barpolar": [
           {
            "marker": {
             "line": {
              "color": "#E5ECF6",
              "width": 0.5
             },
             "pattern": {
              "fillmode": "overlay",
              "size": 10,
              "solidity": 0.2
             }
            },
            "type": "barpolar"
           }
          ],
          "carpet": [
           {
            "aaxis": {
             "endlinecolor": "#2a3f5f",
             "gridcolor": "white",
             "linecolor": "white",
             "minorgridcolor": "white",
             "startlinecolor": "#2a3f5f"
            },
            "baxis": {
             "endlinecolor": "#2a3f5f",
             "gridcolor": "white",
             "linecolor": "white",
             "minorgridcolor": "white",
             "startlinecolor": "#2a3f5f"
            },
            "type": "carpet"
           }
          ],
          "choropleth": [
           {
            "colorbar": {
             "outlinewidth": 0,
             "ticks": ""
            },
            "type": "choropleth"
           }
          ],
          "contour": [
           {
            "colorbar": {
             "outlinewidth": 0,
             "ticks": ""
            },
            "colorscale": [
             [
              0,
              "#0d0887"
             ],
             [
              0.1111111111111111,
              "#46039f"
             ],
             [
              0.2222222222222222,
              "#7201a8"
             ],
             [
              0.3333333333333333,
              "#9c179e"
             ],
             [
              0.4444444444444444,
              "#bd3786"
             ],
             [
              0.5555555555555556,
              "#d8576b"
             ],
             [
              0.6666666666666666,
              "#ed7953"
             ],
             [
              0.7777777777777778,
              "#fb9f3a"
             ],
             [
              0.8888888888888888,
              "#fdca26"
             ],
             [
              1,
              "#f0f921"
             ]
            ],
            "type": "contour"
           }
          ],
          "contourcarpet": [
           {
            "colorbar": {
             "outlinewidth": 0,
             "ticks": ""
            },
            "type": "contourcarpet"
           }
          ],
          "heatmap": [
           {
            "colorbar": {
             "outlinewidth": 0,
             "ticks": ""
            },
            "colorscale": [
             [
              0,
              "#0d0887"
             ],
             [
              0.1111111111111111,
              "#46039f"
             ],
             [
              0.2222222222222222,
              "#7201a8"
             ],
             [
              0.3333333333333333,
              "#9c179e"
             ],
             [
              0.4444444444444444,
              "#bd3786"
             ],
             [
              0.5555555555555556,
              "#d8576b"
             ],
             [
              0.6666666666666666,
              "#ed7953"
             ],
             [
              0.7777777777777778,
              "#fb9f3a"
             ],
             [
              0.8888888888888888,
              "#fdca26"
             ],
             [
              1,
              "#f0f921"
             ]
            ],
            "type": "heatmap"
           }
          ],
          "heatmapgl": [
           {
            "colorbar": {
             "outlinewidth": 0,
             "ticks": ""
            },
            "colorscale": [
             [
              0,
              "#0d0887"
             ],
             [
              0.1111111111111111,
              "#46039f"
             ],
             [
              0.2222222222222222,
              "#7201a8"
             ],
             [
              0.3333333333333333,
              "#9c179e"
             ],
             [
              0.4444444444444444,
              "#bd3786"
             ],
             [
              0.5555555555555556,
              "#d8576b"
             ],
             [
              0.6666666666666666,
              "#ed7953"
             ],
             [
              0.7777777777777778,
              "#fb9f3a"
             ],
             [
              0.8888888888888888,
              "#fdca26"
             ],
             [
              1,
              "#f0f921"
             ]
            ],
            "type": "heatmapgl"
           }
          ],
          "histogram": [
           {
            "marker": {
             "pattern": {
              "fillmode": "overlay",
              "size": 10,
              "solidity": 0.2
             }
            },
            "type": "histogram"
           }
          ],
          "histogram2d": [
           {
            "colorbar": {
             "outlinewidth": 0,
             "ticks": ""
            },
            "colorscale": [
             [
              0,
              "#0d0887"
             ],
             [
              0.1111111111111111,
              "#46039f"
             ],
             [
              0.2222222222222222,
              "#7201a8"
             ],
             [
              0.3333333333333333,
              "#9c179e"
             ],
             [
              0.4444444444444444,
              "#bd3786"
             ],
             [
              0.5555555555555556,
              "#d8576b"
             ],
             [
              0.6666666666666666,
              "#ed7953"
             ],
             [
              0.7777777777777778,
              "#fb9f3a"
             ],
             [
              0.8888888888888888,
              "#fdca26"
             ],
             [
              1,
              "#f0f921"
             ]
            ],
            "type": "histogram2d"
           }
          ],
          "histogram2dcontour": [
           {
            "colorbar": {
             "outlinewidth": 0,
             "ticks": ""
            },
            "colorscale": [
             [
              0,
              "#0d0887"
             ],
             [
              0.1111111111111111,
              "#46039f"
             ],
             [
              0.2222222222222222,
              "#7201a8"
             ],
             [
              0.3333333333333333,
              "#9c179e"
             ],
             [
              0.4444444444444444,
              "#bd3786"
             ],
             [
              0.5555555555555556,
              "#d8576b"
             ],
             [
              0.6666666666666666,
              "#ed7953"
             ],
             [
              0.7777777777777778,
              "#fb9f3a"
             ],
             [
              0.8888888888888888,
              "#fdca26"
             ],
             [
              1,
              "#f0f921"
             ]
            ],
            "type": "histogram2dcontour"
           }
          ],
          "mesh3d": [
           {
            "colorbar": {
             "outlinewidth": 0,
             "ticks": ""
            },
            "type": "mesh3d"
           }
          ],
          "parcoords": [
           {
            "line": {
             "colorbar": {
              "outlinewidth": 0,
              "ticks": ""
             }
            },
            "type": "parcoords"
           }
          ],
          "pie": [
           {
            "automargin": true,
            "type": "pie"
           }
          ],
          "scatter": [
           {
            "fillpattern": {
             "fillmode": "overlay",
             "size": 10,
             "solidity": 0.2
            },
            "type": "scatter"
           }
          ],
          "scatter3d": [
           {
            "line": {
             "colorbar": {
              "outlinewidth": 0,
              "ticks": ""
             }
            },
            "marker": {
             "colorbar": {
              "outlinewidth": 0,
              "ticks": ""
             }
            },
            "type": "scatter3d"
           }
          ],
          "scattercarpet": [
           {
            "marker": {
             "colorbar": {
              "outlinewidth": 0,
              "ticks": ""
             }
            },
            "type": "scattercarpet"
           }
          ],
          "scattergeo": [
           {
            "marker": {
             "colorbar": {
              "outlinewidth": 0,
              "ticks": ""
             }
            },
            "type": "scattergeo"
           }
          ],
          "scattergl": [
           {
            "marker": {
             "colorbar": {
              "outlinewidth": 0,
              "ticks": ""
             }
            },
            "type": "scattergl"
           }
          ],
          "scattermapbox": [
           {
            "marker": {
             "colorbar": {
              "outlinewidth": 0,
              "ticks": ""
             }
            },
            "type": "scattermapbox"
           }
          ],
          "scatterpolar": [
           {
            "marker": {
             "colorbar": {
              "outlinewidth": 0,
              "ticks": ""
             }
            },
            "type": "scatterpolar"
           }
          ],
          "scatterpolargl": [
           {
            "marker": {
             "colorbar": {
              "outlinewidth": 0,
              "ticks": ""
             }
            },
            "type": "scatterpolargl"
           }
          ],
          "scatterternary": [
           {
            "marker": {
             "colorbar": {
              "outlinewidth": 0,
              "ticks": ""
             }
            },
            "type": "scatterternary"
           }
          ],
          "surface": [
           {
            "colorbar": {
             "outlinewidth": 0,
             "ticks": ""
            },
            "colorscale": [
             [
              0,
              "#0d0887"
             ],
             [
              0.1111111111111111,
              "#46039f"
             ],
             [
              0.2222222222222222,
              "#7201a8"
             ],
             [
              0.3333333333333333,
              "#9c179e"
             ],
             [
              0.4444444444444444,
              "#bd3786"
             ],
             [
              0.5555555555555556,
              "#d8576b"
             ],
             [
              0.6666666666666666,
              "#ed7953"
             ],
             [
              0.7777777777777778,
              "#fb9f3a"
             ],
             [
              0.8888888888888888,
              "#fdca26"
             ],
             [
              1,
              "#f0f921"
             ]
            ],
            "type": "surface"
           }
          ],
          "table": [
           {
            "cells": {
             "fill": {
              "color": "#EBF0F8"
             },
             "line": {
              "color": "white"
             }
            },
            "header": {
             "fill": {
              "color": "#C8D4E3"
             },
             "line": {
              "color": "white"
             }
            },
            "type": "table"
           }
          ]
         },
         "layout": {
          "annotationdefaults": {
           "arrowcolor": "#2a3f5f",
           "arrowhead": 0,
           "arrowwidth": 1
          },
          "autotypenumbers": "strict",
          "coloraxis": {
           "colorbar": {
            "outlinewidth": 0,
            "ticks": ""
           }
          },
          "colorscale": {
           "diverging": [
            [
             0,
             "#8e0152"
            ],
            [
             0.1,
             "#c51b7d"
            ],
            [
             0.2,
             "#de77ae"
            ],
            [
             0.3,
             "#f1b6da"
            ],
            [
             0.4,
             "#fde0ef"
            ],
            [
             0.5,
             "#f7f7f7"
            ],
            [
             0.6,
             "#e6f5d0"
            ],
            [
             0.7,
             "#b8e186"
            ],
            [
             0.8,
             "#7fbc41"
            ],
            [
             0.9,
             "#4d9221"
            ],
            [
             1,
             "#276419"
            ]
           ],
           "sequential": [
            [
             0,
             "#0d0887"
            ],
            [
             0.1111111111111111,
             "#46039f"
            ],
            [
             0.2222222222222222,
             "#7201a8"
            ],
            [
             0.3333333333333333,
             "#9c179e"
            ],
            [
             0.4444444444444444,
             "#bd3786"
            ],
            [
             0.5555555555555556,
             "#d8576b"
            ],
            [
             0.6666666666666666,
             "#ed7953"
            ],
            [
             0.7777777777777778,
             "#fb9f3a"
            ],
            [
             0.8888888888888888,
             "#fdca26"
            ],
            [
             1,
             "#f0f921"
            ]
           ],
           "sequentialminus": [
            [
             0,
             "#0d0887"
            ],
            [
             0.1111111111111111,
             "#46039f"
            ],
            [
             0.2222222222222222,
             "#7201a8"
            ],
            [
             0.3333333333333333,
             "#9c179e"
            ],
            [
             0.4444444444444444,
             "#bd3786"
            ],
            [
             0.5555555555555556,
             "#d8576b"
            ],
            [
             0.6666666666666666,
             "#ed7953"
            ],
            [
             0.7777777777777778,
             "#fb9f3a"
            ],
            [
             0.8888888888888888,
             "#fdca26"
            ],
            [
             1,
             "#f0f921"
            ]
           ]
          },
          "colorway": [
           "#636efa",
           "#EF553B",
           "#00cc96",
           "#ab63fa",
           "#FFA15A",
           "#19d3f3",
           "#FF6692",
           "#B6E880",
           "#FF97FF",
           "#FECB52"
          ],
          "font": {
           "color": "#2a3f5f"
          },
          "geo": {
           "bgcolor": "white",
           "lakecolor": "white",
           "landcolor": "#E5ECF6",
           "showlakes": true,
           "showland": true,
           "subunitcolor": "white"
          },
          "hoverlabel": {
           "align": "left"
          },
          "hovermode": "closest",
          "mapbox": {
           "style": "light"
          },
          "paper_bgcolor": "white",
          "plot_bgcolor": "#E5ECF6",
          "polar": {
           "angularaxis": {
            "gridcolor": "white",
            "linecolor": "white",
            "ticks": ""
           },
           "bgcolor": "#E5ECF6",
           "radialaxis": {
            "gridcolor": "white",
            "linecolor": "white",
            "ticks": ""
           }
          },
          "scene": {
           "xaxis": {
            "backgroundcolor": "#E5ECF6",
            "gridcolor": "white",
            "gridwidth": 2,
            "linecolor": "white",
            "showbackground": true,
            "ticks": "",
            "zerolinecolor": "white"
           },
           "yaxis": {
            "backgroundcolor": "#E5ECF6",
            "gridcolor": "white",
            "gridwidth": 2,
            "linecolor": "white",
            "showbackground": true,
            "ticks": "",
            "zerolinecolor": "white"
           },
           "zaxis": {
            "backgroundcolor": "#E5ECF6",
            "gridcolor": "white",
            "gridwidth": 2,
            "linecolor": "white",
            "showbackground": true,
            "ticks": "",
            "zerolinecolor": "white"
           }
          },
          "shapedefaults": {
           "line": {
            "color": "#2a3f5f"
           }
          },
          "ternary": {
           "aaxis": {
            "gridcolor": "white",
            "linecolor": "white",
            "ticks": ""
           },
           "baxis": {
            "gridcolor": "white",
            "linecolor": "white",
            "ticks": ""
           },
           "bgcolor": "#E5ECF6",
           "caxis": {
            "gridcolor": "white",
            "linecolor": "white",
            "ticks": ""
           }
          },
          "title": {
           "x": 0.05
          },
          "xaxis": {
           "automargin": true,
           "gridcolor": "white",
           "linecolor": "white",
           "ticks": "",
           "title": {
            "standoff": 15
           },
           "zerolinecolor": "white",
           "zerolinewidth": 2
          },
          "yaxis": {
           "automargin": true,
           "gridcolor": "white",
           "linecolor": "white",
           "ticks": "",
           "title": {
            "standoff": 15
           },
           "zerolinecolor": "white",
           "zerolinewidth": 2
          }
         }
        },
        "title": {
         "text": "Temperature DHT11"
        },
        "xaxis": {
         "anchor": "y",
         "domain": [
          0,
          1
         ],
         "title": {
          "text": "Time [s]"
         }
        },
        "yaxis": {
         "anchor": "x",
         "domain": [
          0,
          1
         ],
         "title": {
          "text": "Temperature [°C]"
         }
        }
       }
      }
     },
     "metadata": {},
     "output_type": "display_data"
    }
   ],
   "source": [
    "#calculate exponential fit\n",
    "#exponential formula\n",
    "#t_final = room_temp + (t0 - room_temp) * np.exp(-t / t_const)\n",
    "#(t_final - room_temp) / (t0 - room_temp) = np.exp(-t / t_const)\n",
    "#ln((t_final - room_temp) / (t0 - room_temp)) = -t / t_const\n",
    "#t_const = -t / ln((t_final - room_temp) / (t0 - room_temp))\n",
    "\n",
    "room_temp = 25\n",
    "t0 = df_exp['Temperature DHT11'].iloc[0]\n",
    "t_final = df_exp['Temperature DHT11'].iloc[-1]\n",
    "delta_t = df_exp['time'].iloc[-1] - df_exp['time'].iloc[0]\n",
    "print('-------------------')\n",
    "print('delta_t: ', delta_t)\n",
    "print('t final: ', t_final)\n",
    "print('room temp: ', room_temp)\n",
    "print('t0: ', t0)\n",
    "print('-------------------')\n",
    "\n",
    "t_const = -delta_t / np.log((t_final - room_temp) / (t0 - room_temp))\n",
    "t_first_calc = room_temp + (t0 - room_temp) \n",
    "t_final_calc = room_temp + (t0 - room_temp) * np.exp(-delta_t / t_const)\n",
    "\n",
    "print('delta_t: ', delta_t)\n",
    "print('t0: ', t0)\n",
    "print('t_final: ', t_final)\n",
    "print('t_const: ', t_const)\n",
    "print('t_first_calc: ', t_first_calc)\n",
    "print('t_final_calc: ', t_final_calc)\n",
    "print('error: ', t_final - t_final_calc)\n",
    "\n",
    "def exponential(delta_t, t0, t_const, room_temp):\n",
    "    return room_temp + (t0 - room_temp) * np.exp(-delta_t / t_const)\n",
    "\n",
    "\n",
    "\n",
    "df['exponential'] = exponential(df_exp['time'] - df_exp['time'].iloc[0], t0, t_const, room_temp)\n",
    "\n",
    "def exponential2(t, t0, t_const, room_temp):\n",
    "    return t0 * np.exp(-t / t_const)\n",
    "#calculate exponential fit\n",
    "t_const = 300.0\n",
    "\n",
    "df['exponential_2'] = exponential2(df_exp['time'] - df_exp['time'].iloc[0], t0, t_const, room_temp)\n",
    "#extend exponential fit to whole data\n",
    "#plot exponential fit\n",
    "fig = px.line(df, x='time', y=['Temperature DHT11', 'exponential', 'exponential_2'])\n",
    "fig.update_layout(\n",
    "    title=\"Temperature DHT11\",\n",
    "    xaxis_title=\"Time [s]\",\n",
    "    yaxis_title=\"Temperature [°C]\",\n",
    "    # yaxis_type=\"log\",\n",
    ")\n",
    "fig.add_vline(x=max_temp, line_width=3, line_dash=\"dash\", line_color=\"green\")\n",
    "fig.add_vline(x=max_temp_after, line_width=3, line_dash=\"dash\", line_color=\"red\")\n",
    "# df.to_excel('data5_exp_fit_temp.xlsx')\n",
    "# df.to_csv('data5_exp_fit_temp.csv')"
   ]
  },
  {
   "attachments": {},
   "cell_type": "markdown",
   "metadata": {},
   "source": [
    "with the exponential decay equation:\n",
    "$$ t(t) = t_{room} + (t_0 - t_{room})e^{-\\frac{t}{t_{const}}} $$\n",
    "we can solve for the time constant $t_{const}$:\n",
    "\n",
    "$$ t_{const} = -\\frac{\\Delta t}{\\ln{\\frac{t_{final} - t_{room}}{t_0 - t_{room}}}} $$\n",
    "\n",
    "with the following values:\n",
    "\n",
    "```python\n",
    "delta_t:  28.81369137763977\n",
    "t_final:  26.1\n",
    "t0:  28.4\n",
    "room_temp = 20.0\n",
    "t_const = -delta_t / np.log((t_final - room_temp) / (t0 - room_temp))\n",
    "```\n",
    "\n",
    "we get $t_{const} =  25.533$."
   ]
  },
  {
   "cell_type": "code",
   "execution_count": null,
   "metadata": {},
   "outputs": [],
   "source": [
    "Certainly! Here's the LaTeX representation of Newton's Law of Cooling as a function of time:\n",
    "\n",
    "\n",
    "\n",
    "In this equation, \\( T(t) \\) represents the temperature at time \\( t \\), \\( T_{\\text{{ambient}}} \\) represents the ambient temperature, \\( T_0 \\) represents the initial temperature at time \\( t_0 \\), \\( k \\) represents the cooling constant, and \\( t \\) represents the time at which you want to calculate the temperature."
   ]
  },
  {
   "cell_type": "code",
   "execution_count": 219,
   "metadata": {},
   "outputs": [
    {
     "name": "stdout",
     "output_type": "stream",
     "text": [
      "max temp index:  63\n",
      "max temp index + 5 sec:  113\n"
     ]
    },
    {
     "data": {
      "application/vnd.plotly.v1+json": {
       "config": {
        "plotlyServerURL": "https://plot.ly"
       },
       "data": [
        {
         "hovertemplate": "variable=humidity<br>time=%{x}<br>value=%{y}<extra></extra>",
         "legendgroup": "humidity",
         "line": {
          "color": "#636efa",
          "dash": "solid"
         },
         "marker": {
          "symbol": "circle"
         },
         "mode": "lines",
         "name": "humidity",
         "orientation": "v",
         "showlegend": true,
         "type": "scatter",
         "x": [
          0.8709084987640381,
          1.8930394649505613,
          2.8601996898651123,
          3.8556296825408936,
          4.87248682975769,
          5.841391801834106,
          6.836629867553711,
          7.857435464859009,
          8.825624704360962,
          9.819802522659302,
          10.838414192199709,
          11.805572986602783,
          12.799920320510864,
          13.820014238357544,
          14.786529779434204,
          15.779675960540771,
          16.797858238220215,
          17.767882823944092,
          18.76195764541626,
          19.778691053390503,
          20.74718022346497,
          21.740343809127808,
          22.76046347618103,
          23.7298424243927,
          24.719428300857544,
          25.74025273323059,
          26.710058450698853,
          27.70027780532837,
          28.721885204315186,
          29.68937349319458,
          30.681447744369507,
          31.700834035873413,
          32.66772270202637,
          33.662532806396484,
          34.67948269844055,
          35.64937210083008,
          36.64345049858093,
          37.659993171691895,
          38.629618406295776,
          39.622859716415405,
          40.64195370674133,
          41.609421253204346,
          42.60266423225403,
          43.62218999862671,
          44.58798360824585,
          45.58203029632568,
          46.60287070274353,
          47.56878471374512,
          48.56553411483765,
          49.5827853679657,
          50.55224132537842,
          51.54604268074036,
          52.56380105018616,
          53.53312563896179,
          54.52500128746033,
          55.54508185386658,
          56.51431179046631,
          57.50707006454468,
          58.526081800460815,
          59.49418044090271,
          60.48592901229858,
          61.50732445716858,
          62.476224184036255,
          63.4656720161438,
          64.48708820343018,
          65.45735001564026,
          66.44932246208191,
          67.46827912330627,
          68.435786485672,
          69.43124461174011,
          70.44593214988708,
          71.41841292381287,
          72.4111819267273,
          73.42770791053772,
          74.39848279953003,
          75.39322590827942,
          76.40967392921448,
          77.3807544708252,
          78.37462401390076,
          79.3918468952179,
          80.35816502571106,
          81.35494327545166,
          82.37308526039124,
          83.33892154693604,
          84.33482480049133,
          85.35468745231628,
          86.32181310653687,
          87.31563758850098,
          88.3353009223938,
          89.30262494087219,
          90.29756999015808,
          91.3156988620758,
          92.28408932685852,
          93.27733612060548,
          94.29049801826476,
          95.26508498191832,
          96.25816583633424,
          97.27832341194151,
          98.2472321987152,
          99.23752498626708,
          100.2582528591156,
          101.22740364074708,
          102.22064876556396,
          103.24026608467102,
          104.20701932907104,
          105.20291757583618,
          106.22122001647948,
          107.18659973144533,
          108.18218874931335,
          109.20113348960876,
          110.17099499702454,
          111.16404700279236,
          112.18251061439514,
          113.150141954422,
          114.1439254283905,
          115.16397643089294,
          116.1294367313385,
          117.12508416175842,
          118.14522576332092,
          119.1132628917694
         ],
         "xaxis": "x",
         "y": [
          47,
          45,
          45,
          45,
          44,
          44,
          44,
          42,
          42,
          42,
          95,
          95,
          95,
          95,
          95,
          95,
          95,
          95,
          95,
          95,
          95,
          95,
          95,
          95,
          95,
          95,
          95,
          95,
          95,
          95,
          95,
          95,
          95,
          95,
          95,
          95,
          95,
          95,
          95,
          95,
          95,
          95,
          95,
          95,
          95,
          95,
          95,
          95,
          95,
          95,
          95,
          95,
          95,
          95,
          95,
          95,
          95,
          95,
          95,
          95,
          95,
          95,
          95,
          95,
          78,
          78,
          78,
          68,
          68,
          68,
          58,
          58,
          58,
          54,
          54,
          54,
          52,
          52,
          52,
          46,
          46,
          46,
          45,
          45,
          45,
          44,
          44,
          44,
          44,
          44,
          44,
          44,
          44,
          44,
          42,
          42,
          42,
          41,
          41,
          41,
          41,
          41,
          41,
          41,
          41,
          41,
          41,
          41,
          41,
          41,
          41,
          41,
          41,
          41,
          41,
          40,
          40,
          40,
          40,
          40
         ],
         "yaxis": "y"
        }
       ],
       "layout": {
        "legend": {
         "title": {
          "text": "variable"
         },
         "tracegroupgap": 0
        },
        "margin": {
         "t": 60
        },
        "shapes": [
         {
          "line": {
           "color": "green",
           "dash": "dash",
           "width": 3
          },
          "type": "line",
          "x0": 63,
          "x1": 63,
          "xref": "x",
          "y0": 0,
          "y1": 1,
          "yref": "y domain"
         },
         {
          "line": {
           "color": "red",
           "dash": "dash",
           "width": 3
          },
          "type": "line",
          "x0": 113,
          "x1": 113,
          "xref": "x",
          "y0": 0,
          "y1": 1,
          "yref": "y domain"
         }
        ],
        "template": {
         "data": {
          "bar": [
           {
            "error_x": {
             "color": "#2a3f5f"
            },
            "error_y": {
             "color": "#2a3f5f"
            },
            "marker": {
             "line": {
              "color": "#E5ECF6",
              "width": 0.5
             },
             "pattern": {
              "fillmode": "overlay",
              "size": 10,
              "solidity": 0.2
             }
            },
            "type": "bar"
           }
          ],
          "barpolar": [
           {
            "marker": {
             "line": {
              "color": "#E5ECF6",
              "width": 0.5
             },
             "pattern": {
              "fillmode": "overlay",
              "size": 10,
              "solidity": 0.2
             }
            },
            "type": "barpolar"
           }
          ],
          "carpet": [
           {
            "aaxis": {
             "endlinecolor": "#2a3f5f",
             "gridcolor": "white",
             "linecolor": "white",
             "minorgridcolor": "white",
             "startlinecolor": "#2a3f5f"
            },
            "baxis": {
             "endlinecolor": "#2a3f5f",
             "gridcolor": "white",
             "linecolor": "white",
             "minorgridcolor": "white",
             "startlinecolor": "#2a3f5f"
            },
            "type": "carpet"
           }
          ],
          "choropleth": [
           {
            "colorbar": {
             "outlinewidth": 0,
             "ticks": ""
            },
            "type": "choropleth"
           }
          ],
          "contour": [
           {
            "colorbar": {
             "outlinewidth": 0,
             "ticks": ""
            },
            "colorscale": [
             [
              0,
              "#0d0887"
             ],
             [
              0.1111111111111111,
              "#46039f"
             ],
             [
              0.2222222222222222,
              "#7201a8"
             ],
             [
              0.3333333333333333,
              "#9c179e"
             ],
             [
              0.4444444444444444,
              "#bd3786"
             ],
             [
              0.5555555555555556,
              "#d8576b"
             ],
             [
              0.6666666666666666,
              "#ed7953"
             ],
             [
              0.7777777777777778,
              "#fb9f3a"
             ],
             [
              0.8888888888888888,
              "#fdca26"
             ],
             [
              1,
              "#f0f921"
             ]
            ],
            "type": "contour"
           }
          ],
          "contourcarpet": [
           {
            "colorbar": {
             "outlinewidth": 0,
             "ticks": ""
            },
            "type": "contourcarpet"
           }
          ],
          "heatmap": [
           {
            "colorbar": {
             "outlinewidth": 0,
             "ticks": ""
            },
            "colorscale": [
             [
              0,
              "#0d0887"
             ],
             [
              0.1111111111111111,
              "#46039f"
             ],
             [
              0.2222222222222222,
              "#7201a8"
             ],
             [
              0.3333333333333333,
              "#9c179e"
             ],
             [
              0.4444444444444444,
              "#bd3786"
             ],
             [
              0.5555555555555556,
              "#d8576b"
             ],
             [
              0.6666666666666666,
              "#ed7953"
             ],
             [
              0.7777777777777778,
              "#fb9f3a"
             ],
             [
              0.8888888888888888,
              "#fdca26"
             ],
             [
              1,
              "#f0f921"
             ]
            ],
            "type": "heatmap"
           }
          ],
          "heatmapgl": [
           {
            "colorbar": {
             "outlinewidth": 0,
             "ticks": ""
            },
            "colorscale": [
             [
              0,
              "#0d0887"
             ],
             [
              0.1111111111111111,
              "#46039f"
             ],
             [
              0.2222222222222222,
              "#7201a8"
             ],
             [
              0.3333333333333333,
              "#9c179e"
             ],
             [
              0.4444444444444444,
              "#bd3786"
             ],
             [
              0.5555555555555556,
              "#d8576b"
             ],
             [
              0.6666666666666666,
              "#ed7953"
             ],
             [
              0.7777777777777778,
              "#fb9f3a"
             ],
             [
              0.8888888888888888,
              "#fdca26"
             ],
             [
              1,
              "#f0f921"
             ]
            ],
            "type": "heatmapgl"
           }
          ],
          "histogram": [
           {
            "marker": {
             "pattern": {
              "fillmode": "overlay",
              "size": 10,
              "solidity": 0.2
             }
            },
            "type": "histogram"
           }
          ],
          "histogram2d": [
           {
            "colorbar": {
             "outlinewidth": 0,
             "ticks": ""
            },
            "colorscale": [
             [
              0,
              "#0d0887"
             ],
             [
              0.1111111111111111,
              "#46039f"
             ],
             [
              0.2222222222222222,
              "#7201a8"
             ],
             [
              0.3333333333333333,
              "#9c179e"
             ],
             [
              0.4444444444444444,
              "#bd3786"
             ],
             [
              0.5555555555555556,
              "#d8576b"
             ],
             [
              0.6666666666666666,
              "#ed7953"
             ],
             [
              0.7777777777777778,
              "#fb9f3a"
             ],
             [
              0.8888888888888888,
              "#fdca26"
             ],
             [
              1,
              "#f0f921"
             ]
            ],
            "type": "histogram2d"
           }
          ],
          "histogram2dcontour": [
           {
            "colorbar": {
             "outlinewidth": 0,
             "ticks": ""
            },
            "colorscale": [
             [
              0,
              "#0d0887"
             ],
             [
              0.1111111111111111,
              "#46039f"
             ],
             [
              0.2222222222222222,
              "#7201a8"
             ],
             [
              0.3333333333333333,
              "#9c179e"
             ],
             [
              0.4444444444444444,
              "#bd3786"
             ],
             [
              0.5555555555555556,
              "#d8576b"
             ],
             [
              0.6666666666666666,
              "#ed7953"
             ],
             [
              0.7777777777777778,
              "#fb9f3a"
             ],
             [
              0.8888888888888888,
              "#fdca26"
             ],
             [
              1,
              "#f0f921"
             ]
            ],
            "type": "histogram2dcontour"
           }
          ],
          "mesh3d": [
           {
            "colorbar": {
             "outlinewidth": 0,
             "ticks": ""
            },
            "type": "mesh3d"
           }
          ],
          "parcoords": [
           {
            "line": {
             "colorbar": {
              "outlinewidth": 0,
              "ticks": ""
             }
            },
            "type": "parcoords"
           }
          ],
          "pie": [
           {
            "automargin": true,
            "type": "pie"
           }
          ],
          "scatter": [
           {
            "fillpattern": {
             "fillmode": "overlay",
             "size": 10,
             "solidity": 0.2
            },
            "type": "scatter"
           }
          ],
          "scatter3d": [
           {
            "line": {
             "colorbar": {
              "outlinewidth": 0,
              "ticks": ""
             }
            },
            "marker": {
             "colorbar": {
              "outlinewidth": 0,
              "ticks": ""
             }
            },
            "type": "scatter3d"
           }
          ],
          "scattercarpet": [
           {
            "marker": {
             "colorbar": {
              "outlinewidth": 0,
              "ticks": ""
             }
            },
            "type": "scattercarpet"
           }
          ],
          "scattergeo": [
           {
            "marker": {
             "colorbar": {
              "outlinewidth": 0,
              "ticks": ""
             }
            },
            "type": "scattergeo"
           }
          ],
          "scattergl": [
           {
            "marker": {
             "colorbar": {
              "outlinewidth": 0,
              "ticks": ""
             }
            },
            "type": "scattergl"
           }
          ],
          "scattermapbox": [
           {
            "marker": {
             "colorbar": {
              "outlinewidth": 0,
              "ticks": ""
             }
            },
            "type": "scattermapbox"
           }
          ],
          "scatterpolar": [
           {
            "marker": {
             "colorbar": {
              "outlinewidth": 0,
              "ticks": ""
             }
            },
            "type": "scatterpolar"
           }
          ],
          "scatterpolargl": [
           {
            "marker": {
             "colorbar": {
              "outlinewidth": 0,
              "ticks": ""
             }
            },
            "type": "scatterpolargl"
           }
          ],
          "scatterternary": [
           {
            "marker": {
             "colorbar": {
              "outlinewidth": 0,
              "ticks": ""
             }
            },
            "type": "scatterternary"
           }
          ],
          "surface": [
           {
            "colorbar": {
             "outlinewidth": 0,
             "ticks": ""
            },
            "colorscale": [
             [
              0,
              "#0d0887"
             ],
             [
              0.1111111111111111,
              "#46039f"
             ],
             [
              0.2222222222222222,
              "#7201a8"
             ],
             [
              0.3333333333333333,
              "#9c179e"
             ],
             [
              0.4444444444444444,
              "#bd3786"
             ],
             [
              0.5555555555555556,
              "#d8576b"
             ],
             [
              0.6666666666666666,
              "#ed7953"
             ],
             [
              0.7777777777777778,
              "#fb9f3a"
             ],
             [
              0.8888888888888888,
              "#fdca26"
             ],
             [
              1,
              "#f0f921"
             ]
            ],
            "type": "surface"
           }
          ],
          "table": [
           {
            "cells": {
             "fill": {
              "color": "#EBF0F8"
             },
             "line": {
              "color": "white"
             }
            },
            "header": {
             "fill": {
              "color": "#C8D4E3"
             },
             "line": {
              "color": "white"
             }
            },
            "type": "table"
           }
          ]
         },
         "layout": {
          "annotationdefaults": {
           "arrowcolor": "#2a3f5f",
           "arrowhead": 0,
           "arrowwidth": 1
          },
          "autotypenumbers": "strict",
          "coloraxis": {
           "colorbar": {
            "outlinewidth": 0,
            "ticks": ""
           }
          },
          "colorscale": {
           "diverging": [
            [
             0,
             "#8e0152"
            ],
            [
             0.1,
             "#c51b7d"
            ],
            [
             0.2,
             "#de77ae"
            ],
            [
             0.3,
             "#f1b6da"
            ],
            [
             0.4,
             "#fde0ef"
            ],
            [
             0.5,
             "#f7f7f7"
            ],
            [
             0.6,
             "#e6f5d0"
            ],
            [
             0.7,
             "#b8e186"
            ],
            [
             0.8,
             "#7fbc41"
            ],
            [
             0.9,
             "#4d9221"
            ],
            [
             1,
             "#276419"
            ]
           ],
           "sequential": [
            [
             0,
             "#0d0887"
            ],
            [
             0.1111111111111111,
             "#46039f"
            ],
            [
             0.2222222222222222,
             "#7201a8"
            ],
            [
             0.3333333333333333,
             "#9c179e"
            ],
            [
             0.4444444444444444,
             "#bd3786"
            ],
            [
             0.5555555555555556,
             "#d8576b"
            ],
            [
             0.6666666666666666,
             "#ed7953"
            ],
            [
             0.7777777777777778,
             "#fb9f3a"
            ],
            [
             0.8888888888888888,
             "#fdca26"
            ],
            [
             1,
             "#f0f921"
            ]
           ],
           "sequentialminus": [
            [
             0,
             "#0d0887"
            ],
            [
             0.1111111111111111,
             "#46039f"
            ],
            [
             0.2222222222222222,
             "#7201a8"
            ],
            [
             0.3333333333333333,
             "#9c179e"
            ],
            [
             0.4444444444444444,
             "#bd3786"
            ],
            [
             0.5555555555555556,
             "#d8576b"
            ],
            [
             0.6666666666666666,
             "#ed7953"
            ],
            [
             0.7777777777777778,
             "#fb9f3a"
            ],
            [
             0.8888888888888888,
             "#fdca26"
            ],
            [
             1,
             "#f0f921"
            ]
           ]
          },
          "colorway": [
           "#636efa",
           "#EF553B",
           "#00cc96",
           "#ab63fa",
           "#FFA15A",
           "#19d3f3",
           "#FF6692",
           "#B6E880",
           "#FF97FF",
           "#FECB52"
          ],
          "font": {
           "color": "#2a3f5f"
          },
          "geo": {
           "bgcolor": "white",
           "lakecolor": "white",
           "landcolor": "#E5ECF6",
           "showlakes": true,
           "showland": true,
           "subunitcolor": "white"
          },
          "hoverlabel": {
           "align": "left"
          },
          "hovermode": "closest",
          "mapbox": {
           "style": "light"
          },
          "paper_bgcolor": "white",
          "plot_bgcolor": "#E5ECF6",
          "polar": {
           "angularaxis": {
            "gridcolor": "white",
            "linecolor": "white",
            "ticks": ""
           },
           "bgcolor": "#E5ECF6",
           "radialaxis": {
            "gridcolor": "white",
            "linecolor": "white",
            "ticks": ""
           }
          },
          "scene": {
           "xaxis": {
            "backgroundcolor": "#E5ECF6",
            "gridcolor": "white",
            "gridwidth": 2,
            "linecolor": "white",
            "showbackground": true,
            "ticks": "",
            "zerolinecolor": "white"
           },
           "yaxis": {
            "backgroundcolor": "#E5ECF6",
            "gridcolor": "white",
            "gridwidth": 2,
            "linecolor": "white",
            "showbackground": true,
            "ticks": "",
            "zerolinecolor": "white"
           },
           "zaxis": {
            "backgroundcolor": "#E5ECF6",
            "gridcolor": "white",
            "gridwidth": 2,
            "linecolor": "white",
            "showbackground": true,
            "ticks": "",
            "zerolinecolor": "white"
           }
          },
          "shapedefaults": {
           "line": {
            "color": "#2a3f5f"
           }
          },
          "ternary": {
           "aaxis": {
            "gridcolor": "white",
            "linecolor": "white",
            "ticks": ""
           },
           "baxis": {
            "gridcolor": "white",
            "linecolor": "white",
            "ticks": ""
           },
           "bgcolor": "#E5ECF6",
           "caxis": {
            "gridcolor": "white",
            "linecolor": "white",
            "ticks": ""
           }
          },
          "title": {
           "x": 0.05
          },
          "xaxis": {
           "automargin": true,
           "gridcolor": "white",
           "linecolor": "white",
           "ticks": "",
           "title": {
            "standoff": 15
           },
           "zerolinecolor": "white",
           "zerolinewidth": 2
          },
          "yaxis": {
           "automargin": true,
           "gridcolor": "white",
           "linecolor": "white",
           "ticks": "",
           "title": {
            "standoff": 15
           },
           "zerolinecolor": "white",
           "zerolinewidth": 2
          }
         }
        },
        "title": {
         "text": "Temperature DHT11"
        },
        "xaxis": {
         "anchor": "y",
         "domain": [
          0,
          1
         ],
         "title": {
          "text": "Time [s]"
         }
        },
        "yaxis": {
         "anchor": "x",
         "domain": [
          0,
          1
         ],
         "title": {
          "text": "Temperature [°C]"
         }
        }
       }
      }
     },
     "metadata": {},
     "output_type": "display_data"
    }
   ],
   "source": [
    "fig = px.line(df, x='time', y=['humidity'])\n",
    "fig.update_layout(\n",
    "    title=\"Temperature DHT11\",\n",
    "    xaxis_title=\"Time [s]\",\n",
    "    yaxis_title=\"Temperature [°C]\",\n",
    ")\n",
    "# #index max\n",
    "max_humidity = df['humidity'].idxmax() + 53\n",
    "print('max temp index: ', max_humidity)\n",
    "#index 5 sec after max\n",
    "after_sec = 50\n",
    "max_humidity_after = max_humidity + after_sec\n",
    "print('max temp index + 5 sec: ', max_humidity_after)\n",
    "#show index in plot\n",
    "fig.add_vline(x=max_humidity, line_width=3, line_dash=\"dash\", line_color=\"green\")\n",
    "fig.add_vline(x=max_humidity_after, line_width=3, line_dash=\"dash\", line_color=\"red\")\n",
    "fig.show()"
   ]
  },
  {
   "cell_type": "code",
   "execution_count": 220,
   "metadata": {},
   "outputs": [
    {
     "data": {
      "application/vnd.plotly.v1+json": {
       "config": {
        "plotlyServerURL": "https://plot.ly"
       },
       "data": [
        {
         "hovertemplate": "variable=humidity<br>time=%{x}<br>value=%{y}<extra></extra>",
         "legendgroup": "humidity",
         "line": {
          "color": "#636efa",
          "dash": "solid"
         },
         "marker": {
          "symbol": "circle"
         },
         "mode": "lines",
         "name": "humidity",
         "orientation": "v",
         "showlegend": true,
         "type": "scatter",
         "x": [
          63.4656720161438,
          64.48708820343018,
          65.45735001564026,
          66.44932246208191,
          67.46827912330627,
          68.435786485672,
          69.43124461174011,
          70.44593214988708,
          71.41841292381287,
          72.4111819267273,
          73.42770791053772,
          74.39848279953003,
          75.39322590827942,
          76.40967392921448,
          77.3807544708252,
          78.37462401390076,
          79.3918468952179,
          80.35816502571106,
          81.35494327545166,
          82.37308526039124,
          83.33892154693604,
          84.33482480049133,
          85.35468745231628,
          86.32181310653687,
          87.31563758850098,
          88.3353009223938,
          89.30262494087219,
          90.29756999015808,
          91.3156988620758,
          92.28408932685852,
          93.27733612060548,
          94.29049801826476,
          95.26508498191832,
          96.25816583633424,
          97.27832341194151,
          98.2472321987152,
          99.23752498626708,
          100.2582528591156,
          101.22740364074708,
          102.22064876556396,
          103.24026608467102,
          104.20701932907104,
          105.20291757583618,
          106.22122001647948,
          107.18659973144533,
          108.18218874931335,
          109.20113348960876,
          110.17099499702454,
          111.16404700279236,
          112.18251061439514
         ],
         "xaxis": "x",
         "y": [
          95,
          78,
          78,
          78,
          68,
          68,
          68,
          58,
          58,
          58,
          54,
          54,
          54,
          52,
          52,
          52,
          46,
          46,
          46,
          45,
          45,
          45,
          44,
          44,
          44,
          44,
          44,
          44,
          44,
          44,
          44,
          42,
          42,
          42,
          41,
          41,
          41,
          41,
          41,
          41,
          41,
          41,
          41,
          41,
          41,
          41,
          41,
          41,
          41,
          41
         ],
         "yaxis": "y"
        }
       ],
       "layout": {
        "legend": {
         "title": {
          "text": "variable"
         },
         "tracegroupgap": 0
        },
        "margin": {
         "t": 60
        },
        "template": {
         "data": {
          "bar": [
           {
            "error_x": {
             "color": "#2a3f5f"
            },
            "error_y": {
             "color": "#2a3f5f"
            },
            "marker": {
             "line": {
              "color": "#E5ECF6",
              "width": 0.5
             },
             "pattern": {
              "fillmode": "overlay",
              "size": 10,
              "solidity": 0.2
             }
            },
            "type": "bar"
           }
          ],
          "barpolar": [
           {
            "marker": {
             "line": {
              "color": "#E5ECF6",
              "width": 0.5
             },
             "pattern": {
              "fillmode": "overlay",
              "size": 10,
              "solidity": 0.2
             }
            },
            "type": "barpolar"
           }
          ],
          "carpet": [
           {
            "aaxis": {
             "endlinecolor": "#2a3f5f",
             "gridcolor": "white",
             "linecolor": "white",
             "minorgridcolor": "white",
             "startlinecolor": "#2a3f5f"
            },
            "baxis": {
             "endlinecolor": "#2a3f5f",
             "gridcolor": "white",
             "linecolor": "white",
             "minorgridcolor": "white",
             "startlinecolor": "#2a3f5f"
            },
            "type": "carpet"
           }
          ],
          "choropleth": [
           {
            "colorbar": {
             "outlinewidth": 0,
             "ticks": ""
            },
            "type": "choropleth"
           }
          ],
          "contour": [
           {
            "colorbar": {
             "outlinewidth": 0,
             "ticks": ""
            },
            "colorscale": [
             [
              0,
              "#0d0887"
             ],
             [
              0.1111111111111111,
              "#46039f"
             ],
             [
              0.2222222222222222,
              "#7201a8"
             ],
             [
              0.3333333333333333,
              "#9c179e"
             ],
             [
              0.4444444444444444,
              "#bd3786"
             ],
             [
              0.5555555555555556,
              "#d8576b"
             ],
             [
              0.6666666666666666,
              "#ed7953"
             ],
             [
              0.7777777777777778,
              "#fb9f3a"
             ],
             [
              0.8888888888888888,
              "#fdca26"
             ],
             [
              1,
              "#f0f921"
             ]
            ],
            "type": "contour"
           }
          ],
          "contourcarpet": [
           {
            "colorbar": {
             "outlinewidth": 0,
             "ticks": ""
            },
            "type": "contourcarpet"
           }
          ],
          "heatmap": [
           {
            "colorbar": {
             "outlinewidth": 0,
             "ticks": ""
            },
            "colorscale": [
             [
              0,
              "#0d0887"
             ],
             [
              0.1111111111111111,
              "#46039f"
             ],
             [
              0.2222222222222222,
              "#7201a8"
             ],
             [
              0.3333333333333333,
              "#9c179e"
             ],
             [
              0.4444444444444444,
              "#bd3786"
             ],
             [
              0.5555555555555556,
              "#d8576b"
             ],
             [
              0.6666666666666666,
              "#ed7953"
             ],
             [
              0.7777777777777778,
              "#fb9f3a"
             ],
             [
              0.8888888888888888,
              "#fdca26"
             ],
             [
              1,
              "#f0f921"
             ]
            ],
            "type": "heatmap"
           }
          ],
          "heatmapgl": [
           {
            "colorbar": {
             "outlinewidth": 0,
             "ticks": ""
            },
            "colorscale": [
             [
              0,
              "#0d0887"
             ],
             [
              0.1111111111111111,
              "#46039f"
             ],
             [
              0.2222222222222222,
              "#7201a8"
             ],
             [
              0.3333333333333333,
              "#9c179e"
             ],
             [
              0.4444444444444444,
              "#bd3786"
             ],
             [
              0.5555555555555556,
              "#d8576b"
             ],
             [
              0.6666666666666666,
              "#ed7953"
             ],
             [
              0.7777777777777778,
              "#fb9f3a"
             ],
             [
              0.8888888888888888,
              "#fdca26"
             ],
             [
              1,
              "#f0f921"
             ]
            ],
            "type": "heatmapgl"
           }
          ],
          "histogram": [
           {
            "marker": {
             "pattern": {
              "fillmode": "overlay",
              "size": 10,
              "solidity": 0.2
             }
            },
            "type": "histogram"
           }
          ],
          "histogram2d": [
           {
            "colorbar": {
             "outlinewidth": 0,
             "ticks": ""
            },
            "colorscale": [
             [
              0,
              "#0d0887"
             ],
             [
              0.1111111111111111,
              "#46039f"
             ],
             [
              0.2222222222222222,
              "#7201a8"
             ],
             [
              0.3333333333333333,
              "#9c179e"
             ],
             [
              0.4444444444444444,
              "#bd3786"
             ],
             [
              0.5555555555555556,
              "#d8576b"
             ],
             [
              0.6666666666666666,
              "#ed7953"
             ],
             [
              0.7777777777777778,
              "#fb9f3a"
             ],
             [
              0.8888888888888888,
              "#fdca26"
             ],
             [
              1,
              "#f0f921"
             ]
            ],
            "type": "histogram2d"
           }
          ],
          "histogram2dcontour": [
           {
            "colorbar": {
             "outlinewidth": 0,
             "ticks": ""
            },
            "colorscale": [
             [
              0,
              "#0d0887"
             ],
             [
              0.1111111111111111,
              "#46039f"
             ],
             [
              0.2222222222222222,
              "#7201a8"
             ],
             [
              0.3333333333333333,
              "#9c179e"
             ],
             [
              0.4444444444444444,
              "#bd3786"
             ],
             [
              0.5555555555555556,
              "#d8576b"
             ],
             [
              0.6666666666666666,
              "#ed7953"
             ],
             [
              0.7777777777777778,
              "#fb9f3a"
             ],
             [
              0.8888888888888888,
              "#fdca26"
             ],
             [
              1,
              "#f0f921"
             ]
            ],
            "type": "histogram2dcontour"
           }
          ],
          "mesh3d": [
           {
            "colorbar": {
             "outlinewidth": 0,
             "ticks": ""
            },
            "type": "mesh3d"
           }
          ],
          "parcoords": [
           {
            "line": {
             "colorbar": {
              "outlinewidth": 0,
              "ticks": ""
             }
            },
            "type": "parcoords"
           }
          ],
          "pie": [
           {
            "automargin": true,
            "type": "pie"
           }
          ],
          "scatter": [
           {
            "fillpattern": {
             "fillmode": "overlay",
             "size": 10,
             "solidity": 0.2
            },
            "type": "scatter"
           }
          ],
          "scatter3d": [
           {
            "line": {
             "colorbar": {
              "outlinewidth": 0,
              "ticks": ""
             }
            },
            "marker": {
             "colorbar": {
              "outlinewidth": 0,
              "ticks": ""
             }
            },
            "type": "scatter3d"
           }
          ],
          "scattercarpet": [
           {
            "marker": {
             "colorbar": {
              "outlinewidth": 0,
              "ticks": ""
             }
            },
            "type": "scattercarpet"
           }
          ],
          "scattergeo": [
           {
            "marker": {
             "colorbar": {
              "outlinewidth": 0,
              "ticks": ""
             }
            },
            "type": "scattergeo"
           }
          ],
          "scattergl": [
           {
            "marker": {
             "colorbar": {
              "outlinewidth": 0,
              "ticks": ""
             }
            },
            "type": "scattergl"
           }
          ],
          "scattermapbox": [
           {
            "marker": {
             "colorbar": {
              "outlinewidth": 0,
              "ticks": ""
             }
            },
            "type": "scattermapbox"
           }
          ],
          "scatterpolar": [
           {
            "marker": {
             "colorbar": {
              "outlinewidth": 0,
              "ticks": ""
             }
            },
            "type": "scatterpolar"
           }
          ],
          "scatterpolargl": [
           {
            "marker": {
             "colorbar": {
              "outlinewidth": 0,
              "ticks": ""
             }
            },
            "type": "scatterpolargl"
           }
          ],
          "scatterternary": [
           {
            "marker": {
             "colorbar": {
              "outlinewidth": 0,
              "ticks": ""
             }
            },
            "type": "scatterternary"
           }
          ],
          "surface": [
           {
            "colorbar": {
             "outlinewidth": 0,
             "ticks": ""
            },
            "colorscale": [
             [
              0,
              "#0d0887"
             ],
             [
              0.1111111111111111,
              "#46039f"
             ],
             [
              0.2222222222222222,
              "#7201a8"
             ],
             [
              0.3333333333333333,
              "#9c179e"
             ],
             [
              0.4444444444444444,
              "#bd3786"
             ],
             [
              0.5555555555555556,
              "#d8576b"
             ],
             [
              0.6666666666666666,
              "#ed7953"
             ],
             [
              0.7777777777777778,
              "#fb9f3a"
             ],
             [
              0.8888888888888888,
              "#fdca26"
             ],
             [
              1,
              "#f0f921"
             ]
            ],
            "type": "surface"
           }
          ],
          "table": [
           {
            "cells": {
             "fill": {
              "color": "#EBF0F8"
             },
             "line": {
              "color": "white"
             }
            },
            "header": {
             "fill": {
              "color": "#C8D4E3"
             },
             "line": {
              "color": "white"
             }
            },
            "type": "table"
           }
          ]
         },
         "layout": {
          "annotationdefaults": {
           "arrowcolor": "#2a3f5f",
           "arrowhead": 0,
           "arrowwidth": 1
          },
          "autotypenumbers": "strict",
          "coloraxis": {
           "colorbar": {
            "outlinewidth": 0,
            "ticks": ""
           }
          },
          "colorscale": {
           "diverging": [
            [
             0,
             "#8e0152"
            ],
            [
             0.1,
             "#c51b7d"
            ],
            [
             0.2,
             "#de77ae"
            ],
            [
             0.3,
             "#f1b6da"
            ],
            [
             0.4,
             "#fde0ef"
            ],
            [
             0.5,
             "#f7f7f7"
            ],
            [
             0.6,
             "#e6f5d0"
            ],
            [
             0.7,
             "#b8e186"
            ],
            [
             0.8,
             "#7fbc41"
            ],
            [
             0.9,
             "#4d9221"
            ],
            [
             1,
             "#276419"
            ]
           ],
           "sequential": [
            [
             0,
             "#0d0887"
            ],
            [
             0.1111111111111111,
             "#46039f"
            ],
            [
             0.2222222222222222,
             "#7201a8"
            ],
            [
             0.3333333333333333,
             "#9c179e"
            ],
            [
             0.4444444444444444,
             "#bd3786"
            ],
            [
             0.5555555555555556,
             "#d8576b"
            ],
            [
             0.6666666666666666,
             "#ed7953"
            ],
            [
             0.7777777777777778,
             "#fb9f3a"
            ],
            [
             0.8888888888888888,
             "#fdca26"
            ],
            [
             1,
             "#f0f921"
            ]
           ],
           "sequentialminus": [
            [
             0,
             "#0d0887"
            ],
            [
             0.1111111111111111,
             "#46039f"
            ],
            [
             0.2222222222222222,
             "#7201a8"
            ],
            [
             0.3333333333333333,
             "#9c179e"
            ],
            [
             0.4444444444444444,
             "#bd3786"
            ],
            [
             0.5555555555555556,
             "#d8576b"
            ],
            [
             0.6666666666666666,
             "#ed7953"
            ],
            [
             0.7777777777777778,
             "#fb9f3a"
            ],
            [
             0.8888888888888888,
             "#fdca26"
            ],
            [
             1,
             "#f0f921"
            ]
           ]
          },
          "colorway": [
           "#636efa",
           "#EF553B",
           "#00cc96",
           "#ab63fa",
           "#FFA15A",
           "#19d3f3",
           "#FF6692",
           "#B6E880",
           "#FF97FF",
           "#FECB52"
          ],
          "font": {
           "color": "#2a3f5f"
          },
          "geo": {
           "bgcolor": "white",
           "lakecolor": "white",
           "landcolor": "#E5ECF6",
           "showlakes": true,
           "showland": true,
           "subunitcolor": "white"
          },
          "hoverlabel": {
           "align": "left"
          },
          "hovermode": "closest",
          "mapbox": {
           "style": "light"
          },
          "paper_bgcolor": "white",
          "plot_bgcolor": "#E5ECF6",
          "polar": {
           "angularaxis": {
            "gridcolor": "white",
            "linecolor": "white",
            "ticks": ""
           },
           "bgcolor": "#E5ECF6",
           "radialaxis": {
            "gridcolor": "white",
            "linecolor": "white",
            "ticks": ""
           }
          },
          "scene": {
           "xaxis": {
            "backgroundcolor": "#E5ECF6",
            "gridcolor": "white",
            "gridwidth": 2,
            "linecolor": "white",
            "showbackground": true,
            "ticks": "",
            "zerolinecolor": "white"
           },
           "yaxis": {
            "backgroundcolor": "#E5ECF6",
            "gridcolor": "white",
            "gridwidth": 2,
            "linecolor": "white",
            "showbackground": true,
            "ticks": "",
            "zerolinecolor": "white"
           },
           "zaxis": {
            "backgroundcolor": "#E5ECF6",
            "gridcolor": "white",
            "gridwidth": 2,
            "linecolor": "white",
            "showbackground": true,
            "ticks": "",
            "zerolinecolor": "white"
           }
          },
          "shapedefaults": {
           "line": {
            "color": "#2a3f5f"
           }
          },
          "ternary": {
           "aaxis": {
            "gridcolor": "white",
            "linecolor": "white",
            "ticks": ""
           },
           "baxis": {
            "gridcolor": "white",
            "linecolor": "white",
            "ticks": ""
           },
           "bgcolor": "#E5ECF6",
           "caxis": {
            "gridcolor": "white",
            "linecolor": "white",
            "ticks": ""
           }
          },
          "title": {
           "x": 0.05
          },
          "xaxis": {
           "automargin": true,
           "gridcolor": "white",
           "linecolor": "white",
           "ticks": "",
           "title": {
            "standoff": 15
           },
           "zerolinecolor": "white",
           "zerolinewidth": 2
          },
          "yaxis": {
           "automargin": true,
           "gridcolor": "white",
           "linecolor": "white",
           "ticks": "",
           "title": {
            "standoff": 15
           },
           "zerolinecolor": "white",
           "zerolinewidth": 2
          }
         }
        },
        "title": {
         "text": "Humidity DHT11"
        },
        "xaxis": {
         "anchor": "y",
         "domain": [
          0,
          1
         ],
         "title": {
          "text": "Time [s]"
         }
        },
        "yaxis": {
         "anchor": "x",
         "domain": [
          0,
          1
         ],
         "title": {
          "text": "Humidity [%]"
         }
        }
       }
      }
     },
     "metadata": {},
     "output_type": "display_data"
    }
   ],
   "source": [
    "df_exp = df[max_humidity:max_humidity_after]\n",
    "fig = px.line(df_exp, x='time', y=['humidity'])\n",
    "fig.update_layout(\n",
    "    title=\"Humidity DHT11\",\n",
    "    xaxis_title=\"Time [s]\",\n",
    "    yaxis_title=\"Humidity [%]\",\n",
    ")\n",
    "fig.show()"
   ]
  },
  {
   "cell_type": "code",
   "execution_count": 221,
   "metadata": {},
   "outputs": [
    {
     "name": "stdout",
     "output_type": "stream",
     "text": [
      "delta_t:  48.71683859825134\n",
      "t0:  95.0\n",
      "t_final:  41.0\n",
      "t_const:  12.156922408593088\n",
      "t_first_calc:  95.0\n",
      "t_final_calc:  41.0\n",
      "error:  0.0\n"
     ]
    },
    {
     "data": {
      "application/vnd.plotly.v1+json": {
       "config": {
        "plotlyServerURL": "https://plot.ly"
       },
       "data": [
        {
         "hovertemplate": "variable=humidity<br>time=%{x}<br>value=%{y}<extra></extra>",
         "legendgroup": "humidity",
         "line": {
          "color": "#636efa",
          "dash": "solid"
         },
         "marker": {
          "symbol": "circle"
         },
         "mode": "lines",
         "name": "humidity",
         "orientation": "v",
         "showlegend": true,
         "type": "scatter",
         "x": [
          0.8709084987640381,
          1.8930394649505613,
          2.8601996898651123,
          3.8556296825408936,
          4.87248682975769,
          5.841391801834106,
          6.836629867553711,
          7.857435464859009,
          8.825624704360962,
          9.819802522659302,
          10.838414192199709,
          11.805572986602783,
          12.799920320510864,
          13.820014238357544,
          14.786529779434204,
          15.779675960540771,
          16.797858238220215,
          17.767882823944092,
          18.76195764541626,
          19.778691053390503,
          20.74718022346497,
          21.740343809127808,
          22.76046347618103,
          23.7298424243927,
          24.719428300857544,
          25.74025273323059,
          26.710058450698853,
          27.70027780532837,
          28.721885204315186,
          29.68937349319458,
          30.681447744369507,
          31.700834035873413,
          32.66772270202637,
          33.662532806396484,
          34.67948269844055,
          35.64937210083008,
          36.64345049858093,
          37.659993171691895,
          38.629618406295776,
          39.622859716415405,
          40.64195370674133,
          41.609421253204346,
          42.60266423225403,
          43.62218999862671,
          44.58798360824585,
          45.58203029632568,
          46.60287070274353,
          47.56878471374512,
          48.56553411483765,
          49.5827853679657,
          50.55224132537842,
          51.54604268074036,
          52.56380105018616,
          53.53312563896179,
          54.52500128746033,
          55.54508185386658,
          56.51431179046631,
          57.50707006454468,
          58.526081800460815,
          59.49418044090271,
          60.48592901229858,
          61.50732445716858,
          62.476224184036255,
          63.4656720161438,
          64.48708820343018,
          65.45735001564026,
          66.44932246208191,
          67.46827912330627,
          68.435786485672,
          69.43124461174011,
          70.44593214988708,
          71.41841292381287,
          72.4111819267273,
          73.42770791053772,
          74.39848279953003,
          75.39322590827942,
          76.40967392921448,
          77.3807544708252,
          78.37462401390076,
          79.3918468952179,
          80.35816502571106,
          81.35494327545166,
          82.37308526039124,
          83.33892154693604,
          84.33482480049133,
          85.35468745231628,
          86.32181310653687,
          87.31563758850098,
          88.3353009223938,
          89.30262494087219,
          90.29756999015808,
          91.3156988620758,
          92.28408932685852,
          93.27733612060548,
          94.29049801826476,
          95.26508498191832,
          96.25816583633424,
          97.27832341194151,
          98.2472321987152,
          99.23752498626708,
          100.2582528591156,
          101.22740364074708,
          102.22064876556396,
          103.24026608467102,
          104.20701932907104,
          105.20291757583618,
          106.22122001647948,
          107.18659973144533,
          108.18218874931335,
          109.20113348960876,
          110.17099499702454,
          111.16404700279236,
          112.18251061439514,
          113.150141954422,
          114.1439254283905,
          115.16397643089294,
          116.1294367313385,
          117.12508416175842,
          118.14522576332092,
          119.1132628917694
         ],
         "xaxis": "x",
         "y": [
          47,
          45,
          45,
          45,
          44,
          44,
          44,
          42,
          42,
          42,
          95,
          95,
          95,
          95,
          95,
          95,
          95,
          95,
          95,
          95,
          95,
          95,
          95,
          95,
          95,
          95,
          95,
          95,
          95,
          95,
          95,
          95,
          95,
          95,
          95,
          95,
          95,
          95,
          95,
          95,
          95,
          95,
          95,
          95,
          95,
          95,
          95,
          95,
          95,
          95,
          95,
          95,
          95,
          95,
          95,
          95,
          95,
          95,
          95,
          95,
          95,
          95,
          95,
          95,
          78,
          78,
          78,
          68,
          68,
          68,
          58,
          58,
          58,
          54,
          54,
          54,
          52,
          52,
          52,
          46,
          46,
          46,
          45,
          45,
          45,
          44,
          44,
          44,
          44,
          44,
          44,
          44,
          44,
          44,
          42,
          42,
          42,
          41,
          41,
          41,
          41,
          41,
          41,
          41,
          41,
          41,
          41,
          41,
          41,
          41,
          41,
          41,
          41,
          41,
          41,
          40,
          40,
          40,
          40,
          40
         ],
         "yaxis": "y"
        },
        {
         "hovertemplate": "variable=exponential<br>time=%{x}<br>value=%{y}<extra></extra>",
         "legendgroup": "exponential",
         "line": {
          "color": "#EF553B",
          "dash": "solid"
         },
         "marker": {
          "symbol": "circle"
         },
         "mode": "lines",
         "name": "exponential",
         "orientation": "v",
         "showlegend": true,
         "type": "scatter",
         "x": [
          0.8709084987640381,
          1.8930394649505613,
          2.8601996898651123,
          3.8556296825408936,
          4.87248682975769,
          5.841391801834106,
          6.836629867553711,
          7.857435464859009,
          8.825624704360962,
          9.819802522659302,
          10.838414192199709,
          11.805572986602783,
          12.799920320510864,
          13.820014238357544,
          14.786529779434204,
          15.779675960540771,
          16.797858238220215,
          17.767882823944092,
          18.76195764541626,
          19.778691053390503,
          20.74718022346497,
          21.740343809127808,
          22.76046347618103,
          23.7298424243927,
          24.719428300857544,
          25.74025273323059,
          26.710058450698853,
          27.70027780532837,
          28.721885204315186,
          29.68937349319458,
          30.681447744369507,
          31.700834035873413,
          32.66772270202637,
          33.662532806396484,
          34.67948269844055,
          35.64937210083008,
          36.64345049858093,
          37.659993171691895,
          38.629618406295776,
          39.622859716415405,
          40.64195370674133,
          41.609421253204346,
          42.60266423225403,
          43.62218999862671,
          44.58798360824585,
          45.58203029632568,
          46.60287070274353,
          47.56878471374512,
          48.56553411483765,
          49.5827853679657,
          50.55224132537842,
          51.54604268074036,
          52.56380105018616,
          53.53312563896179,
          54.52500128746033,
          55.54508185386658,
          56.51431179046631,
          57.50707006454468,
          58.526081800460815,
          59.49418044090271,
          60.48592901229858,
          61.50732445716858,
          62.476224184036255,
          63.4656720161438,
          64.48708820343018,
          65.45735001564026,
          66.44932246208191,
          67.46827912330627,
          68.435786485672,
          69.43124461174011,
          70.44593214988708,
          71.41841292381287,
          72.4111819267273,
          73.42770791053772,
          74.39848279953003,
          75.39322590827942,
          76.40967392921448,
          77.3807544708252,
          78.37462401390076,
          79.3918468952179,
          80.35816502571106,
          81.35494327545166,
          82.37308526039124,
          83.33892154693604,
          84.33482480049133,
          85.35468745231628,
          86.32181310653687,
          87.31563758850098,
          88.3353009223938,
          89.30262494087219,
          90.29756999015808,
          91.3156988620758,
          92.28408932685852,
          93.27733612060548,
          94.29049801826476,
          95.26508498191832,
          96.25816583633424,
          97.27832341194151,
          98.2472321987152,
          99.23752498626708,
          100.2582528591156,
          101.22740364074708,
          102.22064876556396,
          103.24026608467102,
          104.20701932907104,
          105.20291757583618,
          106.22122001647948,
          107.18659973144533,
          108.18218874931335,
          109.20113348960876,
          110.17099499702454,
          111.16404700279236,
          112.18251061439514,
          113.150141954422,
          114.1439254283905,
          115.16397643089294,
          116.1294367313385,
          117.12508416175842,
          118.14522576332092,
          119.1132628917694
         ],
         "xaxis": "x",
         "y": [
          null,
          null,
          null,
          null,
          null,
          null,
          null,
          null,
          null,
          null,
          null,
          null,
          null,
          null,
          null,
          null,
          null,
          null,
          null,
          null,
          null,
          null,
          null,
          null,
          null,
          null,
          null,
          null,
          null,
          null,
          null,
          null,
          null,
          null,
          null,
          null,
          null,
          null,
          null,
          null,
          null,
          null,
          null,
          null,
          null,
          null,
          null,
          null,
          null,
          null,
          null,
          null,
          null,
          null,
          null,
          null,
          null,
          null,
          null,
          null,
          null,
          null,
          null,
          95,
          90.56774280073715,
          86.6887115101587,
          83.03032410401357,
          79.57066604989262,
          76.5434950008291,
          73.6704008418321,
          70.97416019421667,
          68.5929253295533,
          66.35074282310369,
          64.23697635613752,
          62.37682318778667,
          60.6187427188063,
          58.964899318504735,
          57.50893028043024,
          56.13446502453661,
          54.83936272862362,
          53.70548647080204,
          52.62657320652654,
          51.612168997615036,
          50.72530782573709,
          49.8817092130567,
          49.08653800384707,
          48.39167786131212,
          47.73295299266103,
          47.11080662075046,
          46.566926239436185,
          46.05088185605689,
          45.56476704627406,
          45.138686946527685,
          44.735538421217505,
          44.356875200905655,
          44.02123013472041,
          43.705800709793635,
          43.40751598456789,
          43.14647697163273,
          42.90032916873288,
          42.66675279299917,
          42.46241228615469,
          42.269227472335324,
          42.086667127772635,
          41.92715583801688,
          41.77557621207615,
          41.63290693147452,
          41.508252872489514,
          41.389657229312434,
          41.27792939542435,
          41.17993879604164,
          41.08738576448588,
          41,
          null,
          null,
          null,
          null,
          null,
          null,
          null
         ],
         "yaxis": "y"
        },
        {
         "hovertemplate": "variable=exponential_2<br>time=%{x}<br>value=%{y}<extra></extra>",
         "legendgroup": "exponential_2",
         "line": {
          "color": "#00cc96",
          "dash": "solid"
         },
         "marker": {
          "symbol": "circle"
         },
         "mode": "lines",
         "name": "exponential_2",
         "orientation": "v",
         "showlegend": true,
         "type": "scatter",
         "x": [
          0.8709084987640381,
          1.8930394649505613,
          2.8601996898651123,
          3.8556296825408936,
          4.87248682975769,
          5.841391801834106,
          6.836629867553711,
          7.857435464859009,
          8.825624704360962,
          9.819802522659302,
          10.838414192199709,
          11.805572986602783,
          12.799920320510864,
          13.820014238357544,
          14.786529779434204,
          15.779675960540771,
          16.797858238220215,
          17.767882823944092,
          18.76195764541626,
          19.778691053390503,
          20.74718022346497,
          21.740343809127808,
          22.76046347618103,
          23.7298424243927,
          24.719428300857544,
          25.74025273323059,
          26.710058450698853,
          27.70027780532837,
          28.721885204315186,
          29.68937349319458,
          30.681447744369507,
          31.700834035873413,
          32.66772270202637,
          33.662532806396484,
          34.67948269844055,
          35.64937210083008,
          36.64345049858093,
          37.659993171691895,
          38.629618406295776,
          39.622859716415405,
          40.64195370674133,
          41.609421253204346,
          42.60266423225403,
          43.62218999862671,
          44.58798360824585,
          45.58203029632568,
          46.60287070274353,
          47.56878471374512,
          48.56553411483765,
          49.5827853679657,
          50.55224132537842,
          51.54604268074036,
          52.56380105018616,
          53.53312563896179,
          54.52500128746033,
          55.54508185386658,
          56.51431179046631,
          57.50707006454468,
          58.526081800460815,
          59.49418044090271,
          60.48592901229858,
          61.50732445716858,
          62.476224184036255,
          63.4656720161438,
          64.48708820343018,
          65.45735001564026,
          66.44932246208191,
          67.46827912330627,
          68.435786485672,
          69.43124461174011,
          70.44593214988708,
          71.41841292381287,
          72.4111819267273,
          73.42770791053772,
          74.39848279953003,
          75.39322590827942,
          76.40967392921448,
          77.3807544708252,
          78.37462401390076,
          79.3918468952179,
          80.35816502571106,
          81.35494327545166,
          82.37308526039124,
          83.33892154693604,
          84.33482480049133,
          85.35468745231628,
          86.32181310653687,
          87.31563758850098,
          88.3353009223938,
          89.30262494087219,
          90.29756999015808,
          91.3156988620758,
          92.28408932685852,
          93.27733612060548,
          94.29049801826476,
          95.26508498191832,
          96.25816583633424,
          97.27832341194151,
          98.2472321987152,
          99.23752498626708,
          100.2582528591156,
          101.22740364074708,
          102.22064876556396,
          103.24026608467102,
          104.20701932907104,
          105.20291757583618,
          106.22122001647948,
          107.18659973144533,
          108.18218874931335,
          109.20113348960876,
          110.17099499702454,
          111.16404700279236,
          112.18251061439514,
          113.150141954422,
          114.1439254283905,
          115.16397643089294,
          116.1294367313385,
          117.12508416175842,
          118.14522576332092,
          119.1132628917694
         ],
         "xaxis": "x",
         "y": [
          null,
          null,
          null,
          null,
          null,
          null,
          null,
          null,
          null,
          null,
          null,
          null,
          null,
          null,
          null,
          null,
          null,
          null,
          null,
          null,
          null,
          null,
          null,
          null,
          null,
          null,
          null,
          null,
          null,
          null,
          null,
          null,
          null,
          null,
          null,
          null,
          null,
          null,
          null,
          null,
          null,
          null,
          null,
          null,
          null,
          null,
          null,
          null,
          null,
          null,
          null,
          null,
          null,
          null,
          null,
          null,
          null,
          null,
          null,
          null,
          null,
          null,
          null,
          95,
          93.0789974798797,
          91.29018979517667,
          89.49689059140151,
          87.69148036578939,
          86.0109490091786,
          84.31547676611959,
          82.62164472916274,
          81.03021205372328,
          79.43719372447923,
          77.83850049183305,
          76.34180382983594,
          74.83800272307059,
          73.33198369377718,
          71.92149971618421,
          70.50600275435521,
          69.08608903070125,
          67.7637256194096,
          66.4261939847288,
          65.08724669469008,
          63.842039582886194,
          62.583010024754216,
          61.319419233271915,
          60.14474476601044,
          58.96108088068323,
          57.77084943797524,
          56.66392886715582,
          55.5475234159313,
          54.42787086173799,
          53.383864927170166,
          52.33386152749351,
          51.28407994503176,
          50.294143166527235,
          49.305074914687246,
          48.30928912929388,
          47.382155328193,
          46.45294348753959,
          45.514241397978964,
          44.640533051003715,
          43.76250307787596,
          42.879120688900095,
          42.05801376623687,
          41.22859134701586,
          40.39742040607837,
          39.62492491454236,
          38.84372545954286,
          38.06014463829368,
          37.32899729444353,
          36.594918496232964,
          35.85704710288783,
          null,
          null,
          null,
          null,
          null,
          null,
          null
         ],
         "yaxis": "y"
        }
       ],
       "layout": {
        "legend": {
         "title": {
          "text": "variable"
         },
         "tracegroupgap": 0
        },
        "margin": {
         "t": 60
        },
        "shapes": [
         {
          "line": {
           "color": "green",
           "dash": "dash",
           "width": 3
          },
          "type": "line",
          "x0": 63,
          "x1": 63,
          "xref": "x",
          "y0": 0,
          "y1": 1,
          "yref": "y domain"
         },
         {
          "line": {
           "color": "red",
           "dash": "dash",
           "width": 3
          },
          "type": "line",
          "x0": 113,
          "x1": 113,
          "xref": "x",
          "y0": 0,
          "y1": 1,
          "yref": "y domain"
         }
        ],
        "template": {
         "data": {
          "bar": [
           {
            "error_x": {
             "color": "#2a3f5f"
            },
            "error_y": {
             "color": "#2a3f5f"
            },
            "marker": {
             "line": {
              "color": "#E5ECF6",
              "width": 0.5
             },
             "pattern": {
              "fillmode": "overlay",
              "size": 10,
              "solidity": 0.2
             }
            },
            "type": "bar"
           }
          ],
          "barpolar": [
           {
            "marker": {
             "line": {
              "color": "#E5ECF6",
              "width": 0.5
             },
             "pattern": {
              "fillmode": "overlay",
              "size": 10,
              "solidity": 0.2
             }
            },
            "type": "barpolar"
           }
          ],
          "carpet": [
           {
            "aaxis": {
             "endlinecolor": "#2a3f5f",
             "gridcolor": "white",
             "linecolor": "white",
             "minorgridcolor": "white",
             "startlinecolor": "#2a3f5f"
            },
            "baxis": {
             "endlinecolor": "#2a3f5f",
             "gridcolor": "white",
             "linecolor": "white",
             "minorgridcolor": "white",
             "startlinecolor": "#2a3f5f"
            },
            "type": "carpet"
           }
          ],
          "choropleth": [
           {
            "colorbar": {
             "outlinewidth": 0,
             "ticks": ""
            },
            "type": "choropleth"
           }
          ],
          "contour": [
           {
            "colorbar": {
             "outlinewidth": 0,
             "ticks": ""
            },
            "colorscale": [
             [
              0,
              "#0d0887"
             ],
             [
              0.1111111111111111,
              "#46039f"
             ],
             [
              0.2222222222222222,
              "#7201a8"
             ],
             [
              0.3333333333333333,
              "#9c179e"
             ],
             [
              0.4444444444444444,
              "#bd3786"
             ],
             [
              0.5555555555555556,
              "#d8576b"
             ],
             [
              0.6666666666666666,
              "#ed7953"
             ],
             [
              0.7777777777777778,
              "#fb9f3a"
             ],
             [
              0.8888888888888888,
              "#fdca26"
             ],
             [
              1,
              "#f0f921"
             ]
            ],
            "type": "contour"
           }
          ],
          "contourcarpet": [
           {
            "colorbar": {
             "outlinewidth": 0,
             "ticks": ""
            },
            "type": "contourcarpet"
           }
          ],
          "heatmap": [
           {
            "colorbar": {
             "outlinewidth": 0,
             "ticks": ""
            },
            "colorscale": [
             [
              0,
              "#0d0887"
             ],
             [
              0.1111111111111111,
              "#46039f"
             ],
             [
              0.2222222222222222,
              "#7201a8"
             ],
             [
              0.3333333333333333,
              "#9c179e"
             ],
             [
              0.4444444444444444,
              "#bd3786"
             ],
             [
              0.5555555555555556,
              "#d8576b"
             ],
             [
              0.6666666666666666,
              "#ed7953"
             ],
             [
              0.7777777777777778,
              "#fb9f3a"
             ],
             [
              0.8888888888888888,
              "#fdca26"
             ],
             [
              1,
              "#f0f921"
             ]
            ],
            "type": "heatmap"
           }
          ],
          "heatmapgl": [
           {
            "colorbar": {
             "outlinewidth": 0,
             "ticks": ""
            },
            "colorscale": [
             [
              0,
              "#0d0887"
             ],
             [
              0.1111111111111111,
              "#46039f"
             ],
             [
              0.2222222222222222,
              "#7201a8"
             ],
             [
              0.3333333333333333,
              "#9c179e"
             ],
             [
              0.4444444444444444,
              "#bd3786"
             ],
             [
              0.5555555555555556,
              "#d8576b"
             ],
             [
              0.6666666666666666,
              "#ed7953"
             ],
             [
              0.7777777777777778,
              "#fb9f3a"
             ],
             [
              0.8888888888888888,
              "#fdca26"
             ],
             [
              1,
              "#f0f921"
             ]
            ],
            "type": "heatmapgl"
           }
          ],
          "histogram": [
           {
            "marker": {
             "pattern": {
              "fillmode": "overlay",
              "size": 10,
              "solidity": 0.2
             }
            },
            "type": "histogram"
           }
          ],
          "histogram2d": [
           {
            "colorbar": {
             "outlinewidth": 0,
             "ticks": ""
            },
            "colorscale": [
             [
              0,
              "#0d0887"
             ],
             [
              0.1111111111111111,
              "#46039f"
             ],
             [
              0.2222222222222222,
              "#7201a8"
             ],
             [
              0.3333333333333333,
              "#9c179e"
             ],
             [
              0.4444444444444444,
              "#bd3786"
             ],
             [
              0.5555555555555556,
              "#d8576b"
             ],
             [
              0.6666666666666666,
              "#ed7953"
             ],
             [
              0.7777777777777778,
              "#fb9f3a"
             ],
             [
              0.8888888888888888,
              "#fdca26"
             ],
             [
              1,
              "#f0f921"
             ]
            ],
            "type": "histogram2d"
           }
          ],
          "histogram2dcontour": [
           {
            "colorbar": {
             "outlinewidth": 0,
             "ticks": ""
            },
            "colorscale": [
             [
              0,
              "#0d0887"
             ],
             [
              0.1111111111111111,
              "#46039f"
             ],
             [
              0.2222222222222222,
              "#7201a8"
             ],
             [
              0.3333333333333333,
              "#9c179e"
             ],
             [
              0.4444444444444444,
              "#bd3786"
             ],
             [
              0.5555555555555556,
              "#d8576b"
             ],
             [
              0.6666666666666666,
              "#ed7953"
             ],
             [
              0.7777777777777778,
              "#fb9f3a"
             ],
             [
              0.8888888888888888,
              "#fdca26"
             ],
             [
              1,
              "#f0f921"
             ]
            ],
            "type": "histogram2dcontour"
           }
          ],
          "mesh3d": [
           {
            "colorbar": {
             "outlinewidth": 0,
             "ticks": ""
            },
            "type": "mesh3d"
           }
          ],
          "parcoords": [
           {
            "line": {
             "colorbar": {
              "outlinewidth": 0,
              "ticks": ""
             }
            },
            "type": "parcoords"
           }
          ],
          "pie": [
           {
            "automargin": true,
            "type": "pie"
           }
          ],
          "scatter": [
           {
            "fillpattern": {
             "fillmode": "overlay",
             "size": 10,
             "solidity": 0.2
            },
            "type": "scatter"
           }
          ],
          "scatter3d": [
           {
            "line": {
             "colorbar": {
              "outlinewidth": 0,
              "ticks": ""
             }
            },
            "marker": {
             "colorbar": {
              "outlinewidth": 0,
              "ticks": ""
             }
            },
            "type": "scatter3d"
           }
          ],
          "scattercarpet": [
           {
            "marker": {
             "colorbar": {
              "outlinewidth": 0,
              "ticks": ""
             }
            },
            "type": "scattercarpet"
           }
          ],
          "scattergeo": [
           {
            "marker": {
             "colorbar": {
              "outlinewidth": 0,
              "ticks": ""
             }
            },
            "type": "scattergeo"
           }
          ],
          "scattergl": [
           {
            "marker": {
             "colorbar": {
              "outlinewidth": 0,
              "ticks": ""
             }
            },
            "type": "scattergl"
           }
          ],
          "scattermapbox": [
           {
            "marker": {
             "colorbar": {
              "outlinewidth": 0,
              "ticks": ""
             }
            },
            "type": "scattermapbox"
           }
          ],
          "scatterpolar": [
           {
            "marker": {
             "colorbar": {
              "outlinewidth": 0,
              "ticks": ""
             }
            },
            "type": "scatterpolar"
           }
          ],
          "scatterpolargl": [
           {
            "marker": {
             "colorbar": {
              "outlinewidth": 0,
              "ticks": ""
             }
            },
            "type": "scatterpolargl"
           }
          ],
          "scatterternary": [
           {
            "marker": {
             "colorbar": {
              "outlinewidth": 0,
              "ticks": ""
             }
            },
            "type": "scatterternary"
           }
          ],
          "surface": [
           {
            "colorbar": {
             "outlinewidth": 0,
             "ticks": ""
            },
            "colorscale": [
             [
              0,
              "#0d0887"
             ],
             [
              0.1111111111111111,
              "#46039f"
             ],
             [
              0.2222222222222222,
              "#7201a8"
             ],
             [
              0.3333333333333333,
              "#9c179e"
             ],
             [
              0.4444444444444444,
              "#bd3786"
             ],
             [
              0.5555555555555556,
              "#d8576b"
             ],
             [
              0.6666666666666666,
              "#ed7953"
             ],
             [
              0.7777777777777778,
              "#fb9f3a"
             ],
             [
              0.8888888888888888,
              "#fdca26"
             ],
             [
              1,
              "#f0f921"
             ]
            ],
            "type": "surface"
           }
          ],
          "table": [
           {
            "cells": {
             "fill": {
              "color": "#EBF0F8"
             },
             "line": {
              "color": "white"
             }
            },
            "header": {
             "fill": {
              "color": "#C8D4E3"
             },
             "line": {
              "color": "white"
             }
            },
            "type": "table"
           }
          ]
         },
         "layout": {
          "annotationdefaults": {
           "arrowcolor": "#2a3f5f",
           "arrowhead": 0,
           "arrowwidth": 1
          },
          "autotypenumbers": "strict",
          "coloraxis": {
           "colorbar": {
            "outlinewidth": 0,
            "ticks": ""
           }
          },
          "colorscale": {
           "diverging": [
            [
             0,
             "#8e0152"
            ],
            [
             0.1,
             "#c51b7d"
            ],
            [
             0.2,
             "#de77ae"
            ],
            [
             0.3,
             "#f1b6da"
            ],
            [
             0.4,
             "#fde0ef"
            ],
            [
             0.5,
             "#f7f7f7"
            ],
            [
             0.6,
             "#e6f5d0"
            ],
            [
             0.7,
             "#b8e186"
            ],
            [
             0.8,
             "#7fbc41"
            ],
            [
             0.9,
             "#4d9221"
            ],
            [
             1,
             "#276419"
            ]
           ],
           "sequential": [
            [
             0,
             "#0d0887"
            ],
            [
             0.1111111111111111,
             "#46039f"
            ],
            [
             0.2222222222222222,
             "#7201a8"
            ],
            [
             0.3333333333333333,
             "#9c179e"
            ],
            [
             0.4444444444444444,
             "#bd3786"
            ],
            [
             0.5555555555555556,
             "#d8576b"
            ],
            [
             0.6666666666666666,
             "#ed7953"
            ],
            [
             0.7777777777777778,
             "#fb9f3a"
            ],
            [
             0.8888888888888888,
             "#fdca26"
            ],
            [
             1,
             "#f0f921"
            ]
           ],
           "sequentialminus": [
            [
             0,
             "#0d0887"
            ],
            [
             0.1111111111111111,
             "#46039f"
            ],
            [
             0.2222222222222222,
             "#7201a8"
            ],
            [
             0.3333333333333333,
             "#9c179e"
            ],
            [
             0.4444444444444444,
             "#bd3786"
            ],
            [
             0.5555555555555556,
             "#d8576b"
            ],
            [
             0.6666666666666666,
             "#ed7953"
            ],
            [
             0.7777777777777778,
             "#fb9f3a"
            ],
            [
             0.8888888888888888,
             "#fdca26"
            ],
            [
             1,
             "#f0f921"
            ]
           ]
          },
          "colorway": [
           "#636efa",
           "#EF553B",
           "#00cc96",
           "#ab63fa",
           "#FFA15A",
           "#19d3f3",
           "#FF6692",
           "#B6E880",
           "#FF97FF",
           "#FECB52"
          ],
          "font": {
           "color": "#2a3f5f"
          },
          "geo": {
           "bgcolor": "white",
           "lakecolor": "white",
           "landcolor": "#E5ECF6",
           "showlakes": true,
           "showland": true,
           "subunitcolor": "white"
          },
          "hoverlabel": {
           "align": "left"
          },
          "hovermode": "closest",
          "mapbox": {
           "style": "light"
          },
          "paper_bgcolor": "white",
          "plot_bgcolor": "#E5ECF6",
          "polar": {
           "angularaxis": {
            "gridcolor": "white",
            "linecolor": "white",
            "ticks": ""
           },
           "bgcolor": "#E5ECF6",
           "radialaxis": {
            "gridcolor": "white",
            "linecolor": "white",
            "ticks": ""
           }
          },
          "scene": {
           "xaxis": {
            "backgroundcolor": "#E5ECF6",
            "gridcolor": "white",
            "gridwidth": 2,
            "linecolor": "white",
            "showbackground": true,
            "ticks": "",
            "zerolinecolor": "white"
           },
           "yaxis": {
            "backgroundcolor": "#E5ECF6",
            "gridcolor": "white",
            "gridwidth": 2,
            "linecolor": "white",
            "showbackground": true,
            "ticks": "",
            "zerolinecolor": "white"
           },
           "zaxis": {
            "backgroundcolor": "#E5ECF6",
            "gridcolor": "white",
            "gridwidth": 2,
            "linecolor": "white",
            "showbackground": true,
            "ticks": "",
            "zerolinecolor": "white"
           }
          },
          "shapedefaults": {
           "line": {
            "color": "#2a3f5f"
           }
          },
          "ternary": {
           "aaxis": {
            "gridcolor": "white",
            "linecolor": "white",
            "ticks": ""
           },
           "baxis": {
            "gridcolor": "white",
            "linecolor": "white",
            "ticks": ""
           },
           "bgcolor": "#E5ECF6",
           "caxis": {
            "gridcolor": "white",
            "linecolor": "white",
            "ticks": ""
           }
          },
          "title": {
           "x": 0.05
          },
          "xaxis": {
           "automargin": true,
           "gridcolor": "white",
           "linecolor": "white",
           "ticks": "",
           "title": {
            "standoff": 15
           },
           "zerolinecolor": "white",
           "zerolinewidth": 2
          },
          "yaxis": {
           "automargin": true,
           "gridcolor": "white",
           "linecolor": "white",
           "ticks": "",
           "title": {
            "standoff": 15
           },
           "zerolinecolor": "white",
           "zerolinewidth": 2
          }
         }
        },
        "title": {
         "text": "Humidity DHT11"
        },
        "xaxis": {
         "anchor": "y",
         "domain": [
          0,
          1
         ],
         "title": {
          "text": "Time [s]"
         }
        },
        "yaxis": {
         "anchor": "x",
         "domain": [
          0,
          1
         ],
         "tickformat": ".1f",
         "tickmode": "array",
         "tickvals": [
          0,
          10,
          20,
          30,
          40,
          50,
          60,
          70,
          80,
          90,
          100
         ],
         "title": {
          "text": "Humidity [%]"
         },
         "type": "log"
        }
       }
      }
     },
     "metadata": {},
     "output_type": "display_data"
    }
   ],
   "source": [
    "#calculate exponential fit\n",
    "room_humidity = 40\n",
    "t0 = df_exp['humidity'].iloc[0]\n",
    "t_final = df_exp['humidity'].iloc[-1]\n",
    "delta_t = df_exp['time'].iloc[-1] - df_exp['time'].iloc[0]\n",
    "t_const = -delta_t / np.log((t_final - room_humidity) / (t0 - room_humidity))\n",
    "t_first_calc = room_humidity + (t0 - room_humidity)\n",
    "t_final_calc = room_humidity + (t0 - room_humidity) * np.exp(-delta_t / t_const)\n",
    "\n",
    "print('delta_t: ', delta_t)\n",
    "print('t0: ', t0)\n",
    "print('t_final: ', t_final)\n",
    "print('t_const: ', t_const)\n",
    "print('t_first_calc: ', t_first_calc)\n",
    "print('t_final_calc: ', t_final_calc)\n",
    "print('error: ', t_final - t_final_calc)\n",
    "\n",
    "def exponential(delta_t, t0, t_const, room_humidity):\n",
    "    return room_humidity + (t0 - room_humidity) * np.exp(-delta_t / t_const)\n",
    "\n",
    "def exponential2(t, t0, t_const, room_humidity):\n",
    "    return t0 * np.exp(-t / t_const)\n",
    "\n",
    "\n",
    "\n",
    "#calculate exponential fit\n",
    "df['exponential'] = exponential(df_exp['time'] - df_exp['time'].iloc[0], t0, t_const, room_humidity)\n",
    "t_const = 50.0\n",
    "df['exponential_2'] = exponential2(df_exp['time'] - df_exp['time'].iloc[0], t0, t_const, room_humidity)\n",
    "#extend exponential fit to whole data\n",
    "#plot exponential fit\n",
    "fig = px.line(df, x='time', y=['humidity', 'exponential', 'exponential_2'])\n",
    "\n",
    "tick_vals = np.arange(0.0, 110.0, 10.0)\n",
    "\n",
    "fig.update_layout(\n",
    "    title=\"Humidity DHT11\",\n",
    "    xaxis_title=\"Time [s]\",\n",
    "    yaxis_title=\"Humidity [%]\",\n",
    "    yaxis=dict(\n",
    "        tickmode='array',\n",
    "        tickvals=tick_vals,\n",
    "        tickformat=\".1f\"\n",
    "    ),\n",
    "    #set log scale\n",
    "    yaxis_type=\"log\",\n",
    ")\n",
    "fig.add_vline(x=max_humidity, line_width=3, line_dash=\"dash\", line_color=\"green\")\n",
    "fig.add_vline(x=max_humidity_after, line_width=3, line_dash=\"dash\", line_color=\"red\")\n",
    "#show from 10 to 1\n",
    "fig.show()"
   ]
  },
  {
   "attachments": {},
   "cell_type": "markdown",
   "metadata": {},
   "source": [
    "with the exponential decay equation:\n",
    "$$ h(t) = h_{room} + (h_0 - h_{room})e^{-\\frac{t}{t_{const}}} $$\n",
    "we can solve for the time constant $t_{const}$:\n",
    "$$ t_{const} = -\\frac{\\Delta t}{\\ln{\\frac{h_{final} - h_{room}}{h_0 - h_{room}}}} $$\n",
    "```python\n",
    "delta_t:  48.71683859825134\n",
    "h0 =  95.0\n",
    "h_final:  41.0\n",
    "room_hum = 40.0\n",
    "t_const = -delta_t / np.log((h_final - room_hum) / (h0 - room_hum))\n",
    "```\n",
    "we get $t_{const} =  12.156922408593088$."
   ]
  },
  {
   "cell_type": "code",
   "execution_count": 222,
   "metadata": {},
   "outputs": [
    {
     "data": {
      "application/vnd.plotly.v1+json": {
       "config": {
        "plotlyServerURL": "https://plot.ly"
       },
       "data": [
        {
         "hovertemplate": "variable=humidity_norm<br>time=%{x}<br>value=%{y}<extra></extra>",
         "legendgroup": "humidity_norm",
         "line": {
          "color": "#636efa",
          "dash": "solid"
         },
         "marker": {
          "symbol": "circle"
         },
         "mode": "lines",
         "name": "humidity_norm",
         "orientation": "v",
         "showlegend": true,
         "type": "scatter",
         "x": [
          0.8709084987640381,
          1.8930394649505613,
          2.8601996898651123,
          3.8556296825408936,
          4.87248682975769,
          5.841391801834106,
          6.836629867553711,
          7.857435464859009,
          8.825624704360962,
          9.819802522659302,
          10.838414192199709,
          11.805572986602783,
          12.799920320510864,
          13.820014238357544,
          14.786529779434204,
          15.779675960540771,
          16.797858238220215,
          17.767882823944092,
          18.76195764541626,
          19.778691053390503,
          20.74718022346497,
          21.740343809127808,
          22.76046347618103,
          23.7298424243927,
          24.719428300857544,
          25.74025273323059,
          26.710058450698853,
          27.70027780532837,
          28.721885204315186,
          29.68937349319458,
          30.681447744369507,
          31.700834035873413,
          32.66772270202637,
          33.662532806396484,
          34.67948269844055,
          35.64937210083008,
          36.64345049858093,
          37.659993171691895,
          38.629618406295776,
          39.622859716415405,
          40.64195370674133,
          41.609421253204346,
          42.60266423225403,
          43.62218999862671,
          44.58798360824585,
          45.58203029632568,
          46.60287070274353,
          47.56878471374512,
          48.56553411483765,
          49.5827853679657,
          50.55224132537842,
          51.54604268074036,
          52.56380105018616,
          53.53312563896179,
          54.52500128746033,
          55.54508185386658,
          56.51431179046631,
          57.50707006454468,
          58.526081800460815,
          59.49418044090271,
          60.48592901229858,
          61.50732445716858,
          62.476224184036255,
          63.4656720161438,
          64.48708820343018,
          65.45735001564026,
          66.44932246208191,
          67.46827912330627,
          68.435786485672,
          69.43124461174011,
          70.44593214988708,
          71.41841292381287,
          72.4111819267273,
          73.42770791053772,
          74.39848279953003,
          75.39322590827942,
          76.40967392921448,
          77.3807544708252,
          78.37462401390076,
          79.3918468952179,
          80.35816502571106,
          81.35494327545166,
          82.37308526039124,
          83.33892154693604,
          84.33482480049133,
          85.35468745231628,
          86.32181310653687,
          87.31563758850098,
          88.3353009223938,
          89.30262494087219,
          90.29756999015808,
          91.3156988620758,
          92.28408932685852,
          93.27733612060548,
          94.29049801826476,
          95.26508498191832,
          96.25816583633424,
          97.27832341194151,
          98.2472321987152,
          99.23752498626708,
          100.2582528591156,
          101.22740364074708,
          102.22064876556396,
          103.24026608467102,
          104.20701932907104,
          105.20291757583618,
          106.22122001647948,
          107.18659973144533,
          108.18218874931335,
          109.20113348960876,
          110.17099499702454,
          111.16404700279236,
          112.18251061439514,
          113.150141954422,
          114.1439254283905,
          115.16397643089294,
          116.1294367313385,
          117.12508416175842,
          118.14522576332092,
          119.1132628917694
         ],
         "xaxis": "x",
         "y": [
          0.49473684210526314,
          0.47368421052631576,
          0.47368421052631576,
          0.47368421052631576,
          0.4631578947368421,
          0.4631578947368421,
          0.4631578947368421,
          0.4421052631578947,
          0.4421052631578947,
          0.4421052631578947,
          1,
          1,
          1,
          1,
          1,
          1,
          1,
          1,
          1,
          1,
          1,
          1,
          1,
          1,
          1,
          1,
          1,
          1,
          1,
          1,
          1,
          1,
          1,
          1,
          1,
          1,
          1,
          1,
          1,
          1,
          1,
          1,
          1,
          1,
          1,
          1,
          1,
          1,
          1,
          1,
          1,
          1,
          1,
          1,
          1,
          1,
          1,
          1,
          1,
          1,
          1,
          1,
          1,
          1,
          0.8210526315789474,
          0.8210526315789474,
          0.8210526315789474,
          0.7157894736842105,
          0.7157894736842105,
          0.7157894736842105,
          0.6105263157894737,
          0.6105263157894737,
          0.6105263157894737,
          0.5684210526315789,
          0.5684210526315789,
          0.5684210526315789,
          0.5473684210526316,
          0.5473684210526316,
          0.5473684210526316,
          0.4842105263157895,
          0.4842105263157895,
          0.4842105263157895,
          0.47368421052631576,
          0.47368421052631576,
          0.47368421052631576,
          0.4631578947368421,
          0.4631578947368421,
          0.4631578947368421,
          0.4631578947368421,
          0.4631578947368421,
          0.4631578947368421,
          0.4631578947368421,
          0.4631578947368421,
          0.4631578947368421,
          0.4421052631578947,
          0.4421052631578947,
          0.4421052631578947,
          0.43157894736842106,
          0.43157894736842106,
          0.43157894736842106,
          0.43157894736842106,
          0.43157894736842106,
          0.43157894736842106,
          0.43157894736842106,
          0.43157894736842106,
          0.43157894736842106,
          0.43157894736842106,
          0.43157894736842106,
          0.43157894736842106,
          0.43157894736842106,
          0.43157894736842106,
          0.43157894736842106,
          0.43157894736842106,
          0.43157894736842106,
          0.43157894736842106,
          0.42105263157894735,
          0.42105263157894735,
          0.42105263157894735,
          0.42105263157894735,
          0.42105263157894735
         ],
         "yaxis": "y"
        }
       ],
       "layout": {
        "legend": {
         "title": {
          "text": "variable"
         },
         "tracegroupgap": 0
        },
        "margin": {
         "t": 60
        },
        "shapes": [
         {
          "line": {
           "color": "green",
           "dash": "dash",
           "width": 3
          },
          "type": "line",
          "x0": 10,
          "x1": 10,
          "xref": "x",
          "y0": 0,
          "y1": 1,
          "yref": "y domain"
         },
         {
          "line": {
           "color": "red",
           "dash": "dash",
           "width": 3
          },
          "type": "line",
          "x0": 113,
          "x1": 113,
          "xref": "x",
          "y0": 0,
          "y1": 1,
          "yref": "y domain"
         }
        ],
        "template": {
         "data": {
          "bar": [
           {
            "error_x": {
             "color": "#2a3f5f"
            },
            "error_y": {
             "color": "#2a3f5f"
            },
            "marker": {
             "line": {
              "color": "#E5ECF6",
              "width": 0.5
             },
             "pattern": {
              "fillmode": "overlay",
              "size": 10,
              "solidity": 0.2
             }
            },
            "type": "bar"
           }
          ],
          "barpolar": [
           {
            "marker": {
             "line": {
              "color": "#E5ECF6",
              "width": 0.5
             },
             "pattern": {
              "fillmode": "overlay",
              "size": 10,
              "solidity": 0.2
             }
            },
            "type": "barpolar"
           }
          ],
          "carpet": [
           {
            "aaxis": {
             "endlinecolor": "#2a3f5f",
             "gridcolor": "white",
             "linecolor": "white",
             "minorgridcolor": "white",
             "startlinecolor": "#2a3f5f"
            },
            "baxis": {
             "endlinecolor": "#2a3f5f",
             "gridcolor": "white",
             "linecolor": "white",
             "minorgridcolor": "white",
             "startlinecolor": "#2a3f5f"
            },
            "type": "carpet"
           }
          ],
          "choropleth": [
           {
            "colorbar": {
             "outlinewidth": 0,
             "ticks": ""
            },
            "type": "choropleth"
           }
          ],
          "contour": [
           {
            "colorbar": {
             "outlinewidth": 0,
             "ticks": ""
            },
            "colorscale": [
             [
              0,
              "#0d0887"
             ],
             [
              0.1111111111111111,
              "#46039f"
             ],
             [
              0.2222222222222222,
              "#7201a8"
             ],
             [
              0.3333333333333333,
              "#9c179e"
             ],
             [
              0.4444444444444444,
              "#bd3786"
             ],
             [
              0.5555555555555556,
              "#d8576b"
             ],
             [
              0.6666666666666666,
              "#ed7953"
             ],
             [
              0.7777777777777778,
              "#fb9f3a"
             ],
             [
              0.8888888888888888,
              "#fdca26"
             ],
             [
              1,
              "#f0f921"
             ]
            ],
            "type": "contour"
           }
          ],
          "contourcarpet": [
           {
            "colorbar": {
             "outlinewidth": 0,
             "ticks": ""
            },
            "type": "contourcarpet"
           }
          ],
          "heatmap": [
           {
            "colorbar": {
             "outlinewidth": 0,
             "ticks": ""
            },
            "colorscale": [
             [
              0,
              "#0d0887"
             ],
             [
              0.1111111111111111,
              "#46039f"
             ],
             [
              0.2222222222222222,
              "#7201a8"
             ],
             [
              0.3333333333333333,
              "#9c179e"
             ],
             [
              0.4444444444444444,
              "#bd3786"
             ],
             [
              0.5555555555555556,
              "#d8576b"
             ],
             [
              0.6666666666666666,
              "#ed7953"
             ],
             [
              0.7777777777777778,
              "#fb9f3a"
             ],
             [
              0.8888888888888888,
              "#fdca26"
             ],
             [
              1,
              "#f0f921"
             ]
            ],
            "type": "heatmap"
           }
          ],
          "heatmapgl": [
           {
            "colorbar": {
             "outlinewidth": 0,
             "ticks": ""
            },
            "colorscale": [
             [
              0,
              "#0d0887"
             ],
             [
              0.1111111111111111,
              "#46039f"
             ],
             [
              0.2222222222222222,
              "#7201a8"
             ],
             [
              0.3333333333333333,
              "#9c179e"
             ],
             [
              0.4444444444444444,
              "#bd3786"
             ],
             [
              0.5555555555555556,
              "#d8576b"
             ],
             [
              0.6666666666666666,
              "#ed7953"
             ],
             [
              0.7777777777777778,
              "#fb9f3a"
             ],
             [
              0.8888888888888888,
              "#fdca26"
             ],
             [
              1,
              "#f0f921"
             ]
            ],
            "type": "heatmapgl"
           }
          ],
          "histogram": [
           {
            "marker": {
             "pattern": {
              "fillmode": "overlay",
              "size": 10,
              "solidity": 0.2
             }
            },
            "type": "histogram"
           }
          ],
          "histogram2d": [
           {
            "colorbar": {
             "outlinewidth": 0,
             "ticks": ""
            },
            "colorscale": [
             [
              0,
              "#0d0887"
             ],
             [
              0.1111111111111111,
              "#46039f"
             ],
             [
              0.2222222222222222,
              "#7201a8"
             ],
             [
              0.3333333333333333,
              "#9c179e"
             ],
             [
              0.4444444444444444,
              "#bd3786"
             ],
             [
              0.5555555555555556,
              "#d8576b"
             ],
             [
              0.6666666666666666,
              "#ed7953"
             ],
             [
              0.7777777777777778,
              "#fb9f3a"
             ],
             [
              0.8888888888888888,
              "#fdca26"
             ],
             [
              1,
              "#f0f921"
             ]
            ],
            "type": "histogram2d"
           }
          ],
          "histogram2dcontour": [
           {
            "colorbar": {
             "outlinewidth": 0,
             "ticks": ""
            },
            "colorscale": [
             [
              0,
              "#0d0887"
             ],
             [
              0.1111111111111111,
              "#46039f"
             ],
             [
              0.2222222222222222,
              "#7201a8"
             ],
             [
              0.3333333333333333,
              "#9c179e"
             ],
             [
              0.4444444444444444,
              "#bd3786"
             ],
             [
              0.5555555555555556,
              "#d8576b"
             ],
             [
              0.6666666666666666,
              "#ed7953"
             ],
             [
              0.7777777777777778,
              "#fb9f3a"
             ],
             [
              0.8888888888888888,
              "#fdca26"
             ],
             [
              1,
              "#f0f921"
             ]
            ],
            "type": "histogram2dcontour"
           }
          ],
          "mesh3d": [
           {
            "colorbar": {
             "outlinewidth": 0,
             "ticks": ""
            },
            "type": "mesh3d"
           }
          ],
          "parcoords": [
           {
            "line": {
             "colorbar": {
              "outlinewidth": 0,
              "ticks": ""
             }
            },
            "type": "parcoords"
           }
          ],
          "pie": [
           {
            "automargin": true,
            "type": "pie"
           }
          ],
          "scatter": [
           {
            "fillpattern": {
             "fillmode": "overlay",
             "size": 10,
             "solidity": 0.2
            },
            "type": "scatter"
           }
          ],
          "scatter3d": [
           {
            "line": {
             "colorbar": {
              "outlinewidth": 0,
              "ticks": ""
             }
            },
            "marker": {
             "colorbar": {
              "outlinewidth": 0,
              "ticks": ""
             }
            },
            "type": "scatter3d"
           }
          ],
          "scattercarpet": [
           {
            "marker": {
             "colorbar": {
              "outlinewidth": 0,
              "ticks": ""
             }
            },
            "type": "scattercarpet"
           }
          ],
          "scattergeo": [
           {
            "marker": {
             "colorbar": {
              "outlinewidth": 0,
              "ticks": ""
             }
            },
            "type": "scattergeo"
           }
          ],
          "scattergl": [
           {
            "marker": {
             "colorbar": {
              "outlinewidth": 0,
              "ticks": ""
             }
            },
            "type": "scattergl"
           }
          ],
          "scattermapbox": [
           {
            "marker": {
             "colorbar": {
              "outlinewidth": 0,
              "ticks": ""
             }
            },
            "type": "scattermapbox"
           }
          ],
          "scatterpolar": [
           {
            "marker": {
             "colorbar": {
              "outlinewidth": 0,
              "ticks": ""
             }
            },
            "type": "scatterpolar"
           }
          ],
          "scatterpolargl": [
           {
            "marker": {
             "colorbar": {
              "outlinewidth": 0,
              "ticks": ""
             }
            },
            "type": "scatterpolargl"
           }
          ],
          "scatterternary": [
           {
            "marker": {
             "colorbar": {
              "outlinewidth": 0,
              "ticks": ""
             }
            },
            "type": "scatterternary"
           }
          ],
          "surface": [
           {
            "colorbar": {
             "outlinewidth": 0,
             "ticks": ""
            },
            "colorscale": [
             [
              0,
              "#0d0887"
             ],
             [
              0.1111111111111111,
              "#46039f"
             ],
             [
              0.2222222222222222,
              "#7201a8"
             ],
             [
              0.3333333333333333,
              "#9c179e"
             ],
             [
              0.4444444444444444,
              "#bd3786"
             ],
             [
              0.5555555555555556,
              "#d8576b"
             ],
             [
              0.6666666666666666,
              "#ed7953"
             ],
             [
              0.7777777777777778,
              "#fb9f3a"
             ],
             [
              0.8888888888888888,
              "#fdca26"
             ],
             [
              1,
              "#f0f921"
             ]
            ],
            "type": "surface"
           }
          ],
          "table": [
           {
            "cells": {
             "fill": {
              "color": "#EBF0F8"
             },
             "line": {
              "color": "white"
             }
            },
            "header": {
             "fill": {
              "color": "#C8D4E3"
             },
             "line": {
              "color": "white"
             }
            },
            "type": "table"
           }
          ]
         },
         "layout": {
          "annotationdefaults": {
           "arrowcolor": "#2a3f5f",
           "arrowhead": 0,
           "arrowwidth": 1
          },
          "autotypenumbers": "strict",
          "coloraxis": {
           "colorbar": {
            "outlinewidth": 0,
            "ticks": ""
           }
          },
          "colorscale": {
           "diverging": [
            [
             0,
             "#8e0152"
            ],
            [
             0.1,
             "#c51b7d"
            ],
            [
             0.2,
             "#de77ae"
            ],
            [
             0.3,
             "#f1b6da"
            ],
            [
             0.4,
             "#fde0ef"
            ],
            [
             0.5,
             "#f7f7f7"
            ],
            [
             0.6,
             "#e6f5d0"
            ],
            [
             0.7,
             "#b8e186"
            ],
            [
             0.8,
             "#7fbc41"
            ],
            [
             0.9,
             "#4d9221"
            ],
            [
             1,
             "#276419"
            ]
           ],
           "sequential": [
            [
             0,
             "#0d0887"
            ],
            [
             0.1111111111111111,
             "#46039f"
            ],
            [
             0.2222222222222222,
             "#7201a8"
            ],
            [
             0.3333333333333333,
             "#9c179e"
            ],
            [
             0.4444444444444444,
             "#bd3786"
            ],
            [
             0.5555555555555556,
             "#d8576b"
            ],
            [
             0.6666666666666666,
             "#ed7953"
            ],
            [
             0.7777777777777778,
             "#fb9f3a"
            ],
            [
             0.8888888888888888,
             "#fdca26"
            ],
            [
             1,
             "#f0f921"
            ]
           ],
           "sequentialminus": [
            [
             0,
             "#0d0887"
            ],
            [
             0.1111111111111111,
             "#46039f"
            ],
            [
             0.2222222222222222,
             "#7201a8"
            ],
            [
             0.3333333333333333,
             "#9c179e"
            ],
            [
             0.4444444444444444,
             "#bd3786"
            ],
            [
             0.5555555555555556,
             "#d8576b"
            ],
            [
             0.6666666666666666,
             "#ed7953"
            ],
            [
             0.7777777777777778,
             "#fb9f3a"
            ],
            [
             0.8888888888888888,
             "#fdca26"
            ],
            [
             1,
             "#f0f921"
            ]
           ]
          },
          "colorway": [
           "#636efa",
           "#EF553B",
           "#00cc96",
           "#ab63fa",
           "#FFA15A",
           "#19d3f3",
           "#FF6692",
           "#B6E880",
           "#FF97FF",
           "#FECB52"
          ],
          "font": {
           "color": "#2a3f5f"
          },
          "geo": {
           "bgcolor": "white",
           "lakecolor": "white",
           "landcolor": "#E5ECF6",
           "showlakes": true,
           "showland": true,
           "subunitcolor": "white"
          },
          "hoverlabel": {
           "align": "left"
          },
          "hovermode": "closest",
          "mapbox": {
           "style": "light"
          },
          "paper_bgcolor": "white",
          "plot_bgcolor": "#E5ECF6",
          "polar": {
           "angularaxis": {
            "gridcolor": "white",
            "linecolor": "white",
            "ticks": ""
           },
           "bgcolor": "#E5ECF6",
           "radialaxis": {
            "gridcolor": "white",
            "linecolor": "white",
            "ticks": ""
           }
          },
          "scene": {
           "xaxis": {
            "backgroundcolor": "#E5ECF6",
            "gridcolor": "white",
            "gridwidth": 2,
            "linecolor": "white",
            "showbackground": true,
            "ticks": "",
            "zerolinecolor": "white"
           },
           "yaxis": {
            "backgroundcolor": "#E5ECF6",
            "gridcolor": "white",
            "gridwidth": 2,
            "linecolor": "white",
            "showbackground": true,
            "ticks": "",
            "zerolinecolor": "white"
           },
           "zaxis": {
            "backgroundcolor": "#E5ECF6",
            "gridcolor": "white",
            "gridwidth": 2,
            "linecolor": "white",
            "showbackground": true,
            "ticks": "",
            "zerolinecolor": "white"
           }
          },
          "shapedefaults": {
           "line": {
            "color": "#2a3f5f"
           }
          },
          "ternary": {
           "aaxis": {
            "gridcolor": "white",
            "linecolor": "white",
            "ticks": ""
           },
           "baxis": {
            "gridcolor": "white",
            "linecolor": "white",
            "ticks": ""
           },
           "bgcolor": "#E5ECF6",
           "caxis": {
            "gridcolor": "white",
            "linecolor": "white",
            "ticks": ""
           }
          },
          "title": {
           "x": 0.05
          },
          "xaxis": {
           "automargin": true,
           "gridcolor": "white",
           "linecolor": "white",
           "ticks": "",
           "title": {
            "standoff": 15
           },
           "zerolinecolor": "white",
           "zerolinewidth": 2
          },
          "yaxis": {
           "automargin": true,
           "gridcolor": "white",
           "linecolor": "white",
           "ticks": "",
           "title": {
            "standoff": 15
           },
           "zerolinecolor": "white",
           "zerolinewidth": 2
          }
         }
        },
        "title": {
         "text": "Humidity DHT11"
        },
        "xaxis": {
         "anchor": "y",
         "domain": [
          0,
          1
         ],
         "title": {
          "text": "Time [s]"
         }
        },
        "yaxis": {
         "anchor": "x",
         "domain": [
          0,
          1
         ],
         "tickformat": ".1f",
         "tickmode": "array",
         "tickvals": [
          0,
          10,
          20,
          30,
          40,
          50,
          60,
          70,
          80,
          90,
          100
         ],
         "title": {
          "text": "Norm. Humidity [%]"
         },
         "type": "log"
        }
       }
      }
     },
     "metadata": {},
     "output_type": "display_data"
    }
   ],
   "source": [
    "#show normalised data \n",
    "max_humidity = df['humidity'].idxmax()\n",
    "#normalise data\n",
    "df['humidity_norm'] = df['humidity'] / df['humidity'].iloc[max_humidity]\n",
    "fig = px.line(df, x='time', y=['humidity_norm'])\n",
    "fig.update_layout(\n",
    "    title=\"Humidity DHT11\",\n",
    "    xaxis_title=\"Time [s]\",\n",
    "    yaxis_title=\"Norm. Humidity [%]\",\n",
    "    yaxis=dict(\n",
    "        tickmode='array',\n",
    "        tickvals=tick_vals,\n",
    "        tickformat=\".1f\"\n",
    "    ),\n",
    "    yaxis_type=\"log\",\n",
    ")\n",
    "\n",
    "fig.add_vline(x=max_humidity, line_width=3, line_dash=\"dash\", line_color=\"green\")\n",
    "fig.add_vline(x=max_humidity_after, line_width=3, line_dash=\"dash\", line_color=\"red\")\n",
    "fig.show()"
   ]
  },
  {
   "cell_type": "code",
   "execution_count": 223,
   "metadata": {},
   "outputs": [],
   "source": [
    "# # df = df[31:120]\n",
    "# # temperature\n",
    "# fig = px.line(df, x='time', y=['Temperature DHT11'])\n",
    "# fig.update_layout(\n",
    "#     title=\"Temperature DHT11\",\n",
    "#     xaxis_title=\"Time [s]\",\n",
    "#     yaxis_title=\"Temperature [°C]\",\n",
    "# )\n",
    "# fig.show()\n",
    "# #humidity\n",
    "# fig = px.line(df, x='time', y=['humidity'])\n",
    "# fig.update_layout(\n",
    "#     title=\"Humidity DHT11 sensor\",\n",
    "#     xaxis_title=\"Time [s]\",\n",
    "#     yaxis_title=\"Humidity [%]\",\n",
    "# )\n",
    "# fig.show()\n",
    "# #plot with matplotlib\n",
    "# #temperature\n",
    "# plt.plot(df['time'], df['Temperature DHT11'], label='Temperature DHT11')\n",
    "# plt.xlabel('Time [s]')\n",
    "# plt.ylabel('Temperature [°C]')\n",
    "# plt.title('Temperature DHT11 sensor')\n",
    "# plt.legend()\n",
    "# #SET TO LOG 2 Y AXIS\n",
    "# plt.yscale('log')\n",
    "# plt.show()\n",
    "# #humidity\n",
    "# plt.plot(df['time'], df['humidity'], label='Humidity DHT11')\n",
    "# plt.xlabel('Time [s]')\n",
    "# plt.ylabel('Humidity [%]')\n",
    "# plt.yscale('log')\n",
    "# plt.title('Humidity DHT11 sensor')\n",
    "# plt.legend()\n",
    "\n",
    "# plt.show()"
   ]
  },
  {
   "cell_type": "code",
   "execution_count": 224,
   "metadata": {},
   "outputs": [],
   "source": [
    "# display(df)"
   ]
  },
  {
   "cell_type": "code",
   "execution_count": 225,
   "metadata": {},
   "outputs": [],
   "source": [
    "# start_index = 31\n",
    "# end_index = 50\n",
    "\n",
    "\n",
    "# def time_constant(df, column, start, end):\n",
    "#     df = df[start:end]\n",
    "#     df = df.reset_index(drop=True)\n",
    "#     #calculate time constant\n",
    "#     #find max"
   ]
  },
  {
   "cell_type": "code",
   "execution_count": 226,
   "metadata": {},
   "outputs": [],
   "source": [
    "\n",
    "# t_const = 22.94\n",
    "\n",
    "# def exp_func(room_temp, t_const, t, t0):\n",
    "#     return room_temp + (t0 - room_temp) * np.exp(-t / t_const)\n",
    "\n",
    "# #calculate t0\n",
    "# t0 = df['Temperature DHT11'].max()\n",
    "# df['exp'] = exp_func(25, t_const, df['time'], 33.66)\n",
    "\n",
    "# df = df[31:120]\n",
    "\n",
    "# fig = px.line(df, x='time', y=['Temperature DHT11', 'exp'])\n",
    "# fig.update_layout(\n",
    "#     title=\"Temperature DHT11\",\n",
    "#     xaxis_title=\"Time [s]\",\n",
    "#     yaxis_title=\"Temperature [°C]\",\n",
    "# )\n",
    "\n",
    "# fig.show()"
   ]
  },
  {
   "cell_type": "code",
   "execution_count": 227,
   "metadata": {},
   "outputs": [],
   "source": [
    "\n",
    "# t_const = 0.1384\n",
    "# t_const = 1/t_const\n",
    "# print('t_const: ', t_const)\n",
    "\n",
    "# def exp_func(room_temp, t_const, t, t0):\n",
    "#     return room_temp + (t0 - room_temp) * np.exp(-t / t_const)\n",
    "\n",
    "# #calculate t0\n",
    "# t0 = df['humidity'][10]\n",
    "# print('t0: ', t0)\n",
    "\n",
    "# df['exp'] = exp_func(40, t_const, df['time'] - 63.46, 95.0)\n",
    "# df = df[62:130]\n",
    "\n",
    "# #plot as log 2\n",
    "# fig = px.line(df, x='time', y=['humidity', 'exp'])\n",
    "\n",
    "# fig.update_layout(\n",
    "#     title=\"Humidity DHT11 sensor\",\n",
    "#     xaxis_title=\"Time [s]\",\n",
    "#     yaxis_title=\"Humidity [%]\",\n",
    "#     legend_title=\"Series\",\n",
    "# )\n",
    "# fig.show()\n",
    "    "
   ]
  },
  {
   "cell_type": "code",
   "execution_count": 228,
   "metadata": {},
   "outputs": [],
   "source": [
    "# #divide by 1000\n",
    "# df['CO2'] = df['CO2']/df['CO2'].max()\n",
    "# df['TVOC'] = df['TVOC']/df['TVOC'].max()\n",
    "\n",
    "# fig = px.line(df, x='time', y=['TVOC', 'CO2'])\n",
    "# fig.update_layout(\n",
    "#     title=\"Normalized TVOC and CO2 CCS811 sensor\",\n",
    "#     xaxis_title=\"Time [s]\",\n",
    "#     yaxis_title=\"Normalized\",\n",
    "#     legend_title=\"Series\",\n",
    "# )"
   ]
  },
  {
   "cell_type": "code",
   "execution_count": 229,
   "metadata": {},
   "outputs": [
    {
     "data": {
      "image/png": "[encoded data removed]",
      "text/plain": [
       "<Figure size 640x480 with 1 Axes>"
      ]
     },
     "metadata": {},
     "output_type": "display_data"
    }
   ],
   "source": [
    "import numpy as np\n",
    "import matplotlib.pyplot as plt\n",
    "\n",
    "# Define the x-values\n",
    "x = np.linspace(1, 10, 100)  # Generate 100 equally spaced points between 1 and 10\n",
    "\n",
    "# Calculate the y-values using natural logarithm\n",
    "y = np.log(x)\n",
    "\n",
    "# Plot the points\n",
    "plt.plot(x, y, label='ln(x)')\n",
    "\n",
    "# Add labels and title to the plot\n",
    "plt.xlabel('x')\n",
    "plt.ylabel('ln(x)')\n",
    "plt.title('Natural Logarithm')\n",
    "\n",
    "# Display the legend and grid\n",
    "plt.legend()\n",
    "plt.grid(True)\n",
    "\n",
    "# Show the plot\n",
    "plt.show()\n",
    "\n",
    "\n",
    "\n",
    "\n",
    "\n",
    "\n"
   ]
  }
 ],
 "metadata": {
  "kernelspec": {
   "display_name": "Python 3",
   "language": "python",
   "name": "python3"
  },
  "language_info": {
   "codemirror_mode": {
    "name": "ipython",
    "version": 3
   },
   "file_extension": ".py",
   "mimetype": "text/x-python",
   "name": "python",
   "nbconvert_exporter": "python",
   "pygments_lexer": "ipython3",
   "version": "3.11.0"
  },
  "orig_nbformat": 4
 },
 "nbformat": 4,
 "nbformat_minor": 2
}
