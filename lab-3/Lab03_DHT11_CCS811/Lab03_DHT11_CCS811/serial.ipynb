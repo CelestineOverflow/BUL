{
 "cells": [
  {
   "cell_type": "code",
   "execution_count": null,
   "metadata": {},
   "outputs": [],
   "source": [
    "import serial\n",
    "import pandas as pd\n",
    "import numpy as np\n",
    "import plotly.express as px\n"
   ]
  },
  {
   "cell_type": "code",
   "execution_count": null,
   "metadata": {},
   "outputs": [],
   "source": [
    "filename = input(\"Enter filename: \")\n",
    "for k in range(3):\n",
    "    if not os.path.exists(result_dir):\n",
    "        os.makedirs(result_dir)\n",
    "    ser = serial.Serial('COM4', 115200, timeout=1)\n",
    "    linesToRead = 1000\n",
    "    data = []\n",
    "    for i in range(0, linesToRead):\n",
    "        try:\n",
    "            line = ser.readline().decode('utf-8')\n",
    "            data.append(line)\n",
    "            print(line)\n",
    "        except:\n",
    "            print(\"Error reading from serial port\")\n",
    "            continue\n",
    "    ser.close()\n",
    "\n",
    "    data_arr = []\n",
    "    \n",
    "    for line in data:\n",
    "        try:\n",
    "            data_arr.append(json.loads(line))\n",
    "        except:\n",
    "            continue\n",
    "        #load all json data into a dataframe\n",
    "        df = pd.json_normalize(data_arr)\n",
    "        display(df)\n",
    "        if not os.path.exists(result_dir):\n",
    "            os.makedirs(result_dir)\n",
    "        df.to_csv(os.path.join(result_dir, filename + '_' + str(k) + '.csv'))"
   ]
  },
  {
   "cell_type": "code",
   "execution_count": null,
   "metadata": {},
   "outputs": [],
   "source": [
    "\n",
    "import pandas as pd\n",
    "df = pd.read_csv(r'D:\\BUL\\lab-3\\ch1.csv')\n",
    "display(df)"
   ]
  },
  {
   "cell_type": "code",
   "execution_count": null,
   "metadata": {},
   "outputs": [],
   "source": [
    "import plotly.express as px\n",
    "\n",
    "#plot CH1 data\n",
    "#time is from Start in increments of 0.1s\n",
    "Start_time = df['Start'][0]\n",
    "Increment = df['Increment'][0]\n",
    "print(Start_time)\n",
    "print(Increment)\n",
    "#time column should be the same lenght as the CH1 column\n",
    "time = []\n",
    "for i in range(len(df['CH1'])):\n",
    "    time.append(Start_time + i*Increment)\n",
    "df['time'] = time\n",
    "# fig = px.line(df, x='time', y='ch1')"
   ]
  },
  {
   "cell_type": "code",
   "execution_count": null,
   "metadata": {},
   "outputs": [],
   "source": [
    "#delete rows 0\n",
    "df = df.drop([0])\n",
    "#conver ch1 to float\n",
    "df['CH1'] = df['CH1'].astype(float)\n",
    "display(df)\n"
   ]
  },
  {
   "cell_type": "code",
   "execution_count": null,
   "metadata": {},
   "outputs": [],
   "source": [
    "fig = px.line(df, x='time', y='CH1')\n",
    "fig.show()"
   ]
  },
  {
   "cell_type": "code",
   "execution_count": null,
   "metadata": {},
   "outputs": [],
   "source": [
    "#make a new dataframe to store the duration of each pulse\n",
    "df2 = pd.DataFrame(columns=['Start', 'End', 'Duration'])\n",
    "#find the start and end of each pulse\n",
    "low_val = 1.0\n",
    "high_val = 3.0\n",
    "for i in range(len(df['CH1'])-1):\n",
    "    if df['CH1'][i] < low_val and df['CH1'][i+1] > high_val:\n",
    "        start = df['time'][i]\n",
    "    if df['CH1'][i] > high_val and df['CH1'][i+1] < low_val:\n",
    "        end = df['time'][i]\n",
    "        df2 = df2.append({'Start': start, 'End': end, 'Duration': end-start}, ignore_index=True)\n",
    "display(df2)"
   ]
  },
  {
   "cell_type": "code",
   "execution_count": 16,
   "metadata": {},
   "outputs": [],
   "source": [
    "import serial\n",
    "import time\n",
    "import pandas as pd\n",
    "\n",
    "df = pd.DataFrame(columns=(\"dht11-humidity\", \"dht11-temperature\", \"ccs811-co2\", \"ccs811-tvoc\", \"ccs811-temperature\", \"time\"))\n",
    "ser = serial.Serial('COM9', 9600)\n",
    "ser.flushInput()\n",
    "max = 60*2\n",
    "Start_time = time.time()\n",
    "data=[]\n",
    "for n in range(0, max):\n",
    "    data = ser.readline().decode('utf-8')\n",
    "    print(data)\n",
    "    data = data.split(',')\n",
    "    #add time to data\n",
    "    data.append(time.time()-Start_time)\n",
    "    # print(len(data))\n",
    "    if len (data) < 5:\n",
    "        continue\n",
    "    df = pd.concat([df, pd.DataFrame([data[0:6]], columns=(\"humidity\", \"temperature\", \"CO2\", \"TVOC\", \"CCTEMP\", \"time\"))], ignore_index=True)\n",
    "df.to_csv('data.csv')"
   ]
  },
  {
   "cell_type": "code",
   "execution_count": 27,
   "metadata": {},
   "outputs": [
    {
     "name": "stdout",
     "output_type": "stream",
     "text": [
      "47.00,25.80,438,5,25.80\n",
      "\n",
      "45.00,25.00,433,5,25.80\n",
      "\n",
      "45.00,25.00,423,3,25.80\n",
      "\n",
      "45.00,25.00,425,3,25.80\n",
      "\n",
      "44.00,25.00,427,4,25.80\n",
      "\n",
      "44.00,25.00,428,4,28.96\n",
      "\n",
      "44.00,25.00,1352,145,25.80\n",
      "\n",
      "42.00,24.80,6117,870,26.41\n",
      "\n",
      "42.00,24.80,5734,812,27.67\n",
      "\n",
      "42.00,24.80,4444,616,26.41\n",
      "\n",
      "95.00,25.30,4158,572,25.80\n",
      "\n",
      "95.00,25.30,2576,331,26.41\n",
      "\n",
      "95.00,25.30,5734,812,26.41\n",
      "\n",
      "95.00,25.90,7992,1156,26.41\n",
      "\n",
      "95.00,25.90,7992,1156,26.41\n",
      "\n",
      "95.00,25.90,7992,1156,26.41\n",
      "\n",
      "95.00,26.10,7992,1156,26.41\n",
      "\n",
      "95.00,26.10,6117,870,25.80\n",
      "\n",
      "95.00,26.10,7215,1038,26.41\n",
      "\n",
      "95.00,26.50,5934,843,26.41\n",
      "\n",
      "95.00,26.50,6424,917,27.04\n",
      "\n",
      "95.00,26.50,5016,703,27.04\n",
      "\n",
      "95.00,27.20,4626,643,25.80\n",
      "\n",
      "95.00,27.20,4319,597,27.04\n",
      "\n",
      "95.00,27.20,4504,625,27.04\n",
      "\n",
      "95.00,27.70,4626,643,27.04\n",
      "\n",
      "95.00,27.70,4693,654,27.04\n",
      "\n",
      "95.00,27.70,2900,380,27.04\n",
      "\n",
      "95.00,27.90,1659,191,27.04\n",
      "\n",
      "95.00,27.90,1420,155,27.04\n",
      "\n",
      "95.00,27.90,982,88,27.04\n",
      "\n",
      "95.00,28.40,807,62,27.04\n",
      "\n",
      "95.00,28.40,885,73,27.04\n",
      "\n",
      "95.00,28.40,820,63,27.04\n",
      "\n",
      "95.00,28.20,880,73,27.04\n",
      "\n",
      "95.00,28.20,807,62,27.04\n",
      "\n",
      "95.00,28.20,742,52,27.67\n",
      "\n",
      "95.00,28.10,816,63,27.04\n",
      "\n",
      "95.00,28.10,640,36,27.04\n",
      "\n",
      "95.00,28.10,566,25,27.04\n",
      "\n",
      "95.00,27.50,537,20,27.04\n",
      "\n",
      "95.00,27.50,529,19,27.04\n",
      "\n",
      "95.00,27.50,525,19,26.41\n",
      "\n",
      "95.00,27.30,503,15,27.04\n",
      "\n",
      "95.00,27.30,496,14,26.41\n",
      "\n",
      "95.00,27.30,492,14,27.04\n",
      "\n",
      "95.00,27.10,483,12,26.41\n",
      "\n",
      "95.00,27.10,483,12,26.41\n",
      "\n",
      "95.00,27.10,483,12,26.41\n",
      "\n",
      "95.00,26.80,481,12,26.41\n",
      "\n",
      "95.00,26.80,477,11,26.41\n",
      "\n",
      "95.00,26.80,472,10,26.41\n",
      "\n",
      "95.00,26.60,471,10,26.41\n",
      "\n",
      "95.00,26.60,477,11,26.41\n",
      "\n",
      "95.00,26.60,483,12,26.41\n",
      "\n",
      "95.00,26.40,487,13,26.41\n",
      "\n",
      "95.00,26.40,556,23,26.41\n",
      "\n",
      "95.00,26.40,591,29,25.80\n",
      "\n",
      "95.00,26.10,585,28,26.41\n",
      "\n",
      "95.00,26.10,553,23,25.80\n",
      "\n",
      "95.00,26.10,529,19,25.80\n",
      "\n",
      "95.00,26.10,529,19,25.80\n",
      "\n",
      "95.00,26.10,539,21,25.80\n",
      "\n",
      "95.00,26.10,542,21,25.80\n",
      "\n",
      "78.00,26.00,537,20,25.80\n",
      "\n",
      "78.00,26.00,507,16,25.80\n",
      "\n",
      "78.00,26.00,520,18,25.80\n",
      "\n",
      "68.00,26.10,537,20,25.80\n",
      "\n",
      "68.00,26.10,534,20,25.80\n",
      "\n",
      "68.00,26.10,520,18,25.80\n",
      "\n",
      "58.00,25.90,515,17,25.80\n",
      "\n",
      "58.00,25.90,497,14,25.80\n",
      "\n",
      "58.00,25.90,490,13,25.80\n",
      "\n",
      "54.00,26.00,487,13,25.80\n",
      "\n",
      "54.00,26.00,481,12,25.80\n",
      "\n",
      "54.00,26.00,486,13,25.80\n",
      "\n",
      "52.00,25.90,487,13,25.80\n",
      "\n",
      "52.00,25.90,487,13,25.80\n",
      "\n",
      "52.00,25.90,486,13,25.80\n",
      "\n",
      "46.00,25.90,480,12,25.80\n",
      "\n",
      "46.00,25.90,481,12,25.80\n",
      "\n",
      "46.00,25.90,487,13,25.80\n",
      "\n",
      "45.00,26.00,493,14,25.80\n",
      "\n",
      "45.00,26.00,500,15,25.80\n",
      "\n",
      "45.00,26.00,502,15,25.80\n",
      "\n",
      "44.00,25.70,493,14,25.80\n",
      "\n",
      "44.00,25.70,483,12,25.80\n",
      "\n",
      "44.00,25.70,477,11,25.80\n",
      "\n",
      "44.00,25.60,466,10,25.80\n",
      "\n",
      "44.00,25.60,463,9,25.80\n",
      "\n",
      "44.00,25.60,457,8,25.00\n",
      "\n",
      "44.00,25.80,459,8,25.00\n",
      "\n",
      "44.00,25.80,456,8,25.80\n",
      "\n",
      "44.00,25.80,454,8,25.00\n",
      "\n",
      "42.00,25.80,451,7,25.00\n",
      "\n",
      "42.00,25.80,448,7,25.00\n",
      "\n",
      "42.00,25.80,447,7,25.00\n",
      "\n",
      "41.00,25.90,445,6,25.00\n",
      "\n",
      "41.00,25.90,445,6,25.00\n",
      "\n",
      "41.00,25.90,443,6,25.00\n",
      "\n",
      "41.00,25.80,442,6,25.00\n",
      "\n",
      "41.00,25.80,447,7,25.00\n",
      "\n",
      "41.00,25.80,454,8,25.00\n",
      "\n",
      "41.00,25.90,448,7,25.00\n",
      "\n",
      "41.00,25.90,451,7,25.00\n",
      "\n",
      "41.00,25.90,447,7,25.00\n",
      "\n",
      "41.00,25.30,443,6,25.00\n",
      "\n",
      "41.00,25.30,443,6,25.00\n",
      "\n",
      "41.00,25.30,442,6,25.00\n",
      "\n",
      "41.00,25.20,448,7,25.00\n",
      "\n",
      "41.00,25.20,447,7,25.00\n",
      "\n",
      "41.00,25.20,445,6,25.00\n",
      "\n",
      "41.00,25.40,442,6,25.00\n",
      "\n",
      "41.00,25.40,438,5,25.00\n",
      "\n",
      "41.00,25.40,438,5,25.00\n",
      "\n",
      "40.00,25.10,433,5,25.00\n",
      "\n",
      "40.00,25.10,433,5,25.00\n",
      "\n",
      "40.00,25.10,433,5,25.00\n",
      "\n",
      "40.00,25.90,433,5,25.00\n",
      "\n",
      "40.00,25.90,438,5,25.00\n",
      "\n"
     ]
    }
   ],
   "source": [
    "ser.flushInput()\n",
    "max = 60*2\n",
    "Start_time = time.time()\n",
    "data=[]\n",
    "for n in range(0, max):\n",
    "    data = ser.readline().decode('utf-8')\n",
    "    print(data)\n",
    "    data = data.split(',')\n",
    "    #add time to data\n",
    "    data.append(time.time()-Start_time)\n",
    "    # print(len(data))\n",
    "    if len (data) < 5:\n",
    "        continue\n",
    "    df = pd.concat([df, pd.DataFrame([data[0:6]], columns=(\"humidity\", \"temperature\", \"CO2\", \"TVOC\", \"CCTEMP\", \"time\"))], ignore_index=True)\n",
    "df.to_csv('data.csv')"
   ]
  },
  {
   "cell_type": "code",
   "execution_count": 29,
   "metadata": {},
   "outputs": [
    {
     "data": {
      "text/html": [
       "<div>\n",
       "<style scoped>\n",
       "    .dataframe tbody tr th:only-of-type {\n",
       "        vertical-align: middle;\n",
       "    }\n",
       "\n",
       "    .dataframe tbody tr th {\n",
       "        vertical-align: top;\n",
       "    }\n",
       "\n",
       "    .dataframe thead th {\n",
       "        text-align: right;\n",
       "    }\n",
       "</style>\n",
       "<table border=\"1\" class=\"dataframe\">\n",
       "  <thead>\n",
       "    <tr style=\"text-align: right;\">\n",
       "      <th></th>\n",
       "      <th>humidity</th>\n",
       "      <th>temperature</th>\n",
       "      <th>CO2</th>\n",
       "      <th>TVOC</th>\n",
       "      <th>CCTEMP</th>\n",
       "      <th>time</th>\n",
       "    </tr>\n",
       "  </thead>\n",
       "  <tbody>\n",
       "    <tr>\n",
       "      <th>0</th>\n",
       "      <td>NaN</td>\n",
       "      <td>NaN</td>\n",
       "      <td>400.0</td>\n",
       "      <td>0.0</td>\n",
       "      <td>25.0</td>\n",
       "      <td>0.176762</td>\n",
       "    </tr>\n",
       "    <tr>\n",
       "      <th>1</th>\n",
       "      <td>NaN</td>\n",
       "      <td>NaN</td>\n",
       "      <td>400.0</td>\n",
       "      <td>0.0</td>\n",
       "      <td>25.0</td>\n",
       "      <td>1.214596</td>\n",
       "    </tr>\n",
       "    <tr>\n",
       "      <th>2</th>\n",
       "      <td>NaN</td>\n",
       "      <td>NaN</td>\n",
       "      <td>403.0</td>\n",
       "      <td>0.0</td>\n",
       "      <td>25.0</td>\n",
       "      <td>2.165137</td>\n",
       "    </tr>\n",
       "    <tr>\n",
       "      <th>3</th>\n",
       "      <td>NaN</td>\n",
       "      <td>NaN</td>\n",
       "      <td>403.0</td>\n",
       "      <td>0.0</td>\n",
       "      <td>25.0</td>\n",
       "      <td>3.158840</td>\n",
       "    </tr>\n",
       "    <tr>\n",
       "      <th>4</th>\n",
       "      <td>NaN</td>\n",
       "      <td>NaN</td>\n",
       "      <td>435.0</td>\n",
       "      <td>5.0</td>\n",
       "      <td>25.8</td>\n",
       "      <td>4.195926</td>\n",
       "    </tr>\n",
       "    <tr>\n",
       "      <th>...</th>\n",
       "      <td>...</td>\n",
       "      <td>...</td>\n",
       "      <td>...</td>\n",
       "      <td>...</td>\n",
       "      <td>...</td>\n",
       "      <td>...</td>\n",
       "    </tr>\n",
       "    <tr>\n",
       "      <th>273</th>\n",
       "      <td>40.00</td>\n",
       "      <td>25.10</td>\n",
       "      <td>433</td>\n",
       "      <td>5</td>\n",
       "      <td>25.00\\r\\n</td>\n",
       "      <td>115.163976</td>\n",
       "    </tr>\n",
       "    <tr>\n",
       "      <th>274</th>\n",
       "      <td>40.00</td>\n",
       "      <td>25.10</td>\n",
       "      <td>433</td>\n",
       "      <td>5</td>\n",
       "      <td>25.00\\r\\n</td>\n",
       "      <td>116.129437</td>\n",
       "    </tr>\n",
       "    <tr>\n",
       "      <th>275</th>\n",
       "      <td>40.00</td>\n",
       "      <td>25.10</td>\n",
       "      <td>433</td>\n",
       "      <td>5</td>\n",
       "      <td>25.00\\r\\n</td>\n",
       "      <td>117.125084</td>\n",
       "    </tr>\n",
       "    <tr>\n",
       "      <th>276</th>\n",
       "      <td>40.00</td>\n",
       "      <td>25.90</td>\n",
       "      <td>433</td>\n",
       "      <td>5</td>\n",
       "      <td>25.00\\r\\n</td>\n",
       "      <td>118.145226</td>\n",
       "    </tr>\n",
       "    <tr>\n",
       "      <th>277</th>\n",
       "      <td>40.00</td>\n",
       "      <td>25.90</td>\n",
       "      <td>438</td>\n",
       "      <td>5</td>\n",
       "      <td>25.00\\r\\n</td>\n",
       "      <td>119.113263</td>\n",
       "    </tr>\n",
       "  </tbody>\n",
       "</table>\n",
       "<p>278 rows × 6 columns</p>\n",
       "</div>"
      ],
      "text/plain": [
       "    humidity temperature    CO2 TVOC     CCTEMP        time\n",
       "0        NaN         NaN  400.0  0.0       25.0    0.176762\n",
       "1        NaN         NaN  400.0  0.0       25.0    1.214596\n",
       "2        NaN         NaN  403.0  0.0       25.0    2.165137\n",
       "3        NaN         NaN  403.0  0.0       25.0    3.158840\n",
       "4        NaN         NaN  435.0  5.0       25.8    4.195926\n",
       "..       ...         ...    ...  ...        ...         ...\n",
       "273    40.00       25.10    433    5  25.00\\r\\n  115.163976\n",
       "274    40.00       25.10    433    5  25.00\\r\\n  116.129437\n",
       "275    40.00       25.10    433    5  25.00\\r\\n  117.125084\n",
       "276    40.00       25.90    433    5  25.00\\r\\n  118.145226\n",
       "277    40.00       25.90    438    5  25.00\\r\\n  119.113263\n",
       "\n",
       "[278 rows x 6 columns]"
      ]
     },
     "metadata": {},
     "output_type": "display_data"
    }
   ],
   "source": [
    "display(df)"
   ]
  },
  {
   "cell_type": "code",
   "execution_count": 30,
   "metadata": {},
   "outputs": [],
   "source": [
    "df.to_csv('data4.csv')\n"
   ]
  },
  {
   "cell_type": "code",
   "execution_count": 31,
   "metadata": {},
   "outputs": [],
   "source": [
    "#jsut the las 120 values\n",
    "df = df.tail(120)"
   ]
  },
  {
   "cell_type": "code",
   "execution_count": 20,
   "metadata": {},
   "outputs": [],
   "source": [
    "#drop the nan values\n",
    "df = df.dropna()"
   ]
  },
  {
   "cell_type": "code",
   "execution_count": 32,
   "metadata": {},
   "outputs": [],
   "source": [
    "#CONVERT TO FLOAT\n",
    "df['humidity'] = df['humidity'].astype(float)\n",
    "df['temperature'] = df['temperature'].astype(float)\n",
    "df['CO2'] = df['CO2'].astype(float)\n",
    "df['TVOC'] = df['TVOC'].astype(float)\n",
    "df['CCTEMP'] = df['CCTEMP'].replace(r'\\r\\n','', regex=True).astype(float)"
   ]
  },
  {
   "cell_type": "code",
   "execution_count": 33,
   "metadata": {},
   "outputs": [
    {
     "data": {
      "text/html": [
       "<div>\n",
       "<style scoped>\n",
       "    .dataframe tbody tr th:only-of-type {\n",
       "        vertical-align: middle;\n",
       "    }\n",
       "\n",
       "    .dataframe tbody tr th {\n",
       "        vertical-align: top;\n",
       "    }\n",
       "\n",
       "    .dataframe thead th {\n",
       "        text-align: right;\n",
       "    }\n",
       "</style>\n",
       "<table border=\"1\" class=\"dataframe\">\n",
       "  <thead>\n",
       "    <tr style=\"text-align: right;\">\n",
       "      <th></th>\n",
       "      <th>humidity</th>\n",
       "      <th>temperature</th>\n",
       "      <th>CO2</th>\n",
       "      <th>TVOC</th>\n",
       "      <th>CCTEMP</th>\n",
       "      <th>time</th>\n",
       "    </tr>\n",
       "  </thead>\n",
       "  <tbody>\n",
       "    <tr>\n",
       "      <th>158</th>\n",
       "      <td>47.0</td>\n",
       "      <td>25.8</td>\n",
       "      <td>438.0</td>\n",
       "      <td>5.0</td>\n",
       "      <td>25.8</td>\n",
       "      <td>0.870908</td>\n",
       "    </tr>\n",
       "    <tr>\n",
       "      <th>159</th>\n",
       "      <td>45.0</td>\n",
       "      <td>25.0</td>\n",
       "      <td>433.0</td>\n",
       "      <td>5.0</td>\n",
       "      <td>25.8</td>\n",
       "      <td>1.893039</td>\n",
       "    </tr>\n",
       "    <tr>\n",
       "      <th>160</th>\n",
       "      <td>45.0</td>\n",
       "      <td>25.0</td>\n",
       "      <td>423.0</td>\n",
       "      <td>3.0</td>\n",
       "      <td>25.8</td>\n",
       "      <td>2.860200</td>\n",
       "    </tr>\n",
       "    <tr>\n",
       "      <th>161</th>\n",
       "      <td>45.0</td>\n",
       "      <td>25.0</td>\n",
       "      <td>425.0</td>\n",
       "      <td>3.0</td>\n",
       "      <td>25.8</td>\n",
       "      <td>3.855630</td>\n",
       "    </tr>\n",
       "    <tr>\n",
       "      <th>162</th>\n",
       "      <td>44.0</td>\n",
       "      <td>25.0</td>\n",
       "      <td>427.0</td>\n",
       "      <td>4.0</td>\n",
       "      <td>25.8</td>\n",
       "      <td>4.872487</td>\n",
       "    </tr>\n",
       "    <tr>\n",
       "      <th>...</th>\n",
       "      <td>...</td>\n",
       "      <td>...</td>\n",
       "      <td>...</td>\n",
       "      <td>...</td>\n",
       "      <td>...</td>\n",
       "      <td>...</td>\n",
       "    </tr>\n",
       "    <tr>\n",
       "      <th>273</th>\n",
       "      <td>40.0</td>\n",
       "      <td>25.1</td>\n",
       "      <td>433.0</td>\n",
       "      <td>5.0</td>\n",
       "      <td>25.0</td>\n",
       "      <td>115.163976</td>\n",
       "    </tr>\n",
       "    <tr>\n",
       "      <th>274</th>\n",
       "      <td>40.0</td>\n",
       "      <td>25.1</td>\n",
       "      <td>433.0</td>\n",
       "      <td>5.0</td>\n",
       "      <td>25.0</td>\n",
       "      <td>116.129437</td>\n",
       "    </tr>\n",
       "    <tr>\n",
       "      <th>275</th>\n",
       "      <td>40.0</td>\n",
       "      <td>25.1</td>\n",
       "      <td>433.0</td>\n",
       "      <td>5.0</td>\n",
       "      <td>25.0</td>\n",
       "      <td>117.125084</td>\n",
       "    </tr>\n",
       "    <tr>\n",
       "      <th>276</th>\n",
       "      <td>40.0</td>\n",
       "      <td>25.9</td>\n",
       "      <td>433.0</td>\n",
       "      <td>5.0</td>\n",
       "      <td>25.0</td>\n",
       "      <td>118.145226</td>\n",
       "    </tr>\n",
       "    <tr>\n",
       "      <th>277</th>\n",
       "      <td>40.0</td>\n",
       "      <td>25.9</td>\n",
       "      <td>438.0</td>\n",
       "      <td>5.0</td>\n",
       "      <td>25.0</td>\n",
       "      <td>119.113263</td>\n",
       "    </tr>\n",
       "  </tbody>\n",
       "</table>\n",
       "<p>120 rows × 6 columns</p>\n",
       "</div>"
      ],
      "text/plain": [
       "     humidity  temperature    CO2  TVOC  CCTEMP        time\n",
       "158      47.0         25.8  438.0   5.0    25.8    0.870908\n",
       "159      45.0         25.0  433.0   5.0    25.8    1.893039\n",
       "160      45.0         25.0  423.0   3.0    25.8    2.860200\n",
       "161      45.0         25.0  425.0   3.0    25.8    3.855630\n",
       "162      44.0         25.0  427.0   4.0    25.8    4.872487\n",
       "..        ...          ...    ...   ...     ...         ...\n",
       "273      40.0         25.1  433.0   5.0    25.0  115.163976\n",
       "274      40.0         25.1  433.0   5.0    25.0  116.129437\n",
       "275      40.0         25.1  433.0   5.0    25.0  117.125084\n",
       "276      40.0         25.9  433.0   5.0    25.0  118.145226\n",
       "277      40.0         25.9  438.0   5.0    25.0  119.113263\n",
       "\n",
       "[120 rows x 6 columns]"
      ]
     },
     "metadata": {},
     "output_type": "display_data"
    }
   ],
   "source": [
    "display(df)\t"
   ]
  },
  {
   "cell_type": "code",
   "execution_count": 34,
   "metadata": {},
   "outputs": [],
   "source": [
    "import plotly.express as px"
   ]
  },
  {
   "cell_type": "code",
   "execution_count": 35,
   "metadata": {},
   "outputs": [
    {
     "data": {
      "application/vnd.plotly.v1+json": {
       "config": {
        "plotlyServerURL": "https://plot.ly"
       },
       "data": [
        {
         "hovertemplate": "time=%{x}<br>humidity=%{y}<extra></extra>",
         "legendgroup": "",
         "line": {
          "color": "#636efa",
          "dash": "solid"
         },
         "marker": {
          "symbol": "circle"
         },
         "mode": "lines",
         "name": "",
         "orientation": "v",
         "showlegend": false,
         "type": "scatter",
         "x": [
          0.8709084987640381,
          1.8930394649505615,
          2.8601996898651123,
          3.8556296825408936,
          4.87248682975769,
          5.8413918018341064,
          6.836629867553711,
          7.857435464859009,
          8.825624704360962,
          9.819802522659302,
          10.838414192199707,
          11.805572986602783,
          12.799920320510864,
          13.820014238357544,
          14.786529779434204,
          15.779675960540771,
          16.797858238220215,
          17.767882823944092,
          18.76195764541626,
          19.778691053390503,
          20.747180223464966,
          21.740343809127808,
          22.76046347618103,
          23.7298424243927,
          24.719428300857544,
          25.74025273323059,
          26.710058450698853,
          27.70027780532837,
          28.721885204315186,
          29.68937349319458,
          30.681447744369507,
          31.700834035873413,
          32.66772270202637,
          33.662532806396484,
          34.67948269844055,
          35.64937210083008,
          36.64345049858093,
          37.659993171691895,
          38.629618406295776,
          39.622859716415405,
          40.64195370674133,
          41.609421253204346,
          42.60266423225403,
          43.62218999862671,
          44.58798360824585,
          45.582030296325684,
          46.60287070274353,
          47.56878471374512,
          48.56553411483765,
          49.5827853679657,
          50.55224132537842,
          51.546042680740356,
          52.56380105018616,
          53.53312563896179,
          54.52500128746033,
          55.54508185386658,
          56.51431179046631,
          57.50707006454468,
          58.526081800460815,
          59.49418044090271,
          60.485929012298584,
          61.50732445716858,
          62.476224184036255,
          63.4656720161438,
          64.48708820343018,
          65.45735001564026,
          66.44932246208191,
          67.46827912330627,
          68.435786485672,
          69.43124461174011,
          70.44593214988708,
          71.41841292381287,
          72.4111819267273,
          73.42770791053772,
          74.39848279953003,
          75.39322590827942,
          76.40967392921448,
          77.3807544708252,
          78.37462401390076,
          79.3918468952179,
          80.35816502571106,
          81.35494327545166,
          82.37308526039124,
          83.33892154693604,
          84.33482480049133,
          85.35468745231628,
          86.32181310653687,
          87.31563758850098,
          88.3353009223938,
          89.30262494087219,
          90.29756999015808,
          91.3156988620758,
          92.28408932685852,
          93.27733612060547,
          94.29049801826477,
          95.26508498191833,
          96.25816583633423,
          97.27832341194153,
          98.24723219871521,
          99.23752498626709,
          100.2582528591156,
          101.22740364074707,
          102.22064876556396,
          103.24026608467102,
          104.20701932907104,
          105.20291757583618,
          106.22122001647949,
          107.18659973144531,
          108.18218874931335,
          109.20113348960876,
          110.17099499702454,
          111.16404700279236,
          112.18251061439514,
          113.150141954422,
          114.1439254283905,
          115.16397643089294,
          116.1294367313385,
          117.12508416175842,
          118.14522576332092,
          119.11326289176941
         ],
         "xaxis": "x",
         "y": [
          47,
          45,
          45,
          45,
          44,
          44,
          44,
          42,
          42,
          42,
          95,
          95,
          95,
          95,
          95,
          95,
          95,
          95,
          95,
          95,
          95,
          95,
          95,
          95,
          95,
          95,
          95,
          95,
          95,
          95,
          95,
          95,
          95,
          95,
          95,
          95,
          95,
          95,
          95,
          95,
          95,
          95,
          95,
          95,
          95,
          95,
          95,
          95,
          95,
          95,
          95,
          95,
          95,
          95,
          95,
          95,
          95,
          95,
          95,
          95,
          95,
          95,
          95,
          95,
          78,
          78,
          78,
          68,
          68,
          68,
          58,
          58,
          58,
          54,
          54,
          54,
          52,
          52,
          52,
          46,
          46,
          46,
          45,
          45,
          45,
          44,
          44,
          44,
          44,
          44,
          44,
          44,
          44,
          44,
          42,
          42,
          42,
          41,
          41,
          41,
          41,
          41,
          41,
          41,
          41,
          41,
          41,
          41,
          41,
          41,
          41,
          41,
          41,
          41,
          41,
          40,
          40,
          40,
          40,
          40
         ],
         "yaxis": "y"
        }
       ],
       "layout": {
        "legend": {
         "tracegroupgap": 0
        },
        "margin": {
         "t": 60
        },
        "template": {
         "data": {
          "bar": [
           {
            "error_x": {
             "color": "#2a3f5f"
            },
            "error_y": {
             "color": "#2a3f5f"
            },
            "marker": {
             "line": {
              "color": "#E5ECF6",
              "width": 0.5
             },
             "pattern": {
              "fillmode": "overlay",
              "size": 10,
              "solidity": 0.2
             }
            },
            "type": "bar"
           }
          ],
          "barpolar": [
           {
            "marker": {
             "line": {
              "color": "#E5ECF6",
              "width": 0.5
             },
             "pattern": {
              "fillmode": "overlay",
              "size": 10,
              "solidity": 0.2
             }
            },
            "type": "barpolar"
           }
          ],
          "carpet": [
           {
            "aaxis": {
             "endlinecolor": "#2a3f5f",
             "gridcolor": "white",
             "linecolor": "white",
             "minorgridcolor": "white",
             "startlinecolor": "#2a3f5f"
            },
            "baxis": {
             "endlinecolor": "#2a3f5f",
             "gridcolor": "white",
             "linecolor": "white",
             "minorgridcolor": "white",
             "startlinecolor": "#2a3f5f"
            },
            "type": "carpet"
           }
          ],
          "choropleth": [
           {
            "colorbar": {
             "outlinewidth": 0,
             "ticks": ""
            },
            "type": "choropleth"
           }
          ],
          "contour": [
           {
            "colorbar": {
             "outlinewidth": 0,
             "ticks": ""
            },
            "colorscale": [
             [
              0,
              "#0d0887"
             ],
             [
              0.1111111111111111,
              "#46039f"
             ],
             [
              0.2222222222222222,
              "#7201a8"
             ],
             [
              0.3333333333333333,
              "#9c179e"
             ],
             [
              0.4444444444444444,
              "#bd3786"
             ],
             [
              0.5555555555555556,
              "#d8576b"
             ],
             [
              0.6666666666666666,
              "#ed7953"
             ],
             [
              0.7777777777777778,
              "#fb9f3a"
             ],
             [
              0.8888888888888888,
              "#fdca26"
             ],
             [
              1,
              "#f0f921"
             ]
            ],
            "type": "contour"
           }
          ],
          "contourcarpet": [
           {
            "colorbar": {
             "outlinewidth": 0,
             "ticks": ""
            },
            "type": "contourcarpet"
           }
          ],
          "heatmap": [
           {
            "colorbar": {
             "outlinewidth": 0,
             "ticks": ""
            },
            "colorscale": [
             [
              0,
              "#0d0887"
             ],
             [
              0.1111111111111111,
              "#46039f"
             ],
             [
              0.2222222222222222,
              "#7201a8"
             ],
             [
              0.3333333333333333,
              "#9c179e"
             ],
             [
              0.4444444444444444,
              "#bd3786"
             ],
             [
              0.5555555555555556,
              "#d8576b"
             ],
             [
              0.6666666666666666,
              "#ed7953"
             ],
             [
              0.7777777777777778,
              "#fb9f3a"
             ],
             [
              0.8888888888888888,
              "#fdca26"
             ],
             [
              1,
              "#f0f921"
             ]
            ],
            "type": "heatmap"
           }
          ],
          "heatmapgl": [
           {
            "colorbar": {
             "outlinewidth": 0,
             "ticks": ""
            },
            "colorscale": [
             [
              0,
              "#0d0887"
             ],
             [
              0.1111111111111111,
              "#46039f"
             ],
             [
              0.2222222222222222,
              "#7201a8"
             ],
             [
              0.3333333333333333,
              "#9c179e"
             ],
             [
              0.4444444444444444,
              "#bd3786"
             ],
             [
              0.5555555555555556,
              "#d8576b"
             ],
             [
              0.6666666666666666,
              "#ed7953"
             ],
             [
              0.7777777777777778,
              "#fb9f3a"
             ],
             [
              0.8888888888888888,
              "#fdca26"
             ],
             [
              1,
              "#f0f921"
             ]
            ],
            "type": "heatmapgl"
           }
          ],
          "histogram": [
           {
            "marker": {
             "pattern": {
              "fillmode": "overlay",
              "size": 10,
              "solidity": 0.2
             }
            },
            "type": "histogram"
           }
          ],
          "histogram2d": [
           {
            "colorbar": {
             "outlinewidth": 0,
             "ticks": ""
            },
            "colorscale": [
             [
              0,
              "#0d0887"
             ],
             [
              0.1111111111111111,
              "#46039f"
             ],
             [
              0.2222222222222222,
              "#7201a8"
             ],
             [
              0.3333333333333333,
              "#9c179e"
             ],
             [
              0.4444444444444444,
              "#bd3786"
             ],
             [
              0.5555555555555556,
              "#d8576b"
             ],
             [
              0.6666666666666666,
              "#ed7953"
             ],
             [
              0.7777777777777778,
              "#fb9f3a"
             ],
             [
              0.8888888888888888,
              "#fdca26"
             ],
             [
              1,
              "#f0f921"
             ]
            ],
            "type": "histogram2d"
           }
          ],
          "histogram2dcontour": [
           {
            "colorbar": {
             "outlinewidth": 0,
             "ticks": ""
            },
            "colorscale": [
             [
              0,
              "#0d0887"
             ],
             [
              0.1111111111111111,
              "#46039f"
             ],
             [
              0.2222222222222222,
              "#7201a8"
             ],
             [
              0.3333333333333333,
              "#9c179e"
             ],
             [
              0.4444444444444444,
              "#bd3786"
             ],
             [
              0.5555555555555556,
              "#d8576b"
             ],
             [
              0.6666666666666666,
              "#ed7953"
             ],
             [
              0.7777777777777778,
              "#fb9f3a"
             ],
             [
              0.8888888888888888,
              "#fdca26"
             ],
             [
              1,
              "#f0f921"
             ]
            ],
            "type": "histogram2dcontour"
           }
          ],
          "mesh3d": [
           {
            "colorbar": {
             "outlinewidth": 0,
             "ticks": ""
            },
            "type": "mesh3d"
           }
          ],
          "parcoords": [
           {
            "line": {
             "colorbar": {
              "outlinewidth": 0,
              "ticks": ""
             }
            },
            "type": "parcoords"
           }
          ],
          "pie": [
           {
            "automargin": true,
            "type": "pie"
           }
          ],
          "scatter": [
           {
            "fillpattern": {
             "fillmode": "overlay",
             "size": 10,
             "solidity": 0.2
            },
            "type": "scatter"
           }
          ],
          "scatter3d": [
           {
            "line": {
             "colorbar": {
              "outlinewidth": 0,
              "ticks": ""
             }
            },
            "marker": {
             "colorbar": {
              "outlinewidth": 0,
              "ticks": ""
             }
            },
            "type": "scatter3d"
           }
          ],
          "scattercarpet": [
           {
            "marker": {
             "colorbar": {
              "outlinewidth": 0,
              "ticks": ""
             }
            },
            "type": "scattercarpet"
           }
          ],
          "scattergeo": [
           {
            "marker": {
             "colorbar": {
              "outlinewidth": 0,
              "ticks": ""
             }
            },
            "type": "scattergeo"
           }
          ],
          "scattergl": [
           {
            "marker": {
             "colorbar": {
              "outlinewidth": 0,
              "ticks": ""
             }
            },
            "type": "scattergl"
           }
          ],
          "scattermapbox": [
           {
            "marker": {
             "colorbar": {
              "outlinewidth": 0,
              "ticks": ""
             }
            },
            "type": "scattermapbox"
           }
          ],
          "scatterpolar": [
           {
            "marker": {
             "colorbar": {
              "outlinewidth": 0,
              "ticks": ""
             }
            },
            "type": "scatterpolar"
           }
          ],
          "scatterpolargl": [
           {
            "marker": {
             "colorbar": {
              "outlinewidth": 0,
              "ticks": ""
             }
            },
            "type": "scatterpolargl"
           }
          ],
          "scatterternary": [
           {
            "marker": {
             "colorbar": {
              "outlinewidth": 0,
              "ticks": ""
             }
            },
            "type": "scatterternary"
           }
          ],
          "surface": [
           {
            "colorbar": {
             "outlinewidth": 0,
             "ticks": ""
            },
            "colorscale": [
             [
              0,
              "#0d0887"
             ],
             [
              0.1111111111111111,
              "#46039f"
             ],
             [
              0.2222222222222222,
              "#7201a8"
             ],
             [
              0.3333333333333333,
              "#9c179e"
             ],
             [
              0.4444444444444444,
              "#bd3786"
             ],
             [
              0.5555555555555556,
              "#d8576b"
             ],
             [
              0.6666666666666666,
              "#ed7953"
             ],
             [
              0.7777777777777778,
              "#fb9f3a"
             ],
             [
              0.8888888888888888,
              "#fdca26"
             ],
             [
              1,
              "#f0f921"
             ]
            ],
            "type": "surface"
           }
          ],
          "table": [
           {
            "cells": {
             "fill": {
              "color": "#EBF0F8"
             },
             "line": {
              "color": "white"
             }
            },
            "header": {
             "fill": {
              "color": "#C8D4E3"
             },
             "line": {
              "color": "white"
             }
            },
            "type": "table"
           }
          ]
         },
         "layout": {
          "annotationdefaults": {
           "arrowcolor": "#2a3f5f",
           "arrowhead": 0,
           "arrowwidth": 1
          },
          "autotypenumbers": "strict",
          "coloraxis": {
           "colorbar": {
            "outlinewidth": 0,
            "ticks": ""
           }
          },
          "colorscale": {
           "diverging": [
            [
             0,
             "#8e0152"
            ],
            [
             0.1,
             "#c51b7d"
            ],
            [
             0.2,
             "#de77ae"
            ],
            [
             0.3,
             "#f1b6da"
            ],
            [
             0.4,
             "#fde0ef"
            ],
            [
             0.5,
             "#f7f7f7"
            ],
            [
             0.6,
             "#e6f5d0"
            ],
            [
             0.7,
             "#b8e186"
            ],
            [
             0.8,
             "#7fbc41"
            ],
            [
             0.9,
             "#4d9221"
            ],
            [
             1,
             "#276419"
            ]
           ],
           "sequential": [
            [
             0,
             "#0d0887"
            ],
            [
             0.1111111111111111,
             "#46039f"
            ],
            [
             0.2222222222222222,
             "#7201a8"
            ],
            [
             0.3333333333333333,
             "#9c179e"
            ],
            [
             0.4444444444444444,
             "#bd3786"
            ],
            [
             0.5555555555555556,
             "#d8576b"
            ],
            [
             0.6666666666666666,
             "#ed7953"
            ],
            [
             0.7777777777777778,
             "#fb9f3a"
            ],
            [
             0.8888888888888888,
             "#fdca26"
            ],
            [
             1,
             "#f0f921"
            ]
           ],
           "sequentialminus": [
            [
             0,
             "#0d0887"
            ],
            [
             0.1111111111111111,
             "#46039f"
            ],
            [
             0.2222222222222222,
             "#7201a8"
            ],
            [
             0.3333333333333333,
             "#9c179e"
            ],
            [
             0.4444444444444444,
             "#bd3786"
            ],
            [
             0.5555555555555556,
             "#d8576b"
            ],
            [
             0.6666666666666666,
             "#ed7953"
            ],
            [
             0.7777777777777778,
             "#fb9f3a"
            ],
            [
             0.8888888888888888,
             "#fdca26"
            ],
            [
             1,
             "#f0f921"
            ]
           ]
          },
          "colorway": [
           "#636efa",
           "#EF553B",
           "#00cc96",
           "#ab63fa",
           "#FFA15A",
           "#19d3f3",
           "#FF6692",
           "#B6E880",
           "#FF97FF",
           "#FECB52"
          ],
          "font": {
           "color": "#2a3f5f"
          },
          "geo": {
           "bgcolor": "white",
           "lakecolor": "white",
           "landcolor": "#E5ECF6",
           "showlakes": true,
           "showland": true,
           "subunitcolor": "white"
          },
          "hoverlabel": {
           "align": "left"
          },
          "hovermode": "closest",
          "mapbox": {
           "style": "light"
          },
          "paper_bgcolor": "white",
          "plot_bgcolor": "#E5ECF6",
          "polar": {
           "angularaxis": {
            "gridcolor": "white",
            "linecolor": "white",
            "ticks": ""
           },
           "bgcolor": "#E5ECF6",
           "radialaxis": {
            "gridcolor": "white",
            "linecolor": "white",
            "ticks": ""
           }
          },
          "scene": {
           "xaxis": {
            "backgroundcolor": "#E5ECF6",
            "gridcolor": "white",
            "gridwidth": 2,
            "linecolor": "white",
            "showbackground": true,
            "ticks": "",
            "zerolinecolor": "white"
           },
           "yaxis": {
            "backgroundcolor": "#E5ECF6",
            "gridcolor": "white",
            "gridwidth": 2,
            "linecolor": "white",
            "showbackground": true,
            "ticks": "",
            "zerolinecolor": "white"
           },
           "zaxis": {
            "backgroundcolor": "#E5ECF6",
            "gridcolor": "white",
            "gridwidth": 2,
            "linecolor": "white",
            "showbackground": true,
            "ticks": "",
            "zerolinecolor": "white"
           }
          },
          "shapedefaults": {
           "line": {
            "color": "#2a3f5f"
           }
          },
          "ternary": {
           "aaxis": {
            "gridcolor": "white",
            "linecolor": "white",
            "ticks": ""
           },
           "baxis": {
            "gridcolor": "white",
            "linecolor": "white",
            "ticks": ""
           },
           "bgcolor": "#E5ECF6",
           "caxis": {
            "gridcolor": "white",
            "linecolor": "white",
            "ticks": ""
           }
          },
          "title": {
           "x": 0.05
          },
          "xaxis": {
           "automargin": true,
           "gridcolor": "white",
           "linecolor": "white",
           "ticks": "",
           "title": {
            "standoff": 15
           },
           "zerolinecolor": "white",
           "zerolinewidth": 2
          },
          "yaxis": {
           "automargin": true,
           "gridcolor": "white",
           "linecolor": "white",
           "ticks": "",
           "title": {
            "standoff": 15
           },
           "zerolinecolor": "white",
           "zerolinewidth": 2
          }
         }
        },
        "xaxis": {
         "anchor": "y",
         "domain": [
          0,
          1
         ],
         "title": {
          "text": "time"
         }
        },
        "yaxis": {
         "anchor": "x",
         "domain": [
          0,
          1
         ],
         "title": {
          "text": "humidity"
         }
        }
       }
      }
     },
     "metadata": {},
     "output_type": "display_data"
    }
   ],
   "source": [
    "fig = px.line(df, x='time', y='humidity')\n",
    "fig.show()"
   ]
  },
  {
   "cell_type": "code",
   "execution_count": 36,
   "metadata": {},
   "outputs": [
    {
     "data": {
      "application/vnd.plotly.v1+json": {
       "config": {
        "plotlyServerURL": "https://plot.ly"
       },
       "data": [
        {
         "hovertemplate": "variable=temperature<br>time=%{x}<br>value=%{y}<extra></extra>",
         "legendgroup": "temperature",
         "line": {
          "color": "#636efa",
          "dash": "solid"
         },
         "marker": {
          "symbol": "circle"
         },
         "mode": "lines",
         "name": "temperature",
         "orientation": "v",
         "showlegend": true,
         "type": "scatter",
         "x": [
          0.8709084987640381,
          1.8930394649505615,
          2.8601996898651123,
          3.8556296825408936,
          4.87248682975769,
          5.8413918018341064,
          6.836629867553711,
          7.857435464859009,
          8.825624704360962,
          9.819802522659302,
          10.838414192199707,
          11.805572986602783,
          12.799920320510864,
          13.820014238357544,
          14.786529779434204,
          15.779675960540771,
          16.797858238220215,
          17.767882823944092,
          18.76195764541626,
          19.778691053390503,
          20.747180223464966,
          21.740343809127808,
          22.76046347618103,
          23.7298424243927,
          24.719428300857544,
          25.74025273323059,
          26.710058450698853,
          27.70027780532837,
          28.721885204315186,
          29.68937349319458,
          30.681447744369507,
          31.700834035873413,
          32.66772270202637,
          33.662532806396484,
          34.67948269844055,
          35.64937210083008,
          36.64345049858093,
          37.659993171691895,
          38.629618406295776,
          39.622859716415405,
          40.64195370674133,
          41.609421253204346,
          42.60266423225403,
          43.62218999862671,
          44.58798360824585,
          45.582030296325684,
          46.60287070274353,
          47.56878471374512,
          48.56553411483765,
          49.5827853679657,
          50.55224132537842,
          51.546042680740356,
          52.56380105018616,
          53.53312563896179,
          54.52500128746033,
          55.54508185386658,
          56.51431179046631,
          57.50707006454468,
          58.526081800460815,
          59.49418044090271,
          60.485929012298584,
          61.50732445716858,
          62.476224184036255,
          63.4656720161438,
          64.48708820343018,
          65.45735001564026,
          66.44932246208191,
          67.46827912330627,
          68.435786485672,
          69.43124461174011,
          70.44593214988708,
          71.41841292381287,
          72.4111819267273,
          73.42770791053772,
          74.39848279953003,
          75.39322590827942,
          76.40967392921448,
          77.3807544708252,
          78.37462401390076,
          79.3918468952179,
          80.35816502571106,
          81.35494327545166,
          82.37308526039124,
          83.33892154693604,
          84.33482480049133,
          85.35468745231628,
          86.32181310653687,
          87.31563758850098,
          88.3353009223938,
          89.30262494087219,
          90.29756999015808,
          91.3156988620758,
          92.28408932685852,
          93.27733612060547,
          94.29049801826477,
          95.26508498191833,
          96.25816583633423,
          97.27832341194153,
          98.24723219871521,
          99.23752498626709,
          100.2582528591156,
          101.22740364074707,
          102.22064876556396,
          103.24026608467102,
          104.20701932907104,
          105.20291757583618,
          106.22122001647949,
          107.18659973144531,
          108.18218874931335,
          109.20113348960876,
          110.17099499702454,
          111.16404700279236,
          112.18251061439514,
          113.150141954422,
          114.1439254283905,
          115.16397643089294,
          116.1294367313385,
          117.12508416175842,
          118.14522576332092,
          119.11326289176941
         ],
         "xaxis": "x",
         "y": [
          25.8,
          25,
          25,
          25,
          25,
          25,
          25,
          24.8,
          24.8,
          24.8,
          25.3,
          25.3,
          25.3,
          25.9,
          25.9,
          25.9,
          26.1,
          26.1,
          26.1,
          26.5,
          26.5,
          26.5,
          27.2,
          27.2,
          27.2,
          27.7,
          27.7,
          27.7,
          27.9,
          27.9,
          27.9,
          28.4,
          28.4,
          28.4,
          28.2,
          28.2,
          28.2,
          28.1,
          28.1,
          28.1,
          27.5,
          27.5,
          27.5,
          27.3,
          27.3,
          27.3,
          27.1,
          27.1,
          27.1,
          26.8,
          26.8,
          26.8,
          26.6,
          26.6,
          26.6,
          26.4,
          26.4,
          26.4,
          26.1,
          26.1,
          26.1,
          26.1,
          26.1,
          26.1,
          26,
          26,
          26,
          26.1,
          26.1,
          26.1,
          25.9,
          25.9,
          25.9,
          26,
          26,
          26,
          25.9,
          25.9,
          25.9,
          25.9,
          25.9,
          25.9,
          26,
          26,
          26,
          25.7,
          25.7,
          25.7,
          25.6,
          25.6,
          25.6,
          25.8,
          25.8,
          25.8,
          25.8,
          25.8,
          25.8,
          25.9,
          25.9,
          25.9,
          25.8,
          25.8,
          25.8,
          25.9,
          25.9,
          25.9,
          25.3,
          25.3,
          25.3,
          25.2,
          25.2,
          25.2,
          25.4,
          25.4,
          25.4,
          25.1,
          25.1,
          25.1,
          25.9,
          25.9
         ],
         "yaxis": "y"
        },
        {
         "hovertemplate": "variable=CCTEMP<br>time=%{x}<br>value=%{y}<extra></extra>",
         "legendgroup": "CCTEMP",
         "line": {
          "color": "#EF553B",
          "dash": "solid"
         },
         "marker": {
          "symbol": "circle"
         },
         "mode": "lines",
         "name": "CCTEMP",
         "orientation": "v",
         "showlegend": true,
         "type": "scatter",
         "x": [
          0.8709084987640381,
          1.8930394649505615,
          2.8601996898651123,
          3.8556296825408936,
          4.87248682975769,
          5.8413918018341064,
          6.836629867553711,
          7.857435464859009,
          8.825624704360962,
          9.819802522659302,
          10.838414192199707,
          11.805572986602783,
          12.799920320510864,
          13.820014238357544,
          14.786529779434204,
          15.779675960540771,
          16.797858238220215,
          17.767882823944092,
          18.76195764541626,
          19.778691053390503,
          20.747180223464966,
          21.740343809127808,
          22.76046347618103,
          23.7298424243927,
          24.719428300857544,
          25.74025273323059,
          26.710058450698853,
          27.70027780532837,
          28.721885204315186,
          29.68937349319458,
          30.681447744369507,
          31.700834035873413,
          32.66772270202637,
          33.662532806396484,
          34.67948269844055,
          35.64937210083008,
          36.64345049858093,
          37.659993171691895,
          38.629618406295776,
          39.622859716415405,
          40.64195370674133,
          41.609421253204346,
          42.60266423225403,
          43.62218999862671,
          44.58798360824585,
          45.582030296325684,
          46.60287070274353,
          47.56878471374512,
          48.56553411483765,
          49.5827853679657,
          50.55224132537842,
          51.546042680740356,
          52.56380105018616,
          53.53312563896179,
          54.52500128746033,
          55.54508185386658,
          56.51431179046631,
          57.50707006454468,
          58.526081800460815,
          59.49418044090271,
          60.485929012298584,
          61.50732445716858,
          62.476224184036255,
          63.4656720161438,
          64.48708820343018,
          65.45735001564026,
          66.44932246208191,
          67.46827912330627,
          68.435786485672,
          69.43124461174011,
          70.44593214988708,
          71.41841292381287,
          72.4111819267273,
          73.42770791053772,
          74.39848279953003,
          75.39322590827942,
          76.40967392921448,
          77.3807544708252,
          78.37462401390076,
          79.3918468952179,
          80.35816502571106,
          81.35494327545166,
          82.37308526039124,
          83.33892154693604,
          84.33482480049133,
          85.35468745231628,
          86.32181310653687,
          87.31563758850098,
          88.3353009223938,
          89.30262494087219,
          90.29756999015808,
          91.3156988620758,
          92.28408932685852,
          93.27733612060547,
          94.29049801826477,
          95.26508498191833,
          96.25816583633423,
          97.27832341194153,
          98.24723219871521,
          99.23752498626709,
          100.2582528591156,
          101.22740364074707,
          102.22064876556396,
          103.24026608467102,
          104.20701932907104,
          105.20291757583618,
          106.22122001647949,
          107.18659973144531,
          108.18218874931335,
          109.20113348960876,
          110.17099499702454,
          111.16404700279236,
          112.18251061439514,
          113.150141954422,
          114.1439254283905,
          115.16397643089294,
          116.1294367313385,
          117.12508416175842,
          118.14522576332092,
          119.11326289176941
         ],
         "xaxis": "x",
         "y": [
          25.8,
          25.8,
          25.8,
          25.8,
          25.8,
          28.96,
          25.8,
          26.41,
          27.67,
          26.41,
          25.8,
          26.41,
          26.41,
          26.41,
          26.41,
          26.41,
          26.41,
          25.8,
          26.41,
          26.41,
          27.04,
          27.04,
          25.8,
          27.04,
          27.04,
          27.04,
          27.04,
          27.04,
          27.04,
          27.04,
          27.04,
          27.04,
          27.04,
          27.04,
          27.04,
          27.04,
          27.67,
          27.04,
          27.04,
          27.04,
          27.04,
          27.04,
          26.41,
          27.04,
          26.41,
          27.04,
          26.41,
          26.41,
          26.41,
          26.41,
          26.41,
          26.41,
          26.41,
          26.41,
          26.41,
          26.41,
          26.41,
          25.8,
          26.41,
          25.8,
          25.8,
          25.8,
          25.8,
          25.8,
          25.8,
          25.8,
          25.8,
          25.8,
          25.8,
          25.8,
          25.8,
          25.8,
          25.8,
          25.8,
          25.8,
          25.8,
          25.8,
          25.8,
          25.8,
          25.8,
          25.8,
          25.8,
          25.8,
          25.8,
          25.8,
          25.8,
          25.8,
          25.8,
          25.8,
          25.8,
          25,
          25,
          25.8,
          25,
          25,
          25,
          25,
          25,
          25,
          25,
          25,
          25,
          25,
          25,
          25,
          25,
          25,
          25,
          25,
          25,
          25,
          25,
          25,
          25,
          25,
          25,
          25,
          25,
          25,
          25
         ],
         "yaxis": "y"
        }
       ],
       "layout": {
        "legend": {
         "title": {
          "text": "variable"
         },
         "tracegroupgap": 0
        },
        "margin": {
         "t": 60
        },
        "template": {
         "data": {
          "bar": [
           {
            "error_x": {
             "color": "#2a3f5f"
            },
            "error_y": {
             "color": "#2a3f5f"
            },
            "marker": {
             "line": {
              "color": "#E5ECF6",
              "width": 0.5
             },
             "pattern": {
              "fillmode": "overlay",
              "size": 10,
              "solidity": 0.2
             }
            },
            "type": "bar"
           }
          ],
          "barpolar": [
           {
            "marker": {
             "line": {
              "color": "#E5ECF6",
              "width": 0.5
             },
             "pattern": {
              "fillmode": "overlay",
              "size": 10,
              "solidity": 0.2
             }
            },
            "type": "barpolar"
           }
          ],
          "carpet": [
           {
            "aaxis": {
             "endlinecolor": "#2a3f5f",
             "gridcolor": "white",
             "linecolor": "white",
             "minorgridcolor": "white",
             "startlinecolor": "#2a3f5f"
            },
            "baxis": {
             "endlinecolor": "#2a3f5f",
             "gridcolor": "white",
             "linecolor": "white",
             "minorgridcolor": "white",
             "startlinecolor": "#2a3f5f"
            },
            "type": "carpet"
           }
          ],
          "choropleth": [
           {
            "colorbar": {
             "outlinewidth": 0,
             "ticks": ""
            },
            "type": "choropleth"
           }
          ],
          "contour": [
           {
            "colorbar": {
             "outlinewidth": 0,
             "ticks": ""
            },
            "colorscale": [
             [
              0,
              "#0d0887"
             ],
             [
              0.1111111111111111,
              "#46039f"
             ],
             [
              0.2222222222222222,
              "#7201a8"
             ],
             [
              0.3333333333333333,
              "#9c179e"
             ],
             [
              0.4444444444444444,
              "#bd3786"
             ],
             [
              0.5555555555555556,
              "#d8576b"
             ],
             [
              0.6666666666666666,
              "#ed7953"
             ],
             [
              0.7777777777777778,
              "#fb9f3a"
             ],
             [
              0.8888888888888888,
              "#fdca26"
             ],
             [
              1,
              "#f0f921"
             ]
            ],
            "type": "contour"
           }
          ],
          "contourcarpet": [
           {
            "colorbar": {
             "outlinewidth": 0,
             "ticks": ""
            },
            "type": "contourcarpet"
           }
          ],
          "heatmap": [
           {
            "colorbar": {
             "outlinewidth": 0,
             "ticks": ""
            },
            "colorscale": [
             [
              0,
              "#0d0887"
             ],
             [
              0.1111111111111111,
              "#46039f"
             ],
             [
              0.2222222222222222,
              "#7201a8"
             ],
             [
              0.3333333333333333,
              "#9c179e"
             ],
             [
              0.4444444444444444,
              "#bd3786"
             ],
             [
              0.5555555555555556,
              "#d8576b"
             ],
             [
              0.6666666666666666,
              "#ed7953"
             ],
             [
              0.7777777777777778,
              "#fb9f3a"
             ],
             [
              0.8888888888888888,
              "#fdca26"
             ],
             [
              1,
              "#f0f921"
             ]
            ],
            "type": "heatmap"
           }
          ],
          "heatmapgl": [
           {
            "colorbar": {
             "outlinewidth": 0,
             "ticks": ""
            },
            "colorscale": [
             [
              0,
              "#0d0887"
             ],
             [
              0.1111111111111111,
              "#46039f"
             ],
             [
              0.2222222222222222,
              "#7201a8"
             ],
             [
              0.3333333333333333,
              "#9c179e"
             ],
             [
              0.4444444444444444,
              "#bd3786"
             ],
             [
              0.5555555555555556,
              "#d8576b"
             ],
             [
              0.6666666666666666,
              "#ed7953"
             ],
             [
              0.7777777777777778,
              "#fb9f3a"
             ],
             [
              0.8888888888888888,
              "#fdca26"
             ],
             [
              1,
              "#f0f921"
             ]
            ],
            "type": "heatmapgl"
           }
          ],
          "histogram": [
           {
            "marker": {
             "pattern": {
              "fillmode": "overlay",
              "size": 10,
              "solidity": 0.2
             }
            },
            "type": "histogram"
           }
          ],
          "histogram2d": [
           {
            "colorbar": {
             "outlinewidth": 0,
             "ticks": ""
            },
            "colorscale": [
             [
              0,
              "#0d0887"
             ],
             [
              0.1111111111111111,
              "#46039f"
             ],
             [
              0.2222222222222222,
              "#7201a8"
             ],
             [
              0.3333333333333333,
              "#9c179e"
             ],
             [
              0.4444444444444444,
              "#bd3786"
             ],
             [
              0.5555555555555556,
              "#d8576b"
             ],
             [
              0.6666666666666666,
              "#ed7953"
             ],
             [
              0.7777777777777778,
              "#fb9f3a"
             ],
             [
              0.8888888888888888,
              "#fdca26"
             ],
             [
              1,
              "#f0f921"
             ]
            ],
            "type": "histogram2d"
           }
          ],
          "histogram2dcontour": [
           {
            "colorbar": {
             "outlinewidth": 0,
             "ticks": ""
            },
            "colorscale": [
             [
              0,
              "#0d0887"
             ],
             [
              0.1111111111111111,
              "#46039f"
             ],
             [
              0.2222222222222222,
              "#7201a8"
             ],
             [
              0.3333333333333333,
              "#9c179e"
             ],
             [
              0.4444444444444444,
              "#bd3786"
             ],
             [
              0.5555555555555556,
              "#d8576b"
             ],
             [
              0.6666666666666666,
              "#ed7953"
             ],
             [
              0.7777777777777778,
              "#fb9f3a"
             ],
             [
              0.8888888888888888,
              "#fdca26"
             ],
             [
              1,
              "#f0f921"
             ]
            ],
            "type": "histogram2dcontour"
           }
          ],
          "mesh3d": [
           {
            "colorbar": {
             "outlinewidth": 0,
             "ticks": ""
            },
            "type": "mesh3d"
           }
          ],
          "parcoords": [
           {
            "line": {
             "colorbar": {
              "outlinewidth": 0,
              "ticks": ""
             }
            },
            "type": "parcoords"
           }
          ],
          "pie": [
           {
            "automargin": true,
            "type": "pie"
           }
          ],
          "scatter": [
           {
            "fillpattern": {
             "fillmode": "overlay",
             "size": 10,
             "solidity": 0.2
            },
            "type": "scatter"
           }
          ],
          "scatter3d": [
           {
            "line": {
             "colorbar": {
              "outlinewidth": 0,
              "ticks": ""
             }
            },
            "marker": {
             "colorbar": {
              "outlinewidth": 0,
              "ticks": ""
             }
            },
            "type": "scatter3d"
           }
          ],
          "scattercarpet": [
           {
            "marker": {
             "colorbar": {
              "outlinewidth": 0,
              "ticks": ""
             }
            },
            "type": "scattercarpet"
           }
          ],
          "scattergeo": [
           {
            "marker": {
             "colorbar": {
              "outlinewidth": 0,
              "ticks": ""
             }
            },
            "type": "scattergeo"
           }
          ],
          "scattergl": [
           {
            "marker": {
             "colorbar": {
              "outlinewidth": 0,
              "ticks": ""
             }
            },
            "type": "scattergl"
           }
          ],
          "scattermapbox": [
           {
            "marker": {
             "colorbar": {
              "outlinewidth": 0,
              "ticks": ""
             }
            },
            "type": "scattermapbox"
           }
          ],
          "scatterpolar": [
           {
            "marker": {
             "colorbar": {
              "outlinewidth": 0,
              "ticks": ""
             }
            },
            "type": "scatterpolar"
           }
          ],
          "scatterpolargl": [
           {
            "marker": {
             "colorbar": {
              "outlinewidth": 0,
              "ticks": ""
             }
            },
            "type": "scatterpolargl"
           }
          ],
          "scatterternary": [
           {
            "marker": {
             "colorbar": {
              "outlinewidth": 0,
              "ticks": ""
             }
            },
            "type": "scatterternary"
           }
          ],
          "surface": [
           {
            "colorbar": {
             "outlinewidth": 0,
             "ticks": ""
            },
            "colorscale": [
             [
              0,
              "#0d0887"
             ],
             [
              0.1111111111111111,
              "#46039f"
             ],
             [
              0.2222222222222222,
              "#7201a8"
             ],
             [
              0.3333333333333333,
              "#9c179e"
             ],
             [
              0.4444444444444444,
              "#bd3786"
             ],
             [
              0.5555555555555556,
              "#d8576b"
             ],
             [
              0.6666666666666666,
              "#ed7953"
             ],
             [
              0.7777777777777778,
              "#fb9f3a"
             ],
             [
              0.8888888888888888,
              "#fdca26"
             ],
             [
              1,
              "#f0f921"
             ]
            ],
            "type": "surface"
           }
          ],
          "table": [
           {
            "cells": {
             "fill": {
              "color": "#EBF0F8"
             },
             "line": {
              "color": "white"
             }
            },
            "header": {
             "fill": {
              "color": "#C8D4E3"
             },
             "line": {
              "color": "white"
             }
            },
            "type": "table"
           }
          ]
         },
         "layout": {
          "annotationdefaults": {
           "arrowcolor": "#2a3f5f",
           "arrowhead": 0,
           "arrowwidth": 1
          },
          "autotypenumbers": "strict",
          "coloraxis": {
           "colorbar": {
            "outlinewidth": 0,
            "ticks": ""
           }
          },
          "colorscale": {
           "diverging": [
            [
             0,
             "#8e0152"
            ],
            [
             0.1,
             "#c51b7d"
            ],
            [
             0.2,
             "#de77ae"
            ],
            [
             0.3,
             "#f1b6da"
            ],
            [
             0.4,
             "#fde0ef"
            ],
            [
             0.5,
             "#f7f7f7"
            ],
            [
             0.6,
             "#e6f5d0"
            ],
            [
             0.7,
             "#b8e186"
            ],
            [
             0.8,
             "#7fbc41"
            ],
            [
             0.9,
             "#4d9221"
            ],
            [
             1,
             "#276419"
            ]
           ],
           "sequential": [
            [
             0,
             "#0d0887"
            ],
            [
             0.1111111111111111,
             "#46039f"
            ],
            [
             0.2222222222222222,
             "#7201a8"
            ],
            [
             0.3333333333333333,
             "#9c179e"
            ],
            [
             0.4444444444444444,
             "#bd3786"
            ],
            [
             0.5555555555555556,
             "#d8576b"
            ],
            [
             0.6666666666666666,
             "#ed7953"
            ],
            [
             0.7777777777777778,
             "#fb9f3a"
            ],
            [
             0.8888888888888888,
             "#fdca26"
            ],
            [
             1,
             "#f0f921"
            ]
           ],
           "sequentialminus": [
            [
             0,
             "#0d0887"
            ],
            [
             0.1111111111111111,
             "#46039f"
            ],
            [
             0.2222222222222222,
             "#7201a8"
            ],
            [
             0.3333333333333333,
             "#9c179e"
            ],
            [
             0.4444444444444444,
             "#bd3786"
            ],
            [
             0.5555555555555556,
             "#d8576b"
            ],
            [
             0.6666666666666666,
             "#ed7953"
            ],
            [
             0.7777777777777778,
             "#fb9f3a"
            ],
            [
             0.8888888888888888,
             "#fdca26"
            ],
            [
             1,
             "#f0f921"
            ]
           ]
          },
          "colorway": [
           "#636efa",
           "#EF553B",
           "#00cc96",
           "#ab63fa",
           "#FFA15A",
           "#19d3f3",
           "#FF6692",
           "#B6E880",
           "#FF97FF",
           "#FECB52"
          ],
          "font": {
           "color": "#2a3f5f"
          },
          "geo": {
           "bgcolor": "white",
           "lakecolor": "white",
           "landcolor": "#E5ECF6",
           "showlakes": true,
           "showland": true,
           "subunitcolor": "white"
          },
          "hoverlabel": {
           "align": "left"
          },
          "hovermode": "closest",
          "mapbox": {
           "style": "light"
          },
          "paper_bgcolor": "white",
          "plot_bgcolor": "#E5ECF6",
          "polar": {
           "angularaxis": {
            "gridcolor": "white",
            "linecolor": "white",
            "ticks": ""
           },
           "bgcolor": "#E5ECF6",
           "radialaxis": {
            "gridcolor": "white",
            "linecolor": "white",
            "ticks": ""
           }
          },
          "scene": {
           "xaxis": {
            "backgroundcolor": "#E5ECF6",
            "gridcolor": "white",
            "gridwidth": 2,
            "linecolor": "white",
            "showbackground": true,
            "ticks": "",
            "zerolinecolor": "white"
           },
           "yaxis": {
            "backgroundcolor": "#E5ECF6",
            "gridcolor": "white",
            "gridwidth": 2,
            "linecolor": "white",
            "showbackground": true,
            "ticks": "",
            "zerolinecolor": "white"
           },
           "zaxis": {
            "backgroundcolor": "#E5ECF6",
            "gridcolor": "white",
            "gridwidth": 2,
            "linecolor": "white",
            "showbackground": true,
            "ticks": "",
            "zerolinecolor": "white"
           }
          },
          "shapedefaults": {
           "line": {
            "color": "#2a3f5f"
           }
          },
          "ternary": {
           "aaxis": {
            "gridcolor": "white",
            "linecolor": "white",
            "ticks": ""
           },
           "baxis": {
            "gridcolor": "white",
            "linecolor": "white",
            "ticks": ""
           },
           "bgcolor": "#E5ECF6",
           "caxis": {
            "gridcolor": "white",
            "linecolor": "white",
            "ticks": ""
           }
          },
          "title": {
           "x": 0.05
          },
          "xaxis": {
           "automargin": true,
           "gridcolor": "white",
           "linecolor": "white",
           "ticks": "",
           "title": {
            "standoff": 15
           },
           "zerolinecolor": "white",
           "zerolinewidth": 2
          },
          "yaxis": {
           "automargin": true,
           "gridcolor": "white",
           "linecolor": "white",
           "ticks": "",
           "title": {
            "standoff": 15
           },
           "zerolinecolor": "white",
           "zerolinewidth": 2
          }
         }
        },
        "xaxis": {
         "anchor": "y",
         "domain": [
          0,
          1
         ],
         "title": {
          "text": "time"
         }
        },
        "yaxis": {
         "anchor": "x",
         "domain": [
          0,
          1
         ],
         "title": {
          "text": "value"
         }
        }
       }
      }
     },
     "metadata": {},
     "output_type": "display_data"
    }
   ],
   "source": [
    "fig = px.line(df, x='time', y=['temperature', 'CCTEMP'])\n",
    "fig.show()"
   ]
  },
  {
   "cell_type": "code",
   "execution_count": 37,
   "metadata": {},
   "outputs": [
    {
     "data": {
      "application/vnd.plotly.v1+json": {
       "config": {
        "plotlyServerURL": "https://plot.ly"
       },
       "data": [
        {
         "hovertemplate": "variable=CO2<br>time=%{x}<br>value=%{y}<extra></extra>",
         "legendgroup": "CO2",
         "line": {
          "color": "#636efa",
          "dash": "solid"
         },
         "marker": {
          "symbol": "circle"
         },
         "mode": "lines",
         "name": "CO2",
         "orientation": "v",
         "showlegend": true,
         "type": "scatter",
         "x": [
          0.8709084987640381,
          1.8930394649505615,
          2.8601996898651123,
          3.8556296825408936,
          4.87248682975769,
          5.8413918018341064,
          6.836629867553711,
          7.857435464859009,
          8.825624704360962,
          9.819802522659302,
          10.838414192199707,
          11.805572986602783,
          12.799920320510864,
          13.820014238357544,
          14.786529779434204,
          15.779675960540771,
          16.797858238220215,
          17.767882823944092,
          18.76195764541626,
          19.778691053390503,
          20.747180223464966,
          21.740343809127808,
          22.76046347618103,
          23.7298424243927,
          24.719428300857544,
          25.74025273323059,
          26.710058450698853,
          27.70027780532837,
          28.721885204315186,
          29.68937349319458,
          30.681447744369507,
          31.700834035873413,
          32.66772270202637,
          33.662532806396484,
          34.67948269844055,
          35.64937210083008,
          36.64345049858093,
          37.659993171691895,
          38.629618406295776,
          39.622859716415405,
          40.64195370674133,
          41.609421253204346,
          42.60266423225403,
          43.62218999862671,
          44.58798360824585,
          45.582030296325684,
          46.60287070274353,
          47.56878471374512,
          48.56553411483765,
          49.5827853679657,
          50.55224132537842,
          51.546042680740356,
          52.56380105018616,
          53.53312563896179,
          54.52500128746033,
          55.54508185386658,
          56.51431179046631,
          57.50707006454468,
          58.526081800460815,
          59.49418044090271,
          60.485929012298584,
          61.50732445716858,
          62.476224184036255,
          63.4656720161438,
          64.48708820343018,
          65.45735001564026,
          66.44932246208191,
          67.46827912330627,
          68.435786485672,
          69.43124461174011,
          70.44593214988708,
          71.41841292381287,
          72.4111819267273,
          73.42770791053772,
          74.39848279953003,
          75.39322590827942,
          76.40967392921448,
          77.3807544708252,
          78.37462401390076,
          79.3918468952179,
          80.35816502571106,
          81.35494327545166,
          82.37308526039124,
          83.33892154693604,
          84.33482480049133,
          85.35468745231628,
          86.32181310653687,
          87.31563758850098,
          88.3353009223938,
          89.30262494087219,
          90.29756999015808,
          91.3156988620758,
          92.28408932685852,
          93.27733612060547,
          94.29049801826477,
          95.26508498191833,
          96.25816583633423,
          97.27832341194153,
          98.24723219871521,
          99.23752498626709,
          100.2582528591156,
          101.22740364074707,
          102.22064876556396,
          103.24026608467102,
          104.20701932907104,
          105.20291757583618,
          106.22122001647949,
          107.18659973144531,
          108.18218874931335,
          109.20113348960876,
          110.17099499702454,
          111.16404700279236,
          112.18251061439514,
          113.150141954422,
          114.1439254283905,
          115.16397643089294,
          116.1294367313385,
          117.12508416175842,
          118.14522576332092,
          119.11326289176941
         ],
         "xaxis": "x",
         "y": [
          438,
          433,
          423,
          425,
          427,
          428,
          1352,
          6117,
          5734,
          4444,
          4158,
          2576,
          5734,
          7992,
          7992,
          7992,
          7992,
          6117,
          7215,
          5934,
          6424,
          5016,
          4626,
          4319,
          4504,
          4626,
          4693,
          2900,
          1659,
          1420,
          982,
          807,
          885,
          820,
          880,
          807,
          742,
          816,
          640,
          566,
          537,
          529,
          525,
          503,
          496,
          492,
          483,
          483,
          483,
          481,
          477,
          472,
          471,
          477,
          483,
          487,
          556,
          591,
          585,
          553,
          529,
          529,
          539,
          542,
          537,
          507,
          520,
          537,
          534,
          520,
          515,
          497,
          490,
          487,
          481,
          486,
          487,
          487,
          486,
          480,
          481,
          487,
          493,
          500,
          502,
          493,
          483,
          477,
          466,
          463,
          457,
          459,
          456,
          454,
          451,
          448,
          447,
          445,
          445,
          443,
          442,
          447,
          454,
          448,
          451,
          447,
          443,
          443,
          442,
          448,
          447,
          445,
          442,
          438,
          438,
          433,
          433,
          433,
          433,
          438
         ],
         "yaxis": "y"
        },
        {
         "hovertemplate": "variable=TVOC<br>time=%{x}<br>value=%{y}<extra></extra>",
         "legendgroup": "TVOC",
         "line": {
          "color": "#EF553B",
          "dash": "solid"
         },
         "marker": {
          "symbol": "circle"
         },
         "mode": "lines",
         "name": "TVOC",
         "orientation": "v",
         "showlegend": true,
         "type": "scatter",
         "x": [
          0.8709084987640381,
          1.8930394649505615,
          2.8601996898651123,
          3.8556296825408936,
          4.87248682975769,
          5.8413918018341064,
          6.836629867553711,
          7.857435464859009,
          8.825624704360962,
          9.819802522659302,
          10.838414192199707,
          11.805572986602783,
          12.799920320510864,
          13.820014238357544,
          14.786529779434204,
          15.779675960540771,
          16.797858238220215,
          17.767882823944092,
          18.76195764541626,
          19.778691053390503,
          20.747180223464966,
          21.740343809127808,
          22.76046347618103,
          23.7298424243927,
          24.719428300857544,
          25.74025273323059,
          26.710058450698853,
          27.70027780532837,
          28.721885204315186,
          29.68937349319458,
          30.681447744369507,
          31.700834035873413,
          32.66772270202637,
          33.662532806396484,
          34.67948269844055,
          35.64937210083008,
          36.64345049858093,
          37.659993171691895,
          38.629618406295776,
          39.622859716415405,
          40.64195370674133,
          41.609421253204346,
          42.60266423225403,
          43.62218999862671,
          44.58798360824585,
          45.582030296325684,
          46.60287070274353,
          47.56878471374512,
          48.56553411483765,
          49.5827853679657,
          50.55224132537842,
          51.546042680740356,
          52.56380105018616,
          53.53312563896179,
          54.52500128746033,
          55.54508185386658,
          56.51431179046631,
          57.50707006454468,
          58.526081800460815,
          59.49418044090271,
          60.485929012298584,
          61.50732445716858,
          62.476224184036255,
          63.4656720161438,
          64.48708820343018,
          65.45735001564026,
          66.44932246208191,
          67.46827912330627,
          68.435786485672,
          69.43124461174011,
          70.44593214988708,
          71.41841292381287,
          72.4111819267273,
          73.42770791053772,
          74.39848279953003,
          75.39322590827942,
          76.40967392921448,
          77.3807544708252,
          78.37462401390076,
          79.3918468952179,
          80.35816502571106,
          81.35494327545166,
          82.37308526039124,
          83.33892154693604,
          84.33482480049133,
          85.35468745231628,
          86.32181310653687,
          87.31563758850098,
          88.3353009223938,
          89.30262494087219,
          90.29756999015808,
          91.3156988620758,
          92.28408932685852,
          93.27733612060547,
          94.29049801826477,
          95.26508498191833,
          96.25816583633423,
          97.27832341194153,
          98.24723219871521,
          99.23752498626709,
          100.2582528591156,
          101.22740364074707,
          102.22064876556396,
          103.24026608467102,
          104.20701932907104,
          105.20291757583618,
          106.22122001647949,
          107.18659973144531,
          108.18218874931335,
          109.20113348960876,
          110.17099499702454,
          111.16404700279236,
          112.18251061439514,
          113.150141954422,
          114.1439254283905,
          115.16397643089294,
          116.1294367313385,
          117.12508416175842,
          118.14522576332092,
          119.11326289176941
         ],
         "xaxis": "x",
         "y": [
          5,
          5,
          3,
          3,
          4,
          4,
          145,
          870,
          812,
          616,
          572,
          331,
          812,
          1156,
          1156,
          1156,
          1156,
          870,
          1038,
          843,
          917,
          703,
          643,
          597,
          625,
          643,
          654,
          380,
          191,
          155,
          88,
          62,
          73,
          63,
          73,
          62,
          52,
          63,
          36,
          25,
          20,
          19,
          19,
          15,
          14,
          14,
          12,
          12,
          12,
          12,
          11,
          10,
          10,
          11,
          12,
          13,
          23,
          29,
          28,
          23,
          19,
          19,
          21,
          21,
          20,
          16,
          18,
          20,
          20,
          18,
          17,
          14,
          13,
          13,
          12,
          13,
          13,
          13,
          13,
          12,
          12,
          13,
          14,
          15,
          15,
          14,
          12,
          11,
          10,
          9,
          8,
          8,
          8,
          8,
          7,
          7,
          7,
          6,
          6,
          6,
          6,
          7,
          8,
          7,
          7,
          7,
          6,
          6,
          6,
          7,
          7,
          6,
          6,
          5,
          5,
          5,
          5,
          5,
          5,
          5
         ],
         "yaxis": "y"
        }
       ],
       "layout": {
        "legend": {
         "title": {
          "text": "variable"
         },
         "tracegroupgap": 0
        },
        "margin": {
         "t": 60
        },
        "template": {
         "data": {
          "bar": [
           {
            "error_x": {
             "color": "#2a3f5f"
            },
            "error_y": {
             "color": "#2a3f5f"
            },
            "marker": {
             "line": {
              "color": "#E5ECF6",
              "width": 0.5
             },
             "pattern": {
              "fillmode": "overlay",
              "size": 10,
              "solidity": 0.2
             }
            },
            "type": "bar"
           }
          ],
          "barpolar": [
           {
            "marker": {
             "line": {
              "color": "#E5ECF6",
              "width": 0.5
             },
             "pattern": {
              "fillmode": "overlay",
              "size": 10,
              "solidity": 0.2
             }
            },
            "type": "barpolar"
           }
          ],
          "carpet": [
           {
            "aaxis": {
             "endlinecolor": "#2a3f5f",
             "gridcolor": "white",
             "linecolor": "white",
             "minorgridcolor": "white",
             "startlinecolor": "#2a3f5f"
            },
            "baxis": {
             "endlinecolor": "#2a3f5f",
             "gridcolor": "white",
             "linecolor": "white",
             "minorgridcolor": "white",
             "startlinecolor": "#2a3f5f"
            },
            "type": "carpet"
           }
          ],
          "choropleth": [
           {
            "colorbar": {
             "outlinewidth": 0,
             "ticks": ""
            },
            "type": "choropleth"
           }
          ],
          "contour": [
           {
            "colorbar": {
             "outlinewidth": 0,
             "ticks": ""
            },
            "colorscale": [
             [
              0,
              "#0d0887"
             ],
             [
              0.1111111111111111,
              "#46039f"
             ],
             [
              0.2222222222222222,
              "#7201a8"
             ],
             [
              0.3333333333333333,
              "#9c179e"
             ],
             [
              0.4444444444444444,
              "#bd3786"
             ],
             [
              0.5555555555555556,
              "#d8576b"
             ],
             [
              0.6666666666666666,
              "#ed7953"
             ],
             [
              0.7777777777777778,
              "#fb9f3a"
             ],
             [
              0.8888888888888888,
              "#fdca26"
             ],
             [
              1,
              "#f0f921"
             ]
            ],
            "type": "contour"
           }
          ],
          "contourcarpet": [
           {
            "colorbar": {
             "outlinewidth": 0,
             "ticks": ""
            },
            "type": "contourcarpet"
           }
          ],
          "heatmap": [
           {
            "colorbar": {
             "outlinewidth": 0,
             "ticks": ""
            },
            "colorscale": [
             [
              0,
              "#0d0887"
             ],
             [
              0.1111111111111111,
              "#46039f"
             ],
             [
              0.2222222222222222,
              "#7201a8"
             ],
             [
              0.3333333333333333,
              "#9c179e"
             ],
             [
              0.4444444444444444,
              "#bd3786"
             ],
             [
              0.5555555555555556,
              "#d8576b"
             ],
             [
              0.6666666666666666,
              "#ed7953"
             ],
             [
              0.7777777777777778,
              "#fb9f3a"
             ],
             [
              0.8888888888888888,
              "#fdca26"
             ],
             [
              1,
              "#f0f921"
             ]
            ],
            "type": "heatmap"
           }
          ],
          "heatmapgl": [
           {
            "colorbar": {
             "outlinewidth": 0,
             "ticks": ""
            },
            "colorscale": [
             [
              0,
              "#0d0887"
             ],
             [
              0.1111111111111111,
              "#46039f"
             ],
             [
              0.2222222222222222,
              "#7201a8"
             ],
             [
              0.3333333333333333,
              "#9c179e"
             ],
             [
              0.4444444444444444,
              "#bd3786"
             ],
             [
              0.5555555555555556,
              "#d8576b"
             ],
             [
              0.6666666666666666,
              "#ed7953"
             ],
             [
              0.7777777777777778,
              "#fb9f3a"
             ],
             [
              0.8888888888888888,
              "#fdca26"
             ],
             [
              1,
              "#f0f921"
             ]
            ],
            "type": "heatmapgl"
           }
          ],
          "histogram": [
           {
            "marker": {
             "pattern": {
              "fillmode": "overlay",
              "size": 10,
              "solidity": 0.2
             }
            },
            "type": "histogram"
           }
          ],
          "histogram2d": [
           {
            "colorbar": {
             "outlinewidth": 0,
             "ticks": ""
            },
            "colorscale": [
             [
              0,
              "#0d0887"
             ],
             [
              0.1111111111111111,
              "#46039f"
             ],
             [
              0.2222222222222222,
              "#7201a8"
             ],
             [
              0.3333333333333333,
              "#9c179e"
             ],
             [
              0.4444444444444444,
              "#bd3786"
             ],
             [
              0.5555555555555556,
              "#d8576b"
             ],
             [
              0.6666666666666666,
              "#ed7953"
             ],
             [
              0.7777777777777778,
              "#fb9f3a"
             ],
             [
              0.8888888888888888,
              "#fdca26"
             ],
             [
              1,
              "#f0f921"
             ]
            ],
            "type": "histogram2d"
           }
          ],
          "histogram2dcontour": [
           {
            "colorbar": {
             "outlinewidth": 0,
             "ticks": ""
            },
            "colorscale": [
             [
              0,
              "#0d0887"
             ],
             [
              0.1111111111111111,
              "#46039f"
             ],
             [
              0.2222222222222222,
              "#7201a8"
             ],
             [
              0.3333333333333333,
              "#9c179e"
             ],
             [
              0.4444444444444444,
              "#bd3786"
             ],
             [
              0.5555555555555556,
              "#d8576b"
             ],
             [
              0.6666666666666666,
              "#ed7953"
             ],
             [
              0.7777777777777778,
              "#fb9f3a"
             ],
             [
              0.8888888888888888,
              "#fdca26"
             ],
             [
              1,
              "#f0f921"
             ]
            ],
            "type": "histogram2dcontour"
           }
          ],
          "mesh3d": [
           {
            "colorbar": {
             "outlinewidth": 0,
             "ticks": ""
            },
            "type": "mesh3d"
           }
          ],
          "parcoords": [
           {
            "line": {
             "colorbar": {
              "outlinewidth": 0,
              "ticks": ""
             }
            },
            "type": "parcoords"
           }
          ],
          "pie": [
           {
            "automargin": true,
            "type": "pie"
           }
          ],
          "scatter": [
           {
            "fillpattern": {
             "fillmode": "overlay",
             "size": 10,
             "solidity": 0.2
            },
            "type": "scatter"
           }
          ],
          "scatter3d": [
           {
            "line": {
             "colorbar": {
              "outlinewidth": 0,
              "ticks": ""
             }
            },
            "marker": {
             "colorbar": {
              "outlinewidth": 0,
              "ticks": ""
             }
            },
            "type": "scatter3d"
           }
          ],
          "scattercarpet": [
           {
            "marker": {
             "colorbar": {
              "outlinewidth": 0,
              "ticks": ""
             }
            },
            "type": "scattercarpet"
           }
          ],
          "scattergeo": [
           {
            "marker": {
             "colorbar": {
              "outlinewidth": 0,
              "ticks": ""
             }
            },
            "type": "scattergeo"
           }
          ],
          "scattergl": [
           {
            "marker": {
             "colorbar": {
              "outlinewidth": 0,
              "ticks": ""
             }
            },
            "type": "scattergl"
           }
          ],
          "scattermapbox": [
           {
            "marker": {
             "colorbar": {
              "outlinewidth": 0,
              "ticks": ""
             }
            },
            "type": "scattermapbox"
           }
          ],
          "scatterpolar": [
           {
            "marker": {
             "colorbar": {
              "outlinewidth": 0,
              "ticks": ""
             }
            },
            "type": "scatterpolar"
           }
          ],
          "scatterpolargl": [
           {
            "marker": {
             "colorbar": {
              "outlinewidth": 0,
              "ticks": ""
             }
            },
            "type": "scatterpolargl"
           }
          ],
          "scatterternary": [
           {
            "marker": {
             "colorbar": {
              "outlinewidth": 0,
              "ticks": ""
             }
            },
            "type": "scatterternary"
           }
          ],
          "surface": [
           {
            "colorbar": {
             "outlinewidth": 0,
             "ticks": ""
            },
            "colorscale": [
             [
              0,
              "#0d0887"
             ],
             [
              0.1111111111111111,
              "#46039f"
             ],
             [
              0.2222222222222222,
              "#7201a8"
             ],
             [
              0.3333333333333333,
              "#9c179e"
             ],
             [
              0.4444444444444444,
              "#bd3786"
             ],
             [
              0.5555555555555556,
              "#d8576b"
             ],
             [
              0.6666666666666666,
              "#ed7953"
             ],
             [
              0.7777777777777778,
              "#fb9f3a"
             ],
             [
              0.8888888888888888,
              "#fdca26"
             ],
             [
              1,
              "#f0f921"
             ]
            ],
            "type": "surface"
           }
          ],
          "table": [
           {
            "cells": {
             "fill": {
              "color": "#EBF0F8"
             },
             "line": {
              "color": "white"
             }
            },
            "header": {
             "fill": {
              "color": "#C8D4E3"
             },
             "line": {
              "color": "white"
             }
            },
            "type": "table"
           }
          ]
         },
         "layout": {
          "annotationdefaults": {
           "arrowcolor": "#2a3f5f",
           "arrowhead": 0,
           "arrowwidth": 1
          },
          "autotypenumbers": "strict",
          "coloraxis": {
           "colorbar": {
            "outlinewidth": 0,
            "ticks": ""
           }
          },
          "colorscale": {
           "diverging": [
            [
             0,
             "#8e0152"
            ],
            [
             0.1,
             "#c51b7d"
            ],
            [
             0.2,
             "#de77ae"
            ],
            [
             0.3,
             "#f1b6da"
            ],
            [
             0.4,
             "#fde0ef"
            ],
            [
             0.5,
             "#f7f7f7"
            ],
            [
             0.6,
             "#e6f5d0"
            ],
            [
             0.7,
             "#b8e186"
            ],
            [
             0.8,
             "#7fbc41"
            ],
            [
             0.9,
             "#4d9221"
            ],
            [
             1,
             "#276419"
            ]
           ],
           "sequential": [
            [
             0,
             "#0d0887"
            ],
            [
             0.1111111111111111,
             "#46039f"
            ],
            [
             0.2222222222222222,
             "#7201a8"
            ],
            [
             0.3333333333333333,
             "#9c179e"
            ],
            [
             0.4444444444444444,
             "#bd3786"
            ],
            [
             0.5555555555555556,
             "#d8576b"
            ],
            [
             0.6666666666666666,
             "#ed7953"
            ],
            [
             0.7777777777777778,
             "#fb9f3a"
            ],
            [
             0.8888888888888888,
             "#fdca26"
            ],
            [
             1,
             "#f0f921"
            ]
           ],
           "sequentialminus": [
            [
             0,
             "#0d0887"
            ],
            [
             0.1111111111111111,
             "#46039f"
            ],
            [
             0.2222222222222222,
             "#7201a8"
            ],
            [
             0.3333333333333333,
             "#9c179e"
            ],
            [
             0.4444444444444444,
             "#bd3786"
            ],
            [
             0.5555555555555556,
             "#d8576b"
            ],
            [
             0.6666666666666666,
             "#ed7953"
            ],
            [
             0.7777777777777778,
             "#fb9f3a"
            ],
            [
             0.8888888888888888,
             "#fdca26"
            ],
            [
             1,
             "#f0f921"
            ]
           ]
          },
          "colorway": [
           "#636efa",
           "#EF553B",
           "#00cc96",
           "#ab63fa",
           "#FFA15A",
           "#19d3f3",
           "#FF6692",
           "#B6E880",
           "#FF97FF",
           "#FECB52"
          ],
          "font": {
           "color": "#2a3f5f"
          },
          "geo": {
           "bgcolor": "white",
           "lakecolor": "white",
           "landcolor": "#E5ECF6",
           "showlakes": true,
           "showland": true,
           "subunitcolor": "white"
          },
          "hoverlabel": {
           "align": "left"
          },
          "hovermode": "closest",
          "mapbox": {
           "style": "light"
          },
          "paper_bgcolor": "white",
          "plot_bgcolor": "#E5ECF6",
          "polar": {
           "angularaxis": {
            "gridcolor": "white",
            "linecolor": "white",
            "ticks": ""
           },
           "bgcolor": "#E5ECF6",
           "radialaxis": {
            "gridcolor": "white",
            "linecolor": "white",
            "ticks": ""
           }
          },
          "scene": {
           "xaxis": {
            "backgroundcolor": "#E5ECF6",
            "gridcolor": "white",
            "gridwidth": 2,
            "linecolor": "white",
            "showbackground": true,
            "ticks": "",
            "zerolinecolor": "white"
           },
           "yaxis": {
            "backgroundcolor": "#E5ECF6",
            "gridcolor": "white",
            "gridwidth": 2,
            "linecolor": "white",
            "showbackground": true,
            "ticks": "",
            "zerolinecolor": "white"
           },
           "zaxis": {
            "backgroundcolor": "#E5ECF6",
            "gridcolor": "white",
            "gridwidth": 2,
            "linecolor": "white",
            "showbackground": true,
            "ticks": "",
            "zerolinecolor": "white"
           }
          },
          "shapedefaults": {
           "line": {
            "color": "#2a3f5f"
           }
          },
          "ternary": {
           "aaxis": {
            "gridcolor": "white",
            "linecolor": "white",
            "ticks": ""
           },
           "baxis": {
            "gridcolor": "white",
            "linecolor": "white",
            "ticks": ""
           },
           "bgcolor": "#E5ECF6",
           "caxis": {
            "gridcolor": "white",
            "linecolor": "white",
            "ticks": ""
           }
          },
          "title": {
           "x": 0.05
          },
          "xaxis": {
           "automargin": true,
           "gridcolor": "white",
           "linecolor": "white",
           "ticks": "",
           "title": {
            "standoff": 15
           },
           "zerolinecolor": "white",
           "zerolinewidth": 2
          },
          "yaxis": {
           "automargin": true,
           "gridcolor": "white",
           "linecolor": "white",
           "ticks": "",
           "title": {
            "standoff": 15
           },
           "zerolinecolor": "white",
           "zerolinewidth": 2
          }
         }
        },
        "xaxis": {
         "anchor": "y",
         "domain": [
          0,
          1
         ],
         "title": {
          "text": "time"
         }
        },
        "yaxis": {
         "anchor": "x",
         "domain": [
          0,
          1
         ],
         "title": {
          "text": "value"
         }
        }
       }
      }
     },
     "metadata": {},
     "output_type": "display_data"
    }
   ],
   "source": [
    "fig = px.line(df, x='time', y=['CO2', 'TVOC'])\n",
    "fig.show()"
   ]
  },
  {
   "cell_type": "code",
   "execution_count": null,
   "metadata": {},
   "outputs": [],
   "source": [
    "df.to_csv('data5.csv')"
   ]
  },
  {
   "cell_type": "code",
   "execution_count": 15,
   "metadata": {},
   "outputs": [],
   "source": [
    "ser.close()"
   ]
  }
 ],
 "metadata": {
  "kernelspec": {
   "display_name": "Python 3",
   "language": "python",
   "name": "python3"
  },
  "language_info": {
   "codemirror_mode": {
    "name": "ipython",
    "version": 3
   },
   "file_extension": ".py",
   "mimetype": "text/x-python",
   "name": "python",
   "nbconvert_exporter": "python",
   "pygments_lexer": "ipython3",
   "version": "3.11.0"
  },
  "orig_nbformat": 4
 },
 "nbformat": 4,
 "nbformat_minor": 2
}
