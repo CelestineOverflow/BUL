{
 "cells": [
  {
   "cell_type": "code",
   "execution_count": 6,
   "metadata": {},
   "outputs": [],
   "source": [
    "import canalystii\n",
    "import struct\n",
    "import json\n"
   ]
  },
  {
   "cell_type": "code",
   "execution_count": 7,
   "metadata": {},
   "outputs": [
    {
     "ename": "ValueError",
     "evalue": "No Canalyst-II USB device found",
     "output_type": "error",
     "traceback": [
      "\u001b[1;31m---------------------------------------------------------------------------\u001b[0m",
      "\u001b[1;31mValueError\u001b[0m                                Traceback (most recent call last)",
      "Cell \u001b[1;32mIn[7], line 1\u001b[0m\n\u001b[1;32m----> 1\u001b[0m dev \u001b[39m=\u001b[39m canalystii\u001b[39m.\u001b[39;49mCanalystDevice(bitrate\u001b[39m=\u001b[39;49m\u001b[39m500000\u001b[39;49m)\n",
      "File \u001b[1;32mc:\\Python311\\Lib\\site-packages\\canalystii\\device.py:59\u001b[0m, in \u001b[0;36mCanalystDevice.__init__\u001b[1;34m(self, device_index, usb_device, bitrate, timing0, timing1)\u001b[0m\n\u001b[0;32m     51\u001b[0m devices \u001b[39m=\u001b[39m \u001b[39mlist\u001b[39m(\n\u001b[0;32m     52\u001b[0m     usb\u001b[39m.\u001b[39mcore\u001b[39m.\u001b[39mfind(\n\u001b[0;32m     53\u001b[0m         idVendor\u001b[39m=\u001b[39mprotocol\u001b[39m.\u001b[39mUSB_ID_VENDOR,\n\u001b[1;32m   (...)\u001b[0m\n\u001b[0;32m     56\u001b[0m     )\n\u001b[0;32m     57\u001b[0m )\n\u001b[0;32m     58\u001b[0m \u001b[39mif\u001b[39;00m \u001b[39mnot\u001b[39;00m devices:\n\u001b[1;32m---> 59\u001b[0m     \u001b[39mraise\u001b[39;00m \u001b[39mValueError\u001b[39;00m(\u001b[39m\"\u001b[39m\u001b[39mNo Canalyst-II USB device found\u001b[39m\u001b[39m\"\u001b[39m)\n\u001b[0;32m     60\u001b[0m \u001b[39mif\u001b[39;00m \u001b[39mlen\u001b[39m(devices) \u001b[39m<\u001b[39m\u001b[39m=\u001b[39m device_index:\n\u001b[0;32m     61\u001b[0m     \u001b[39mraise\u001b[39;00m \u001b[39mValueError\u001b[39;00m(\n\u001b[0;32m     62\u001b[0m         \u001b[39mf\u001b[39m\u001b[39m\"\u001b[39m\u001b[39mCan\u001b[39m\u001b[39m'\u001b[39m\u001b[39mt open device_index \u001b[39m\u001b[39m{\u001b[39;00mdevice_index\u001b[39m}\u001b[39;00m\u001b[39m, only \u001b[39m\u001b[39m{\u001b[39;00m\u001b[39mlen\u001b[39m(devices)\u001b[39m}\u001b[39;00m\u001b[39m devices found.\u001b[39m\u001b[39m\"\u001b[39m\n\u001b[0;32m     63\u001b[0m     )\n",
      "\u001b[1;31mValueError\u001b[0m: No Canalyst-II USB device found"
     ]
    }
   ],
   "source": [
    "dev = canalystii.CanalystDevice(bitrate=500000)"
   ]
  },
  {
   "cell_type": "code",
   "execution_count": 25,
   "metadata": {},
   "outputs": [],
   "source": [
    "class Message:\n",
    "    def __init__(self, chuck, checksum : int, counter : int):\n",
    "        self.chuck = chuck\n",
    "        self.checksum = checksum\n",
    "        self.counter = counter\n",
    "    def get_struct(self):\n",
    "        #covert chuck to bytes\n",
    "        if type(self.chuck) == str:\n",
    "            #convert to ascii\n",
    "            self.chuck = self.chuck.encode('ascii')\n",
    "        return struct.pack('4sHH', self.chuck, self.checksum, self.counter)\n",
    "    \n",
    "    @staticmethod\n",
    "    def fromBytesToMessage(raw_message):\n",
    "        return Message(*struct.unpack('4sHH', bytes(raw_message)))\n",
    "        \n",
    "    \n",
    "    def __str__(self):\n",
    "        return f'Chuck: {self.chuck}, Checksum: {self.checksum}, Counter: {self.counter}'\n",
    " \n",
    "class MessageConstructor:\n",
    "    def __init__(self):\n",
    "        self.counter = 0\n",
    "\n",
    "    def checksum(self, message):\n",
    "        return sum(ord(c) for c in message) % 2**16 # 16 bit checksum\n",
    "\n",
    "    def create_message(self, message):\n",
    "        chunks = [message[i:i+4] for i in range(0, len(message), 4)]# every 4 letters\n",
    "        m_array = []\n",
    "        for chunk in chunks:\n",
    "            self.counter = (self.counter + 1) % 2**16 # 16 bit counter\n",
    "            cs = self.checksum(chunk)\n",
    "            #print(f'Sending chunk: {chunk}, Checksum: {cs}, Counter: {self.counter}')\n",
    "            m = Message(chunk, cs, self.counter).get_struct()\n",
    "            m_array.append(m)\n",
    "        return m_array\n",
    "    \n",
    "def send_message(message):\n",
    "    mc = MessageConstructor()\n",
    "    m_array = mc.create_message(message)\n",
    "    for m in m_array:\n",
    "        new_message = canalystii.Message(can_id=0x300,\n",
    "                                 remote=False,\n",
    "                                 extended=False,\n",
    "                                 data_len=8,\n",
    "                                 data=(m))\n",
    "        dev.send(new_message)\n",
    "        \n",
    "def dataInputBuffer(i):\n",
    "    data = []\n",
    "    try:\n",
    "        data.append(dev.receive(i))\n",
    "    except canalystii.NoData:\n",
    "        pass\n",
    "    \n",
    "    return data\n",
    "\n",
    "def test(message : str):\n",
    "    mc = MessageConstructor()\n",
    "    m_array = mc.create_message(message)\n",
    "    reconstructed_message = ''\n",
    "    for m in m_array:\n",
    "        letters_received = Message.fromBytesToMessage(m)\n",
    "        reconstructed_message += letters_received.chuck.decode('ascii')\n",
    "        print('Sent: ', letters_received)\n",
    "        # send_message(m)\n",
    "        # print('Received: ', dataInputBuffer(1))\n",
    "        data = dataInputBuffer(1)\n",
    "        received_message = Message.fromBytesToMessage(data[0].data)\n",
    "        print('Received: ', received_message)\n",
    "        # check if the received message is correct by checking the checksum\n",
    "        # perform checksum on the received message\n",
    "        checksum = mc.checksum(received_message.chuck)\n",
    "        if checksum == received_message.checksum:\n",
    "            print('Checksum matches')\n",
    "        else:\n",
    "            print('Checksum does not match!!!')\n",
    "        \n",
    "    print('Original message: ', message)\n",
    "    print('Reconstructed message: ', reconstructed_message)"
   ]
  },
  {
   "cell_type": "code",
   "execution_count": 26,
   "metadata": {},
   "outputs": [
    {
     "name": "stdout",
     "output_type": "stream",
     "text": [
      "Sent:  Chuck: b'Hell', Checksum: 389, Counter: 1\n",
      "Sent:  Chuck: b'o Wo', Checksum: 341, Counter: 2\n",
      "Sent:  Chuck: b'rld\\x00', Checksum: 322, Counter: 3\n",
      "Original message:  Hello World\n",
      "Reconstructed message:  Hello World\u0000\n"
     ]
    }
   ],
   "source": [
    "message = 'Hello World'\n",
    "test(message)"
   ]
  },
  {
   "cell_type": "code",
   "execution_count": 27,
   "metadata": {},
   "outputs": [
    {
     "name": "stdout",
     "output_type": "stream",
     "text": [
      "Sent:  Chuck: b'{\"na', Checksum: 364, Counter: 1\n",
      "Sent:  Chuck: b'me\":', Checksum: 302, Counter: 2\n",
      "Sent:  Chuck: b' \"Jo', Checksum: 251, Counter: 3\n",
      "Sent:  Chuck: b'hn\",', Checksum: 292, Counter: 4\n",
      "Sent:  Chuck: b' \"ag', Checksum: 266, Counter: 5\n",
      "Sent:  Chuck: b'e\": ', Checksum: 225, Counter: 6\n",
      "Sent:  Chuck: b'30}\\x00', Checksum: 224, Counter: 7\n",
      "Original message:  {\"name\": \"John\", \"age\": 30}\n",
      "Reconstructed message:  {\"name\": \"John\", \"age\": 30}\u0000\n"
     ]
    }
   ],
   "source": [
    "#sending json\n",
    "message = json.dumps({'name': 'John', 'age': 30})\n",
    "test(message)\n"
   ]
  }
 ],
 "metadata": {
  "kernelspec": {
   "display_name": "Python 3",
   "language": "python",
   "name": "python3"
  },
  "language_info": {
   "codemirror_mode": {
    "name": "ipython",
    "version": 3
   },
   "file_extension": ".py",
   "mimetype": "text/x-python",
   "name": "python",
   "nbconvert_exporter": "python",
   "pygments_lexer": "ipython3",
   "version": "3.11.0"
  },
  "orig_nbformat": 4
 },
 "nbformat": 4,
 "nbformat_minor": 2
}
