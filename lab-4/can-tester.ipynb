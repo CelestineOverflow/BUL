{
 "cells": [
  {
   "cell_type": "code",
   "execution_count": 1,
   "metadata": {},
   "outputs": [],
   "source": [
    "import canalystii\n",
    "import usb.core\n",
    "import usb.util\n"
   ]
  },
  {
   "cell_type": "code",
   "execution_count": 2,
   "metadata": {},
   "outputs": [
    {
     "name": "stdout",
     "output_type": "stream",
     "text": [
      "DEVICE ID 04d8:0053 on Bus 000 Address 004 =================\n",
      " bLength                :   0x12 (18 bytes)\n",
      " bDescriptorType        :    0x1 Device\n",
      " bcdUSB                 :  0x200 USB 2.0\n",
      " bDeviceClass           :    0x0 Specified at interface\n",
      " bDeviceSubClass        :    0x0\n",
      " bDeviceProtocol        :    0x0\n",
      " bMaxPacketSize0        :    0x8 (8 bytes)\n",
      " idVendor               : 0x04d8\n",
      " idProduct              : 0x0053\n",
      " bcdDevice              :  0x334 Device 3.34\n",
      " iManufacturer          :    0x1 Microchip Technology Inc.\n",
      " iProduct               :    0x3 Chuangxin Tech USBCAN/CANalyst-II\n",
      " iSerialNumber          :    0x0 \n",
      " bNumConfigurations     :    0x1\n",
      "  CONFIGURATION 1: 500 mA ==================================\n",
      "   bLength              :    0x9 (9 bytes)\n",
      "   bDescriptorType      :    0x2 Configuration\n",
      "   wTotalLength         :   0x66 (102 bytes)\n",
      "   bNumInterfaces       :    0x1\n",
      "   bConfigurationValue  :    0x1\n",
      "   iConfiguration       :    0x0 \n",
      "   bmAttributes         :   0xc0 Self Powered\n",
      "   bMaxPower            :   0xfa (500 mA)\n",
      "    INTERFACE 0: Vendor Specific ===========================\n",
      "     bLength            :    0x9 (9 bytes)\n",
      "     bDescriptorType    :    0x4 Interface\n",
      "     bInterfaceNumber   :    0x0\n",
      "     bAlternateSetting  :    0x0\n",
      "     bNumEndpoints      :    0xc\n",
      "     bInterfaceClass    :   0xff Vendor Specific\n",
      "     bInterfaceSubClass :   0xff\n",
      "     bInterfaceProtocol :   0xff\n",
      "     iInterface         :    0x0 \n",
      "      ENDPOINT 0x1: Bulk OUT ===============================\n",
      "       bLength          :    0x7 (7 bytes)\n",
      "       bDescriptorType  :    0x5 Endpoint\n",
      "       bEndpointAddress :    0x1 OUT\n",
      "       bmAttributes     :    0x2 Bulk\n",
      "       wMaxPacketSize   :   0x40 (64 bytes)\n",
      "       bInterval        :    0x1\n",
      "      ENDPOINT 0x81: Bulk IN ===============================\n",
      "       bLength          :    0x7 (7 bytes)\n",
      "       bDescriptorType  :    0x5 Endpoint\n",
      "       bEndpointAddress :   0x81 IN\n",
      "       bmAttributes     :    0x2 Bulk\n",
      "       wMaxPacketSize   :   0x40 (64 bytes)\n",
      "       bInterval        :    0x1\n",
      "      ENDPOINT 0x2: Bulk OUT ===============================\n",
      "       bLength          :    0x7 (7 bytes)\n",
      "       bDescriptorType  :    0x5 Endpoint\n",
      "       bEndpointAddress :    0x2 OUT\n",
      "       bmAttributes     :    0x2 Bulk\n",
      "       wMaxPacketSize   :   0x40 (64 bytes)\n",
      "       bInterval        :    0x1\n",
      "      ENDPOINT 0x82: Bulk IN ===============================\n",
      "       bLength          :    0x7 (7 bytes)\n",
      "       bDescriptorType  :    0x5 Endpoint\n",
      "       bEndpointAddress :   0x82 IN\n",
      "       bmAttributes     :    0x2 Bulk\n",
      "       wMaxPacketSize   :   0x40 (64 bytes)\n",
      "       bInterval        :    0x1\n",
      "      ENDPOINT 0x3: Bulk OUT ===============================\n",
      "       bLength          :    0x7 (7 bytes)\n",
      "       bDescriptorType  :    0x5 Endpoint\n",
      "       bEndpointAddress :    0x3 OUT\n",
      "       bmAttributes     :    0x2 Bulk\n",
      "       wMaxPacketSize   :   0x40 (64 bytes)\n",
      "       bInterval        :    0x1\n",
      "      ENDPOINT 0x83: Bulk IN ===============================\n",
      "       bLength          :    0x7 (7 bytes)\n",
      "       bDescriptorType  :    0x5 Endpoint\n",
      "       bEndpointAddress :   0x83 IN\n",
      "       bmAttributes     :    0x2 Bulk\n",
      "       wMaxPacketSize   :   0x40 (64 bytes)\n",
      "       bInterval        :    0x1\n",
      "      ENDPOINT 0x4: Bulk OUT ===============================\n",
      "       bLength          :    0x7 (7 bytes)\n",
      "       bDescriptorType  :    0x5 Endpoint\n",
      "       bEndpointAddress :    0x4 OUT\n",
      "       bmAttributes     :    0x2 Bulk\n",
      "       wMaxPacketSize   :   0x40 (64 bytes)\n",
      "       bInterval        :    0x1\n",
      "      ENDPOINT 0x84: Bulk IN ===============================\n",
      "       bLength          :    0x7 (7 bytes)\n",
      "       bDescriptorType  :    0x5 Endpoint\n",
      "       bEndpointAddress :   0x84 IN\n",
      "       bmAttributes     :    0x2 Bulk\n",
      "       wMaxPacketSize   :   0x40 (64 bytes)\n",
      "       bInterval        :    0x1\n",
      "      ENDPOINT 0x5: Bulk OUT ===============================\n",
      "       bLength          :    0x7 (7 bytes)\n",
      "       bDescriptorType  :    0x5 Endpoint\n",
      "       bEndpointAddress :    0x5 OUT\n",
      "       bmAttributes     :    0x2 Bulk\n",
      "       wMaxPacketSize   :   0x40 (64 bytes)\n",
      "       bInterval        :    0x1\n",
      "      ENDPOINT 0x85: Bulk IN ===============================\n",
      "       bLength          :    0x7 (7 bytes)\n",
      "       bDescriptorType  :    0x5 Endpoint\n",
      "       bEndpointAddress :   0x85 IN\n",
      "       bmAttributes     :    0x2 Bulk\n",
      "       wMaxPacketSize   :   0x40 (64 bytes)\n",
      "       bInterval        :    0x1\n",
      "      ENDPOINT 0x6: Bulk OUT ===============================\n",
      "       bLength          :    0x7 (7 bytes)\n",
      "       bDescriptorType  :    0x5 Endpoint\n",
      "       bEndpointAddress :    0x6 OUT\n",
      "       bmAttributes     :    0x2 Bulk\n",
      "       wMaxPacketSize   :   0x40 (64 bytes)\n",
      "       bInterval        :    0x1\n",
      "      ENDPOINT 0x86: Bulk IN ===============================\n",
      "       bLength          :    0x7 (7 bytes)\n",
      "       bDescriptorType  :    0x5 Endpoint\n",
      "       bEndpointAddress :   0x86 IN\n",
      "       bmAttributes     :    0x2 Bulk\n",
      "       wMaxPacketSize   :   0x40 (64 bytes)\n",
      "       bInterval        :    0x1\n"
     ]
    }
   ],
   "source": [
    "#show all available devices\n",
    "# print(usb.core.show_devices())\n",
    "devices = usb.core.find(find_all=True)\n",
    "for device in devices:\n",
    "    print(device)"
   ]
  },
  {
   "cell_type": "code",
   "execution_count": 2,
   "metadata": {},
   "outputs": [
    {
     "ename": "ValueError",
     "evalue": "Device not found",
     "output_type": "error",
     "traceback": [
      "\u001b[1;31m---------------------------------------------------------------------------\u001b[0m",
      "\u001b[1;31mValueError\u001b[0m                                Traceback (most recent call last)",
      "Cell \u001b[1;32mIn[2], line 6\u001b[0m\n\u001b[0;32m      4\u001b[0m \u001b[39m# was it found?\u001b[39;00m\n\u001b[0;32m      5\u001b[0m \u001b[39mif\u001b[39;00m dev \u001b[39mis\u001b[39;00m \u001b[39mNone\u001b[39;00m:\n\u001b[1;32m----> 6\u001b[0m     \u001b[39mraise\u001b[39;00m \u001b[39mValueError\u001b[39;00m(\u001b[39m'\u001b[39m\u001b[39mDevice not found\u001b[39m\u001b[39m'\u001b[39m)\n",
      "\u001b[1;31mValueError\u001b[0m: Device not found"
     ]
    }
   ],
   "source": [
    "\n",
    "# find our device\n",
    "dev = usb.core.find(idVendor=0x04D8, idProduct=0x0053)\n",
    "\n",
    "# was it found?\n",
    "if dev is None:\n",
    "    raise ValueError('Device not found')\n"
   ]
  },
  {
   "cell_type": "code",
   "execution_count": 3,
   "metadata": {},
   "outputs": [
    {
     "ename": "AttributeError",
     "evalue": "'NoneType' object has no attribute '__del__'",
     "output_type": "error",
     "traceback": [
      "\u001b[1;31m---------------------------------------------------------------------------\u001b[0m",
      "\u001b[1;31mAttributeError\u001b[0m                            Traceback (most recent call last)",
      "Cell \u001b[1;32mIn[3], line 1\u001b[0m\n\u001b[1;32m----> 1\u001b[0m dev\u001b[39m.\u001b[39;49m\u001b[39m__del__\u001b[39;49m()\n",
      "\u001b[1;31mAttributeError\u001b[0m: 'NoneType' object has no attribute '__del__'"
     ]
    }
   ],
   "source": [
    "dev.__del__()"
   ]
  },
  {
   "cell_type": "code",
   "execution_count": 9,
   "metadata": {},
   "outputs": [
    {
     "ename": "USBError",
     "evalue": "[Errno None] b'libusb0-dll:err [claim_interface] could not claim interface 0, invalid configuration 0\\n'",
     "output_type": "error",
     "traceback": [
      "\u001b[1;31m---------------------------------------------------------------------------\u001b[0m",
      "\u001b[1;31mUSBError\u001b[0m                                  Traceback (most recent call last)",
      "Cell \u001b[1;32mIn[9], line 3\u001b[0m\n\u001b[0;32m      1\u001b[0m \u001b[39m# Connect to the Canalyst-II device\u001b[39;00m\n\u001b[0;32m      2\u001b[0m \u001b[39m# Passing a bitrate to the constructor causes both channels to be initialized and started.\u001b[39;00m\n\u001b[1;32m----> 3\u001b[0m dev \u001b[39m=\u001b[39m canalystii\u001b[39m.\u001b[39;49mCanalystDevice(bitrate\u001b[39m=\u001b[39;49m\u001b[39m500000\u001b[39;49m)\n",
      "File \u001b[1;32mc:\\Python311\\Lib\\site-packages\\canalystii\\device.py:92\u001b[0m, in \u001b[0;36mCanalystDevice.__init__\u001b[1;34m(self, device_index, usb_device, bitrate, timing0, timing1)\u001b[0m\n\u001b[0;32m     86\u001b[0m     logger\u001b[39m.\u001b[39mwarning(\n\u001b[0;32m     87\u001b[0m         \u001b[39mf\u001b[39m\u001b[39m\"\u001b[39m\u001b[39mUnexpected endpoint count \u001b[39m\u001b[39m{\u001b[39;00m\u001b[39mlen\u001b[39m(endpoints)\u001b[39m}\u001b[39;00m\u001b[39m. Firmware version mayb e unsupported.\u001b[39m\u001b[39m\"\u001b[39m\n\u001b[0;32m     88\u001b[0m     )\n\u001b[0;32m     90\u001b[0m \u001b[39mif\u001b[39;00m bitrate \u001b[39mis\u001b[39;00m \u001b[39mnot\u001b[39;00m \u001b[39mNone\u001b[39;00m \u001b[39mor\u001b[39;00m timing0 \u001b[39mis\u001b[39;00m \u001b[39mnot\u001b[39;00m \u001b[39mNone\u001b[39;00m:\n\u001b[0;32m     91\u001b[0m     \u001b[39m# if not specified, don't initialize yet\u001b[39;00m\n\u001b[1;32m---> 92\u001b[0m     \u001b[39mself\u001b[39;49m\u001b[39m.\u001b[39;49minit(\u001b[39m0\u001b[39;49m, bitrate, timing0, timing1)\n\u001b[0;32m     93\u001b[0m     \u001b[39mself\u001b[39m\u001b[39m.\u001b[39minit(\u001b[39m1\u001b[39m, bitrate, timing0, timing1)\n",
      "File \u001b[1;32mc:\\Python311\\Lib\\site-packages\\canalystii\\device.py:208\u001b[0m, in \u001b[0;36mCanalystDevice.init\u001b[1;34m(self, channel, bitrate, timing0, timing1, start)\u001b[0m\n\u001b[0;32m    194\u001b[0m     \u001b[39mraise\u001b[39;00m \u001b[39mValueError\u001b[39;00m(\n\u001b[0;32m    195\u001b[0m         \u001b[39m\"\u001b[39m\u001b[39mTo set raw timings, both timing0 and timing1 parameters are required\u001b[39m\u001b[39m\"\u001b[39m\n\u001b[0;32m    196\u001b[0m     )\n\u001b[0;32m    198\u001b[0m init_packet \u001b[39m=\u001b[39m protocol\u001b[39m.\u001b[39mInitCommand(\n\u001b[0;32m    199\u001b[0m     command\u001b[39m=\u001b[39mprotocol\u001b[39m.\u001b[39mCOMMAND_INIT,\n\u001b[0;32m    200\u001b[0m     acc_code\u001b[39m=\u001b[39m\u001b[39m0x1\u001b[39m,\n\u001b[1;32m   (...)\u001b[0m\n\u001b[0;32m    206\u001b[0m     unknown2\u001b[39m=\u001b[39m\u001b[39m0x1\u001b[39m,\n\u001b[0;32m    207\u001b[0m )  \u001b[39m# placeholder\u001b[39;00m\n\u001b[1;32m--> 208\u001b[0m \u001b[39mself\u001b[39;49m\u001b[39m.\u001b[39;49msend_command(channel, init_packet)\n\u001b[0;32m    209\u001b[0m \u001b[39mself\u001b[39m\u001b[39m.\u001b[39m_initialized[channel] \u001b[39m=\u001b[39m \u001b[39mTrue\u001b[39;00m\n\u001b[0;32m    210\u001b[0m \u001b[39mself\u001b[39m\u001b[39m.\u001b[39mstart(channel)\n",
      "File \u001b[1;32mc:\\Python311\\Lib\\site-packages\\canalystii\\device.py:155\u001b[0m, in \u001b[0;36mCanalystDevice.send_command\u001b[1;34m(self, channel, command_packet, response_class)\u001b[0m\n\u001b[0;32m    145\u001b[0m \u001b[39m\u001b[39m\u001b[39m\"\"\"Low-level function to send a command packet to the channel and optionally wait for a response.\u001b[39;00m\n\u001b[0;32m    146\u001b[0m \n\u001b[0;32m    147\u001b[0m \u001b[39m:param channel: Channel (0 or 1) to flush the TX buffer on.\u001b[39;00m\n\u001b[1;32m   (...)\u001b[0m\n\u001b[0;32m    152\u001b[0m \u001b[39m   object of this type.\u001b[39;00m\n\u001b[0;32m    153\u001b[0m \u001b[39m\"\"\"\u001b[39;00m\n\u001b[0;32m    154\u001b[0m ep \u001b[39m=\u001b[39m CHANNEL_TO_COMMAND_EP[channel]\n\u001b[1;32m--> 155\u001b[0m \u001b[39mself\u001b[39;49m\u001b[39m.\u001b[39;49m_dev\u001b[39m.\u001b[39;49mwrite(ep, \u001b[39mmemoryview\u001b[39;49m(command_packet)\u001b[39m.\u001b[39;49mcast(\u001b[39m\"\u001b[39;49m\u001b[39mB\u001b[39;49m\u001b[39m\"\u001b[39;49m))\n\u001b[0;32m    156\u001b[0m \u001b[39mif\u001b[39;00m response_class:\n\u001b[0;32m    157\u001b[0m     response \u001b[39m=\u001b[39m \u001b[39mself\u001b[39m\u001b[39m.\u001b[39m_dev\u001b[39m.\u001b[39mread(ep \u001b[39m|\u001b[39m \u001b[39m0x80\u001b[39m, \u001b[39m0x40\u001b[39m)\n",
      "File \u001b[1;32mc:\\Python311\\Lib\\site-packages\\usb\\core.py:986\u001b[0m, in \u001b[0;36mDevice.write\u001b[1;34m(self, endpoint, data, timeout)\u001b[0m\n\u001b[0;32m    978\u001b[0m backend \u001b[39m=\u001b[39m \u001b[39mself\u001b[39m\u001b[39m.\u001b[39m_ctx\u001b[39m.\u001b[39mbackend\n\u001b[0;32m    980\u001b[0m fn_map \u001b[39m=\u001b[39m {\n\u001b[0;32m    981\u001b[0m             util\u001b[39m.\u001b[39mENDPOINT_TYPE_BULK:backend\u001b[39m.\u001b[39mbulk_write,\n\u001b[0;32m    982\u001b[0m             util\u001b[39m.\u001b[39mENDPOINT_TYPE_INTR:backend\u001b[39m.\u001b[39mintr_write,\n\u001b[0;32m    983\u001b[0m             util\u001b[39m.\u001b[39mENDPOINT_TYPE_ISO:backend\u001b[39m.\u001b[39miso_write\n\u001b[0;32m    984\u001b[0m         }\n\u001b[1;32m--> 986\u001b[0m intf, ep \u001b[39m=\u001b[39m \u001b[39mself\u001b[39;49m\u001b[39m.\u001b[39;49m_ctx\u001b[39m.\u001b[39;49msetup_request(\u001b[39mself\u001b[39;49m, endpoint)\n\u001b[0;32m    987\u001b[0m fn \u001b[39m=\u001b[39m fn_map[util\u001b[39m.\u001b[39mendpoint_type(ep\u001b[39m.\u001b[39mbmAttributes)]\n\u001b[0;32m    989\u001b[0m \u001b[39mreturn\u001b[39;00m fn(\n\u001b[0;32m    990\u001b[0m         \u001b[39mself\u001b[39m\u001b[39m.\u001b[39m_ctx\u001b[39m.\u001b[39mhandle,\n\u001b[0;32m    991\u001b[0m         ep\u001b[39m.\u001b[39mbEndpointAddress,\n\u001b[1;32m   (...)\u001b[0m\n\u001b[0;32m    994\u001b[0m         \u001b[39mself\u001b[39m\u001b[39m.\u001b[39m__get_timeout(timeout)\n\u001b[0;32m    995\u001b[0m     )\n",
      "File \u001b[1;32mc:\\Python311\\Lib\\site-packages\\usb\\core.py:113\u001b[0m, in \u001b[0;36msynchronized.<locals>.wrapper\u001b[1;34m(self, *args, **kwargs)\u001b[0m\n\u001b[0;32m    111\u001b[0m \u001b[39mtry\u001b[39;00m:\n\u001b[0;32m    112\u001b[0m     \u001b[39mself\u001b[39m\u001b[39m.\u001b[39mlock\u001b[39m.\u001b[39macquire()\n\u001b[1;32m--> 113\u001b[0m     \u001b[39mreturn\u001b[39;00m f(\u001b[39mself\u001b[39;49m, \u001b[39m*\u001b[39;49margs, \u001b[39m*\u001b[39;49m\u001b[39m*\u001b[39;49mkwargs)\n\u001b[0;32m    114\u001b[0m \u001b[39mfinally\u001b[39;00m:\n\u001b[0;32m    115\u001b[0m     \u001b[39mself\u001b[39m\u001b[39m.\u001b[39mlock\u001b[39m.\u001b[39mrelease()\n",
      "File \u001b[1;32mc:\\Python311\\Lib\\site-packages\\usb\\core.py:229\u001b[0m, in \u001b[0;36m_ResourceManager.setup_request\u001b[1;34m(self, device, endpoint)\u001b[0m\n\u001b[0;32m    226\u001b[0m     endpoint_address \u001b[39m=\u001b[39m endpoint\n\u001b[0;32m    228\u001b[0m intf, ep \u001b[39m=\u001b[39m \u001b[39mself\u001b[39m\u001b[39m.\u001b[39mget_interface_and_endpoint(device, endpoint_address)\n\u001b[1;32m--> 229\u001b[0m \u001b[39mself\u001b[39;49m\u001b[39m.\u001b[39;49mmanaged_claim_interface(device, intf)\n\u001b[0;32m    230\u001b[0m \u001b[39mreturn\u001b[39;00m (intf, ep)\n",
      "File \u001b[1;32mc:\\Python311\\Lib\\site-packages\\usb\\core.py:113\u001b[0m, in \u001b[0;36msynchronized.<locals>.wrapper\u001b[1;34m(self, *args, **kwargs)\u001b[0m\n\u001b[0;32m    111\u001b[0m \u001b[39mtry\u001b[39;00m:\n\u001b[0;32m    112\u001b[0m     \u001b[39mself\u001b[39m\u001b[39m.\u001b[39mlock\u001b[39m.\u001b[39macquire()\n\u001b[1;32m--> 113\u001b[0m     \u001b[39mreturn\u001b[39;00m f(\u001b[39mself\u001b[39;49m, \u001b[39m*\u001b[39;49margs, \u001b[39m*\u001b[39;49m\u001b[39m*\u001b[39;49mkwargs)\n\u001b[0;32m    114\u001b[0m \u001b[39mfinally\u001b[39;00m:\n\u001b[0;32m    115\u001b[0m     \u001b[39mself\u001b[39m\u001b[39m.\u001b[39mlock\u001b[39m.\u001b[39mrelease()\n",
      "File \u001b[1;32mc:\\Python311\\Lib\\site-packages\\usb\\core.py:178\u001b[0m, in \u001b[0;36m_ResourceManager.managed_claim_interface\u001b[1;34m(self, device, intf)\u001b[0m\n\u001b[0;32m    175\u001b[0m     i \u001b[39m=\u001b[39m intf\n\u001b[0;32m    177\u001b[0m \u001b[39mif\u001b[39;00m i \u001b[39mnot\u001b[39;00m \u001b[39min\u001b[39;00m \u001b[39mself\u001b[39m\u001b[39m.\u001b[39m_claimed_intf:\n\u001b[1;32m--> 178\u001b[0m     \u001b[39mself\u001b[39;49m\u001b[39m.\u001b[39;49mbackend\u001b[39m.\u001b[39;49mclaim_interface(\u001b[39mself\u001b[39;49m\u001b[39m.\u001b[39;49mhandle, i)\n\u001b[0;32m    179\u001b[0m     \u001b[39mself\u001b[39m\u001b[39m.\u001b[39m_claimed_intf\u001b[39m.\u001b[39madd(i)\n",
      "File \u001b[1;32mc:\\Python311\\Lib\\site-packages\\usb\\backend\\libusb0.py:537\u001b[0m, in \u001b[0;36m_LibUSB.claim_interface\u001b[1;34m(self, dev_handle, intf)\u001b[0m\n\u001b[0;32m    535\u001b[0m \u001b[39m@methodtrace\u001b[39m(_logger)\n\u001b[0;32m    536\u001b[0m \u001b[39mdef\u001b[39;00m \u001b[39mclaim_interface\u001b[39m(\u001b[39mself\u001b[39m, dev_handle, intf):\n\u001b[1;32m--> 537\u001b[0m     _check(_lib\u001b[39m.\u001b[39;49musb_claim_interface(dev_handle, intf))\n",
      "File \u001b[1;32mc:\\Python311\\Lib\\site-packages\\usb\\backend\\libusb0.py:447\u001b[0m, in \u001b[0;36m_check\u001b[1;34m(ret)\u001b[0m\n\u001b[0;32m    445\u001b[0m \u001b[39mif\u001b[39;00m ret \u001b[39mis\u001b[39;00m \u001b[39mnot\u001b[39;00m \u001b[39mNone\u001b[39;00m \u001b[39mand\u001b[39;00m \u001b[39m-\u001b[39mret \u001b[39m==\u001b[39m errno\u001b[39m.\u001b[39mETIMEDOUT:\n\u001b[0;32m    446\u001b[0m     \u001b[39mraise\u001b[39;00m USBTimeoutError(errmsg, ret, \u001b[39m-\u001b[39mret)\n\u001b[1;32m--> 447\u001b[0m \u001b[39mraise\u001b[39;00m USBError(errmsg, ret)\n",
      "\u001b[1;31mUSBError\u001b[0m: [Errno None] b'libusb0-dll:err [claim_interface] could not claim interface 0, invalid configuration 0\\n'"
     ]
    }
   ],
   "source": [
    "# Connect to the Canalyst-II device\n",
    "# Passing a bitrate to the constructor causes both channels to be initialized and started.\n",
    "dev = canalystii.CanalystDevice(bitrate=500000)\n",
    "\n"
   ]
  },
  {
   "cell_type": "code",
   "execution_count": 7,
   "metadata": {},
   "outputs": [],
   "source": [
    "# The canalystii.Message class is a ctypes Structure, to minimize overhead\n",
    "new_message = canalystii.Message(can_id=0x300,\n",
    "                                 remote=False,\n",
    "                                 extended=False,\n",
    "                                 data_len=8,\n",
    "                                 data=(0x01,0x02,0x03,0x04,0x05,0x06,0x07,0x08))\n",
    "# Send one copy to channel 1\n",
    "dev.send(1, new_message)\n",
    "# Send 3 copies to channel 0\n",
    "# (argument can be an instance of canalystii.Message or a list of instances)\n",
    "dev.send(0, [new_message] * 3)"
   ]
  },
  {
   "cell_type": "code",
   "execution_count": 8,
   "metadata": {},
   "outputs": [
    {
     "data": {
      "text/plain": [
       "True"
      ]
     },
     "execution_count": 8,
     "metadata": {},
     "output_type": "execute_result"
    }
   ],
   "source": [
    "dev.flush_tx_buffer(0)\n",
    "dev.flush_tx_buffer(1)"
   ]
  },
  {
   "cell_type": "code",
   "execution_count": 9,
   "metadata": {},
   "outputs": [
    {
     "name": "stdout",
     "output_type": "stream",
     "text": [
      "[CanalystMessage ID=0x300 TS=0xa3219 Data=0102030405060708, CanalystMessage ID=0x300 TS=0x2486790 Data=0102030405060708]\n",
      "[CanalystMessage ID=0x300 TS=0xa3223 Data=0102030405060708, CanalystMessage ID=0x300 TS=0xa3225 Data=0102030405060708, CanalystMessage ID=0x300 TS=0xa3228 Data=0102030405060708, CanalystMessage ID=0x300 TS=0x2486793 Data=0102030405060708, CanalystMessage ID=0x300 TS=0x2486796 Data=0102030405060708, CanalystMessage ID=0x300 TS=0x2486798 Data=0102030405060708]\n"
     ]
    }
   ],
   "source": [
    "#read the data\n",
    "data = dev.receive(0)\n",
    "print(data)\n",
    "data = dev.receive(1)\n",
    "print(data)"
   ]
  },
  {
   "cell_type": "code",
   "execution_count": 47,
   "metadata": {},
   "outputs": [],
   "source": [
    "import json\n",
    "import ctypes"
   ]
  },
  {
   "cell_type": "code",
   "execution_count": 69,
   "metadata": {},
   "outputs": [],
   "source": [
    "\n",
    "#convert data to 8 bit array\n",
    "def convert_data(data):\n",
    "    arr = []\n",
    "    #every 8 bits\n",
    "    for i in range(0, len(data), 8):\n",
    "        #every 8 bits\n",
    "        arr.append((ctypes.c_ubyte * 8)(*[ctypes.c_ubyte(ord(c)) for c in data[i:i+8]]))\n",
    "    return arr\n",
    "\n",
    "def reconstruct_data(data):\n",
    "    data = [chr(i) for i in data]\n",
    "    return ''.join(data)\n",
    "\n",
    "def send_message(data : ctypes.c_ubyte):\n",
    "    new_message = canalystii.Message(can_id=0x300,\n",
    "                                 remote=False,\n",
    "                                 extended=False,\n",
    "                                 data_len=len(data),\n",
    "                                 data=data)\n",
    "    dev.send(1, new_message)\n",
    "\n",
    "\n",
    "\n"
   ]
  },
  {
   "cell_type": "code",
   "execution_count": 73,
   "metadata": {},
   "outputs": [],
   "source": [
    "data = {\n",
    "    'ccs18_temp': 0,\n",
    "    'ccs18_co2': 0,\n",
    "    'ccs18_tvoc': 0,\n",
    "    'dht11_temp': 0,\n",
    "    'dht11_humid': 0,\n",
    "}\n",
    "\n",
    "\n",
    "\n",
    "#show data as hex\n",
    "d = convert_data(data)\n"
   ]
  },
  {
   "cell_type": "code",
   "execution_count": 87,
   "metadata": {},
   "outputs": [
    {
     "name": "stdout",
     "output_type": "stream",
     "text": [
      "{\"ccs18_temp\": 0, \"ccs18_co2\": 0, \"ccs18_tvoc\": 0, \"dht11_temp\": 0, \"dht11_humid\": 0}\u0000\u0000\u0000"
     ]
    }
   ],
   "source": [
    "#print value as char\n",
    "for i in range(len(d)):\n",
    "    for i in d[i]:\n",
    "        print(chr(i), end='')"
   ]
  },
  {
   "cell_type": "code",
   "execution_count": 86,
   "metadata": {},
   "outputs": [
    {
     "name": "stdout",
     "output_type": "stream",
     "text": [
      "0x7b2263637331385f\n",
      "0x74656d70223a2030\n",
      "0x2c20226363733138\n",
      "0x5f636f32223a2030\n",
      "0x2c20226363733138\n",
      "0x5f74766f63223a20\n",
      "0x302c202264687431\n",
      "0x315f74656d70223a\n",
      "0x20302c2022646874\n",
      "0x31315f68756d6964\n",
      "0x223a20307d000\n"
     ]
    }
   ],
   "source": [
    "for i in range(len(d)):\n",
    "    print('0x', end='')\n",
    "    for i in d[i]:\n",
    "        print(hex(i).replace('0x', ''), end='')   \n",
    "    print('')"
   ]
  },
  {
   "cell_type": "code",
   "execution_count": 103,
   "metadata": {},
   "outputs": [
    {
     "ename": "USBError",
     "evalue": "[Errno None] b'libusb0-dll:err [submit_async] submitting request failed, win error: The device does not recognize the command.\\r\\n'",
     "output_type": "error",
     "traceback": [
      "\u001b[1;31m---------------------------------------------------------------------------\u001b[0m",
      "\u001b[1;31mUSBError\u001b[0m                                  Traceback (most recent call last)",
      "Cell \u001b[1;32mIn[103], line 3\u001b[0m\n\u001b[0;32m      1\u001b[0m \u001b[39m#send data\u001b[39;00m\n\u001b[0;32m      2\u001b[0m \u001b[39mfor\u001b[39;00m i \u001b[39min\u001b[39;00m \u001b[39mrange\u001b[39m(\u001b[39mlen\u001b[39m(d)):\n\u001b[1;32m----> 3\u001b[0m     send_message(d[i])\n",
      "Cell \u001b[1;32mIn[69], line 23\u001b[0m, in \u001b[0;36msend_message\u001b[1;34m(data)\u001b[0m\n\u001b[0;32m     17\u001b[0m \u001b[39mdef\u001b[39;00m \u001b[39msend_message\u001b[39m(data : ctypes\u001b[39m.\u001b[39mc_ubyte):\n\u001b[0;32m     18\u001b[0m     new_message \u001b[39m=\u001b[39m canalystii\u001b[39m.\u001b[39mMessage(can_id\u001b[39m=\u001b[39m\u001b[39m0x300\u001b[39m,\n\u001b[0;32m     19\u001b[0m                                  remote\u001b[39m=\u001b[39m\u001b[39mFalse\u001b[39;00m,\n\u001b[0;32m     20\u001b[0m                                  extended\u001b[39m=\u001b[39m\u001b[39mFalse\u001b[39;00m,\n\u001b[0;32m     21\u001b[0m                                  data_len\u001b[39m=\u001b[39m\u001b[39mlen\u001b[39m(data),\n\u001b[0;32m     22\u001b[0m                                  data\u001b[39m=\u001b[39mdata)\n\u001b[1;32m---> 23\u001b[0m     dev\u001b[39m.\u001b[39;49msend(\u001b[39m1\u001b[39;49m, new_message)\n",
      "File \u001b[1;32mc:\\Python311\\Lib\\site-packages\\canalystii\\device.py:305\u001b[0m, in \u001b[0;36mCanalystDevice.send\u001b[1;34m(self, channel, messages, flush_timeout)\u001b[0m\n\u001b[0;32m    302\u001b[0m     buffers[buf_idx]\u001b[39m.\u001b[39mmessages[idx \u001b[39m%\u001b[39m \u001b[39m3\u001b[39m] \u001b[39m=\u001b[39m msg\n\u001b[0;32m    304\u001b[0m message_ep \u001b[39m=\u001b[39m CHANNEL_TO_MESSAGE_EP[channel]\n\u001b[1;32m--> 305\u001b[0m \u001b[39mself\u001b[39;49m\u001b[39m.\u001b[39;49m_dev\u001b[39m.\u001b[39;49mwrite(message_ep, \u001b[39mmemoryview\u001b[39;49m(buffers)\u001b[39m.\u001b[39;49mcast(\u001b[39m\"\u001b[39;49m\u001b[39mB\u001b[39;49m\u001b[39m\"\u001b[39;49m))\n\u001b[0;32m    307\u001b[0m \u001b[39mif\u001b[39;00m flush_timeout \u001b[39mis\u001b[39;00m \u001b[39mnot\u001b[39;00m \u001b[39mNone\u001b[39;00m:\n\u001b[0;32m    308\u001b[0m     \u001b[39mreturn\u001b[39;00m \u001b[39mself\u001b[39m\u001b[39m.\u001b[39mflush_tx_buffer(channel, flush_timeout)\n",
      "File \u001b[1;32mc:\\Python311\\Lib\\site-packages\\usb\\core.py:989\u001b[0m, in \u001b[0;36mDevice.write\u001b[1;34m(self, endpoint, data, timeout)\u001b[0m\n\u001b[0;32m    986\u001b[0m intf, ep \u001b[39m=\u001b[39m \u001b[39mself\u001b[39m\u001b[39m.\u001b[39m_ctx\u001b[39m.\u001b[39msetup_request(\u001b[39mself\u001b[39m, endpoint)\n\u001b[0;32m    987\u001b[0m fn \u001b[39m=\u001b[39m fn_map[util\u001b[39m.\u001b[39mendpoint_type(ep\u001b[39m.\u001b[39mbmAttributes)]\n\u001b[1;32m--> 989\u001b[0m \u001b[39mreturn\u001b[39;00m fn(\n\u001b[0;32m    990\u001b[0m         \u001b[39mself\u001b[39;49m\u001b[39m.\u001b[39;49m_ctx\u001b[39m.\u001b[39;49mhandle,\n\u001b[0;32m    991\u001b[0m         ep\u001b[39m.\u001b[39;49mbEndpointAddress,\n\u001b[0;32m    992\u001b[0m         intf\u001b[39m.\u001b[39;49mbInterfaceNumber,\n\u001b[0;32m    993\u001b[0m         _interop\u001b[39m.\u001b[39;49mas_array(data),\n\u001b[0;32m    994\u001b[0m         \u001b[39mself\u001b[39;49m\u001b[39m.\u001b[39;49m__get_timeout(timeout)\n\u001b[0;32m    995\u001b[0m     )\n",
      "File \u001b[1;32mc:\\Python311\\Lib\\site-packages\\usb\\backend\\libusb0.py:545\u001b[0m, in \u001b[0;36m_LibUSB.bulk_write\u001b[1;34m(self, dev_handle, ep, intf, data, timeout)\u001b[0m\n\u001b[0;32m    543\u001b[0m \u001b[39m@methodtrace\u001b[39m(_logger)\n\u001b[0;32m    544\u001b[0m \u001b[39mdef\u001b[39;00m \u001b[39mbulk_write\u001b[39m(\u001b[39mself\u001b[39m, dev_handle, ep, intf, data, timeout):\n\u001b[1;32m--> 545\u001b[0m     \u001b[39mreturn\u001b[39;00m \u001b[39mself\u001b[39;49m\u001b[39m.\u001b[39;49m__write(_lib\u001b[39m.\u001b[39;49musb_bulk_write,\n\u001b[0;32m    546\u001b[0m                         dev_handle,\n\u001b[0;32m    547\u001b[0m                         ep,\n\u001b[0;32m    548\u001b[0m                         intf,\n\u001b[0;32m    549\u001b[0m                         data, timeout)\n",
      "File \u001b[1;32mc:\\Python311\\Lib\\site-packages\\usb\\backend\\libusb0.py:681\u001b[0m, in \u001b[0;36m_LibUSB.__write\u001b[1;34m(self, fn, dev_handle, ep, intf, data, timeout)\u001b[0m\n\u001b[0;32m    679\u001b[0m address, length \u001b[39m=\u001b[39m data\u001b[39m.\u001b[39mbuffer_info()\n\u001b[0;32m    680\u001b[0m length \u001b[39m*\u001b[39m\u001b[39m=\u001b[39m data\u001b[39m.\u001b[39mitemsize\n\u001b[1;32m--> 681\u001b[0m \u001b[39mreturn\u001b[39;00m \u001b[39mint\u001b[39m(_check(fn(\n\u001b[0;32m    682\u001b[0m                 dev_handle,\n\u001b[0;32m    683\u001b[0m                 ep,\n\u001b[0;32m    684\u001b[0m                 cast(address, c_char_p),\n\u001b[0;32m    685\u001b[0m                 length,\n\u001b[0;32m    686\u001b[0m                 timeout\n\u001b[0;32m    687\u001b[0m             )))\n",
      "File \u001b[1;32mc:\\Python311\\Lib\\site-packages\\usb\\backend\\libusb0.py:447\u001b[0m, in \u001b[0;36m_check\u001b[1;34m(ret)\u001b[0m\n\u001b[0;32m    445\u001b[0m \u001b[39mif\u001b[39;00m ret \u001b[39mis\u001b[39;00m \u001b[39mnot\u001b[39;00m \u001b[39mNone\u001b[39;00m \u001b[39mand\u001b[39;00m \u001b[39m-\u001b[39mret \u001b[39m==\u001b[39m errno\u001b[39m.\u001b[39mETIMEDOUT:\n\u001b[0;32m    446\u001b[0m     \u001b[39mraise\u001b[39;00m USBTimeoutError(errmsg, ret, \u001b[39m-\u001b[39mret)\n\u001b[1;32m--> 447\u001b[0m \u001b[39mraise\u001b[39;00m USBError(errmsg, ret)\n",
      "\u001b[1;31mUSBError\u001b[0m: [Errno None] b'libusb0-dll:err [submit_async] submitting request failed, win error: The device does not recognize the command.\\r\\n'"
     ]
    }
   ],
   "source": [
    "#send data\n",
    "for i in range(len(d)):\n",
    "    send_message(d[i])\n"
   ]
  },
  {
   "cell_type": "code",
   "execution_count": 100,
   "metadata": {},
   "outputs": [],
   "source": [
    "data = []\n",
    "while True:\n",
    "    try:\n",
    "        data_temp = dev.receive(1).data\n",
    "        if data_temp != None or data_temp != []:\n",
    "            data.append(data_temp)\n",
    "            print(data_temp)\n",
    "    except:\n",
    "        break"
   ]
  },
  {
   "cell_type": "code",
   "execution_count": 102,
   "metadata": {},
   "outputs": [
    {
     "ename": "IndexError",
     "evalue": "list index out of range",
     "output_type": "error",
     "traceback": [
      "\u001b[1;31m---------------------------------------------------------------------------\u001b[0m",
      "\u001b[1;31mIndexError\u001b[0m                                Traceback (most recent call last)",
      "Cell \u001b[1;32mIn[102], line 1\u001b[0m\n\u001b[1;32m----> 1\u001b[0m \u001b[39mprint\u001b[39m(data[\u001b[39m0\u001b[39;49m]())\n",
      "\u001b[1;31mIndexError\u001b[0m: list index out of range"
     ]
    }
   ],
   "source": [
    "print(data[0]())"
   ]
  },
  {
   "cell_type": "code",
   "execution_count": 95,
   "metadata": {},
   "outputs": [
    {
     "name": "stdout",
     "output_type": "stream",
     "text": [
      "[]\n"
     ]
    }
   ],
   "source": [
    "data = dev.receive(0)\n",
    "print(data)"
   ]
  },
  {
   "cell_type": "code",
   "execution_count": null,
   "metadata": {},
   "outputs": [],
   "source": [
    "\n",
    "\n",
    "\n",
    "#send data over can bus\n",
    "new_message = canalystii.Message(can_id=0x300,\n",
    "                                 remote=False,\n",
    "                                 extended=False,\n",
    "                                 data_len ="
   ]
  },
  {
   "cell_type": "code",
   "execution_count": null,
   "metadata": {},
   "outputs": [],
   "source": [
    "# Stop both channels (need to call start() again to resume capturing or send any messages)\n",
    "dev.stop(0)\n",
    "dev.stop(1)"
   ]
  }
 ],
 "metadata": {
  "kernelspec": {
   "display_name": "Python 3",
   "language": "python",
   "name": "python3"
  },
  "language_info": {
   "codemirror_mode": {
    "name": "ipython",
    "version": 3
   },
   "file_extension": ".py",
   "mimetype": "text/x-python",
   "name": "python",
   "nbconvert_exporter": "python",
   "pygments_lexer": "ipython3",
   "version": "3.11.0"
  },
  "orig_nbformat": 4
 },
 "nbformat": 4,
 "nbformat_minor": 2
}
